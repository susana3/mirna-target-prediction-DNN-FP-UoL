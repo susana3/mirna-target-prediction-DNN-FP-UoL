{
 "cells": [
  {
   "cell_type": "markdown",
   "source": [
    "#### Genome count of individual genes and transcripts\n",
    "The genome file is composed by entries that correspond to transcripts. Each gene can have one or more transcripts, hence the transcripts of a gene can be considered versions.\n"
   ],
   "metadata": {
    "collapsed": false
   }
  },
  {
   "cell_type": "code",
   "execution_count": 20,
   "outputs": [
    {
     "name": "stdout",
     "output_type": "stream",
     "text": [
      "Total number of unique genes: 32252\n",
      "Total number of transcripts: 53828\n"
     ]
    }
   ],
   "source": [
    "# Loads the genome FASTA file.\n",
    "with open('data/ath_genes/GCF_000001735.4_TAIR10.1_rna.fna') as f:\n",
    "    genome = f.read()\n",
    "    f.close()\n",
    "\n",
    "# Stores individual genes.\n",
    "genes = {}\n",
    "# Matches each transcript to the respective gene.\n",
    "for transcript in genome.split('>')[1: ]:\n",
    "    # Gets the name of the gene.\n",
    "    gene_name = transcript.split('\\n')[0].split('), ')[0].split(' (')[-1]\n",
    "    # Gets the specific transcript accession number (Nucleotide NCBI database accession).\n",
    "    transcript_acc = transcript.split('\\n')[0].split(' ')[0]\n",
    "    # Extracts the sequence.\n",
    "    transcript_seq = ''.join(transcript.split('\\n')[1: ])\n",
    "    # Stores the results per unique gene.\n",
    "    genes[gene_name] = [*genes[gene_name], f'{transcript_acc}*{transcript_seq}'] \\\n",
    "                       if gene_name in genes.keys() \\\n",
    "                       else [f'{transcript_acc}*{transcript_seq}']\n",
    "\n",
    "print(f'Total number of unique genes: {len(genes)}')\n",
    "print(f'Total number of transcripts: {sum([len(c) for c in genes.values()])}')\n"
   ],
   "metadata": {
    "collapsed": false,
    "ExecuteTime": {
     "end_time": "2023-07-02T16:36:28.652421Z",
     "start_time": "2023-07-02T16:36:27.969249Z"
    }
   }
  },
  {
   "cell_type": "markdown",
   "source": [
    "#### Check the number of transcripts per gene and their length"
   ],
   "metadata": {
    "collapsed": false
   }
  },
  {
   "cell_type": "code",
   "execution_count": null,
   "outputs": [],
   "source": [],
   "metadata": {
    "collapsed": false
   }
  }
 ],
 "metadata": {
  "kernelspec": {
   "display_name": "Python 3",
   "language": "python",
   "name": "python3"
  },
  "language_info": {
   "codemirror_mode": {
    "name": "ipython",
    "version": 2
   },
   "file_extension": ".py",
   "mimetype": "text/x-python",
   "name": "python",
   "nbconvert_exporter": "python",
   "pygments_lexer": "ipython2",
   "version": "2.7.6"
  }
 },
 "nbformat": 4,
 "nbformat_minor": 0
}
