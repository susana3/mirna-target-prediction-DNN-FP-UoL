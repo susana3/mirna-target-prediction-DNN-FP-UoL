{
 "cells": [
  {
   "cell_type": "markdown",
   "source": [
    "# miRNA-mRNA target prediction\n"
   ],
   "metadata": {
    "collapsed": false
   }
  },
  {
   "cell_type": "markdown",
   "source": [
    "### 1. Problem definition\n",
    "\n",
    "This project aims to <b>predict if an input pair of sequences (miRNA and mRNA) will interact</b>; given that the molecules interact, they constitute a pair, whereas if they do not interact, they are defined as non-pair.\n",
    "\n",
    "Since the mechanisms underlying the targeting process can differ between organisms, this study is <b>focused on the A. thaliana organism</b>. This is a model organism, meaning that the results obtained can be extrapolated to other plants; furthermore, they can be used to understand human diseases due to the conservation of protein function, conservation of cellular processes, and the high percentage of genes shared between both species [31, 32].\n",
    "\n",
    "Considering the above, this problem can be shaped as a <b>binary classification problem</b>, where 0 means non-pair and 1 represents a pair.\n",
    "\n",
    "The data proposed to train a DNN able to distinguish between pair and non-pair RNA sequences consists of curated interactions that are publicly available and reported in the literature [14].\n",
    "\n",
    "Although such miRNA-mRNA interacting pairs can be used to train the network, they represent only positive examples that were tested experimentally either in vivo or in vitra. This implies that the <b>available datasets are unbalanced</b>, and denotes the need to incorporate negative data before proceeding."
   ],
   "metadata": {
    "collapsed": false
   }
  },
  {
   "cell_type": "markdown",
   "source": [
    "### 2. Dataset selection\n",
    "\n",
    "<b>Positive examples</b> of interactions were downloaded from MirTarBase [14] and PmiRen [34]. These databases were selected based on the following criteria.\n",
    "- A. thaliana miRNA/mRNA target interaction available.\n",
    "- Interactions are curated based on experimental evidence.\n",
    "- The databases are continuously maintained and updated.\n",
    "- The data is publicly available.\n",
    "[14, 34, 40]\n",
    "\n",
    "Validated <b>negative examples</b> are only available for H. sapiens. Using the available H. sapiens validated interactions [33], homologous sequences between A. thaliana and H. sapiens can be used to assemble a dataset."
   ],
   "metadata": {
    "collapsed": false
   }
  },
  {
   "cell_type": "markdown",
   "source": [
    "### 3. Success measures\n",
    "\n",
    "TODO\n"
   ],
   "metadata": {
    "collapsed": false
   }
  },
  {
   "cell_type": "markdown",
   "source": [
    "### 4. Evaluation protocols\n",
    "TODO\n"
   ],
   "metadata": {
    "collapsed": false
   }
  },
  {
   "cell_type": "markdown",
   "source": [
    "### 5. Data preparation\n",
    "In the context of this project, a negative example constitutes a pair of molecules (miRNA and mRNA) that do NOT interact. Given the lack of experimentally confirmed negative examples, the available datasets for target prediction are highly unbalanced, containing exclusively positive data (pairs that interact). To overcome this problem, a negative publicly available curated dataset for human (hsa) miRNA target prediction is proposed [33]. However, since this project proposal uses A. thaliana (ath) as organism to study, only the homologous and highly conserved genes across both organisms will be considered.\n",
    "\n",
    "The methodology and process of mapping those genes across organisms is presented in this section."
   ],
   "metadata": {
    "collapsed": false
   }
  },
  {
   "cell_type": "markdown",
   "source": [
    "#### 5.1. Negative dataset - Preprocessing\n",
    "\n",
    "For the preprocessing stage, the RefSeq IDs were converted into Gene symbol IDs using Genomics Biotools [35], then the invalid IDs and duplicates were removed from the dataset. The output files of this stage are:\n",
    "- `data/negative_targets_human.xlsx`\n",
    "- `data/negative_pairs/hsa_mirnas.txt`\n",
    "- `data/negative_pairs/hsa_targets.txt`\n"
   ],
   "metadata": {
    "collapsed": false
   }
  },
  {
   "cell_type": "markdown",
   "source": [
    "#### 5.2. Negative dataset - Methodology\n",
    "The methodology for preparing a negative dataset consists of:\n",
    "- Extracting the H. sapiens miRNA sequence.\n",
    "- Getting the H. sapiens target sequence.\n",
    "- Finding the homologous miRNA sequences in A. thaliana (pairwise alignment - Local [41]).\n",
    "- Getting the homologous target sequence in A. thaliana (pairwise alignment - Global [41]).\n",
    "- Matching the homologous miRNA and homologous targets.\n",
    "\n",
    "Since it is not guaranteed that the interaction miRNA-mRNA results will hold given the presence of gaps in the alignments, the opening of a gap in the alignment should be penalized as well as its size or extension.\n",
    "\n",
    "Furthermore, given the nature of the proposed research problem, where mature miRNA sequences have a length of 17-22 nucleotides and pair with binding sites of the same length in targets [2, 4], finding the exact sequences in homologous genes is more valuable than an overall high similarity using global alignments. Considering the above, local alignments are used in this project.\n"
   ],
   "metadata": {
    "collapsed": false
   }
  },
  {
   "cell_type": "markdown",
   "source": [
    "#### 5.3. Negative dataset - Dataset generation\n",
    "##### 5.3.1. Sequence extraction\n",
    "To extract the miRNA sequences, a dataset containing all known mature miRNA sequences was downloaded from miRBase [36], whereas to locate the target sequences, the full H. sapiens genome was used [37, 38].\n",
    "\n",
    "Once the sequences are extracted, they are integrated with the negative dataset [33]."
   ],
   "metadata": {
    "collapsed": false
   }
  },
  {
   "cell_type": "code",
   "execution_count": 1,
   "outputs": [
    {
     "name": "stdout",
     "output_type": "stream",
     "text": [
      "Total hsa miRNAs: 2655\n",
      "Total ath miRNAs: 350\n"
     ]
    }
   ],
   "source": [
    "# Load the FASTA file containing all known miRNA sequences for all organisms.\n",
    "with open('data/mature_mirna_all_organisms.fa') as f:\n",
    "    mature_mirnas = f.read().split('>')[1:]\n",
    "    f.close()\n",
    "\n",
    "# Isolate H. sapiens (hsa) and A. thaliana (ath) sequences.\n",
    "hsa_mature_mirnas_dict = {mirna.split(' ')[0]: mirna.split('\\n')[1]\n",
    "                          for mirna in mature_mirnas\n",
    "                          if 'hsa-' in mirna}\n",
    "\n",
    "ath_mature_mirnas_dict = {mirna.split('\\n')[1]: mirna.split(' ')[0]\n",
    "                          for mirna in mature_mirnas\n",
    "                          if 'ath-' in mirna}\n",
    "\n",
    "print(f'Total hsa miRNAs: {len(hsa_mature_mirnas_dict)}')\n",
    "print(f'Total ath miRNAs: {len(ath_mature_mirnas_dict)}')\n"
   ],
   "metadata": {
    "collapsed": false,
    "ExecuteTime": {
     "end_time": "2023-09-06T17:00:41.966934Z",
     "start_time": "2023-09-06T17:00:41.921254Z"
    }
   }
  },
  {
   "cell_type": "markdown",
   "source": [
    "In order to extract the similar sequences in A. thaliana, all the miRNAs must be aligned between both organisms. This implies that 953145 local pairwise alignments will occur, where each pair can have at least one possible alignment configuration. To optimize memory usage and performance, in the next section (5.3.3. Sequence matching - Homology search and pairwise alignment in A. thaliana) only the most relevant (best score) alignment configuration for each pair will be retrieved."
   ],
   "metadata": {
    "collapsed": false
   }
  },
  {
   "cell_type": "code",
   "execution_count": 2,
   "outputs": [],
   "source": [
    "# Load the list of miRNAs included in the negative dataset [33].\n",
    "with open('data/negative_pairs/hsa_mirnas.txt') as f:\n",
    "    hsa_negative_mirnas = f.read().split('\\n')\n",
    "    f.close()\n"
   ],
   "metadata": {
    "collapsed": false,
    "ExecuteTime": {
     "end_time": "2023-09-06T17:00:41.972424Z",
     "start_time": "2023-09-06T17:00:41.965901Z"
    }
   }
  },
  {
   "cell_type": "code",
   "execution_count": 3,
   "outputs": [],
   "source": [
    "# Match the negative dataset [1] miRNAs with the respective mature miRNA miRBase [3] sequence.\n",
    "hsa_negative_mirnas_seq = [hsa_mature_mirnas_dict[mirna]\n",
    "                           if mirna in hsa_mature_mirnas_dict.keys() else mirna\n",
    "                           for mirna in hsa_negative_mirnas]\n",
    "\n",
    "# Create a separate file holding only the sequences.\n",
    "with open('data/negative_pairs/hsa_mirnas_seq.txt', 'w') as f:\n",
    "    f.write('\\n'.join(hsa_negative_mirnas_seq))\n",
    "    f.close()\n"
   ],
   "metadata": {
    "collapsed": false,
    "ExecuteTime": {
     "end_time": "2023-09-06T17:00:41.982380Z",
     "start_time": "2023-09-06T17:00:41.976655Z"
    }
   }
  },
  {
   "cell_type": "code",
   "execution_count": 4,
   "outputs": [],
   "source": [
    "# Get the hsa target sequences from Human genome.\n",
    "with open('data/hsa/GCF_000001405.40_GRCh38.p14_rna.fna') as f:\n",
    "    hsa_genome = f.read().split('>')[1:]\n",
    "    f.close()\n",
    "\n",
    "hsa_genome_dict = {gene.split('\\n')[0].split('),')[0].split(' (')[-1]: ''.join(gene.split('\\n')[1:])\n",
    "                   for gene in hsa_genome}\n"
   ],
   "metadata": {
    "collapsed": false,
    "ExecuteTime": {
     "end_time": "2023-09-06T17:00:47.429831Z",
     "start_time": "2023-09-06T17:00:41.986040Z"
    }
   }
  },
  {
   "cell_type": "code",
   "execution_count": 5,
   "outputs": [],
   "source": [
    "# Get the list of hsa target genes included in the negative dataset.\n",
    "with open('data/negative_pairs/hsa_targets.txt') as f:\n",
    "    hsa_negative_targets = f.read().split('\\n')\n",
    "    f.close()\n"
   ],
   "metadata": {
    "collapsed": false,
    "ExecuteTime": {
     "end_time": "2023-09-06T17:00:47.437363Z",
     "start_time": "2023-09-06T17:00:47.430325Z"
    }
   }
  },
  {
   "cell_type": "code",
   "execution_count": 6,
   "outputs": [],
   "source": [
    "# Match the negative hsa target names with the respective sequence from the hsa genome [37, 38].\n",
    "hsa_negative_targets_seq = [hsa_genome_dict[target] if target in hsa_genome_dict.keys() else '-'\n",
    "                            for target in hsa_negative_targets]\n",
    "\n",
    "# Create a separate file holding only the target sequences.\n",
    "with open('data/negative_pairs/hsa_targets_seq.txt', 'w') as f:\n",
    "    f.write('\\n'.join(hsa_negative_targets_seq))\n",
    "    f.close()\n"
   ],
   "metadata": {
    "collapsed": false,
    "ExecuteTime": {
     "end_time": "2023-09-06T17:00:47.444226Z",
     "start_time": "2023-09-06T17:00:47.435084Z"
    }
   }
  },
  {
   "cell_type": "markdown",
   "source": [
    "##### 5.3.2. Sequence matching - Homology search and pairwise alignment in A. thaliana\n",
    "To create the negative dataset for A. thaliana organism, homologous sequences to those appearing in the H. sapiens dataset [33] will be considered. Potential target mRNA sequences from A. thaliana are extracted from the last released genome [29], and the respective mature miRNA sequences are downloaded from miRBase database [36].\n",
    "\n",
    "To compare the similarity between sequences, pairwise nucleotide local alignment is executed with gap penalty [41], and only sequences with final score >= 70% are stored in the new dataset. Since the gaps and mismatches are more important in miRNA comparisons, the penalties for gap opening and extension used for miRNA alignments are greater than those used for target comparisons.\n"
   ],
   "metadata": {
    "collapsed": false
   }
  },
  {
   "cell_type": "code",
   "execution_count": 7,
   "outputs": [],
   "source": [
    "import warnings\n",
    "warnings.filterwarnings('ignore')\n",
    "## TODO remove cell\n"
   ],
   "metadata": {
    "collapsed": false,
    "ExecuteTime": {
     "end_time": "2023-09-06T17:00:47.451281Z",
     "start_time": "2023-09-06T17:00:47.444625Z"
    }
   }
  },
  {
   "cell_type": "code",
   "execution_count": 8,
   "outputs": [
    {
     "name": "stderr",
     "output_type": "stream",
     "text": [
      "235it [00:03, 66.30it/s] "
     ]
    },
    {
     "name": "stdout",
     "output_type": "stream",
     "text": [
      "Total hsa miRNAs with at least one ath homologous: 9\n",
      "Total ath miRNAs homologous to a hsa miRNA: 11\n"
     ]
    },
    {
     "name": "stderr",
     "output_type": "stream",
     "text": [
      "\n"
     ]
    }
   ],
   "source": [
    "import gc\n",
    "from Bio import pairwise2\n",
    "from Bio.Seq import Seq\n",
    "from tqdm import tqdm\n",
    "\n",
    "# Alignment for hsa and ath miRNAs.\n",
    "matching_mirnas = {}\n",
    "hsa_mirnas_name_seq = zip(hsa_negative_mirnas, hsa_negative_mirnas_seq)\n",
    "for hsa_mirna_name, hsa_mirna_seq in tqdm(hsa_mirnas_name_seq):\n",
    "    # Checks that the hsa miRNA is not stored yet in the dict. This can happen because of the format of the original data, where each miRNA can target one or more mRNAs.\n",
    "    if hsa_mirna_name in matching_mirnas.keys():\n",
    "        continue\n",
    "\n",
    "    # Convert Human sequence into Byophyton Sequence object.\n",
    "    hsa_seq = Seq(hsa_mirna_seq)\n",
    "    hsa_len = len(hsa_mirna_seq)\n",
    "    for ath_mirna_seq, ath_mirna_name in ath_mature_mirnas_dict.items():\n",
    "        # Convert A. thaliana sequence into Byophyton Sequence object.\n",
    "        ath_seq = Seq(ath_mirna_seq)\n",
    "        # Performs the alignment.\n",
    "        try:\n",
    "            # Although the algorithm tries all the possible alignments, this part of the code filters and stores only the most relevant one (i.e., minimized gaps and maximized score).\n",
    "            # To speed up the calculations and optimize memory usage, the tested alignments are discarded and only the best score float is retrieved.\n",
    "            # The parameters for the local alignment include:\n",
    "            #   Matching nucleotides     =   +1 score points\n",
    "            #   Mismatching nucleotides  =   -2 score points\n",
    "            #   Opening a gap            =   -0.5 score points\n",
    "            #   Continuing the gap       =   -0.1 score points\n",
    "            # Note: The maximum score is the total length of the shortest sequence.\n",
    "            best_alignment_score = pairwise2.align.localms(hsa_seq, ath_seq,\n",
    "                                                           1, -2,\n",
    "                                                           -.5, -.1,\n",
    "                                                           score_only=True)\n",
    "\n",
    "            # Expresses the score as a percentage based on the shortest sequence.\n",
    "            ath_len = len(ath_mirna_seq)\n",
    "            shortest_len = min(hsa_len, ath_len)\n",
    "            best_alignment_perc = best_alignment_score / shortest_len\n",
    "            # Sets the threshold to select or discard the sequence as valid homologous.\n",
    "            threshold = 0.65\n",
    "            if best_alignment_perc >= threshold:\n",
    "                ath_mirna_data = {'name': ath_mirna_name, 'sequence': ath_mirna_seq}\n",
    "                if hsa_mirna_name not in matching_mirnas.keys():\n",
    "                    matching_mirnas[hsa_mirna_name] = [ath_mirna_data]\n",
    "                else:\n",
    "                    matching_mirnas[hsa_mirna_name].append(ath_mirna_data)\n",
    "\n",
    "        except MemoryError:\n",
    "            print(f'Memory err: hsa-{hsa_mirna_name}\\tath-{ath_mirna_name}')\n",
    "            gc.collect()\n",
    "            continue\n",
    "\n",
    "print(f'Total hsa miRNAs with at least one ath homologous: '\n",
    "      f'{len(matching_mirnas.keys())}')\n",
    "print(f'Total ath miRNAs homologous to a hsa miRNA: '\n",
    "      f'{sum([len(mirnas) for mirnas in matching_mirnas.values()])}')\n"
   ],
   "metadata": {
    "collapsed": false,
    "ExecuteTime": {
     "end_time": "2023-09-06T17:00:51.338150Z",
     "start_time": "2023-09-06T17:00:47.450412Z"
    }
   }
  },
  {
   "cell_type": "markdown",
   "source": [
    "These results indicate that there will be at least 11 ath miRNAs to create a negative set. The number of negative examples in the dataset will increase considering that miRNAs can have more than one non-target.\n",
    "\n",
    "The next step in the process is to find the target genes that are homologous between both organisms. For this purpose, a global alignment is proposed with gap penalty. The global alignment is suitable for this purpose because unlike miRNAs, target transcripts are longer, which implies that the local alignment could take too long. Furthermore, the threshold and penalty values are set lower, selecting those homologous genes with at least 65% similarity."
   ],
   "metadata": {
    "collapsed": false
   }
  },
  {
   "cell_type": "code",
   "execution_count": 9,
   "outputs": [
    {
     "name": "stdout",
     "output_type": "stream",
     "text": [
      "Total genes in A. thaliana genome: 53743\n",
      "Total target genes in negative dataset: 235\n"
     ]
    }
   ],
   "source": [
    "# Get the all the A. thaliana sequences in the genome.\n",
    "with open('data/ath/GCF_000001735.4_TAIR10.1_rna.fna') as f:\n",
    "    ath_genome = f.read().split('>')[1:]\n",
    "    f.close()\n",
    "\n",
    "ath_genome_dict = {''.join(gene.split('\\n')[1:]): gene.split('\\n')[0].split('),')[0].split(' (')[-1]\n",
    "                   for gene in ath_genome}\n",
    "\n",
    "print(f'Total genes in A. thaliana genome: {len(ath_genome_dict.keys())}')\n",
    "print(f'Total target genes in negative dataset: {len(hsa_negative_targets)}')\n"
   ],
   "metadata": {
    "collapsed": false,
    "ExecuteTime": {
     "end_time": "2023-09-06T17:00:52.858486Z",
     "start_time": "2023-09-06T17:00:51.322631Z"
    }
   }
  },
  {
   "cell_type": "markdown",
   "source": [
    "In this case, 12629605 alignments should be performed, thus a multiprocessing approach is adopted. The full code implemented for performing the alignment and filter by homology threshold using multiprocessing is available at <code>alignments_targets.py</code>."
   ],
   "metadata": {
    "collapsed": false
   }
  },
  {
   "cell_type": "code",
   "execution_count": 10,
   "outputs": [],
   "source": [
    "import itertools\n",
    "\n",
    "# Prepares a list with all the possible permutations of hsa and ath genes.\n",
    "hsa_ath_gene_permutations = list(itertools.product(\n",
    "    [(name, seq) for name, seq in zip(hsa_negative_targets, hsa_negative_targets_seq)],\n",
    "    [(name, seq) for seq, name in ath_genome_dict.items()]\n",
    "))\n"
   ],
   "metadata": {
    "collapsed": false,
    "ExecuteTime": {
     "end_time": "2023-09-06T17:00:55.927920Z",
     "start_time": "2023-09-06T17:00:55.911537Z"
    }
   }
  },
  {
   "cell_type": "code",
   "execution_count": 11,
   "outputs": [],
   "source": [
    "from concurrent.futures import ProcessPoolExecutor\n",
    "from alignments_targets import align_targets\n",
    "import multiprocessing\n",
    "from tqdm import tqdm\n",
    "import gc\n",
    "\n",
    "num_cores = multiprocessing.cpu_count()\n"
   ],
   "metadata": {
    "collapsed": false,
    "ExecuteTime": {
     "end_time": "2023-09-06T17:00:56.019720Z",
     "start_time": "2023-09-06T17:00:55.928200Z"
    }
   }
  },
  {
   "cell_type": "code",
   "execution_count": null,
   "outputs": [
    {
     "name": "stderr",
     "output_type": "stream",
     "text": [
      "  0%|          | 0/12629605 [00:00<?, ?it/s]/Users/susanapoveda/Desktop/uol/FP/mirna-target-prediction-DNN-FP-UoL/venv/lib/python3.11/site-packages/Bio/pairwise2.py:278: BiopythonDeprecationWarning: Bio.pairwise2 has been deprecated, and we intend to remove it in a future release of Biopython. As an alternative, please consider using Bio.Align.PairwiseAligner as a replacement, and contact the Biopython developers if you still need the Bio.pairwise2 module.\n",
      "  warnings.warn(\n",
      "/Users/susanapoveda/Desktop/uol/FP/mirna-target-prediction-DNN-FP-UoL/venv/lib/python3.11/site-packages/Bio/pairwise2.py:278: BiopythonDeprecationWarning: Bio.pairwise2 has been deprecated, and we intend to remove it in a future release of Biopython. As an alternative, please consider using Bio.Align.PairwiseAligner as a replacement, and contact the Biopython developers if you still need the Bio.pairwise2 module.\n",
      "  warnings.warn(\n",
      "/Users/susanapoveda/Desktop/uol/FP/mirna-target-prediction-DNN-FP-UoL/venv/lib/python3.11/site-packages/Bio/pairwise2.py:278: BiopythonDeprecationWarning: Bio.pairwise2 has been deprecated, and we intend to remove it in a future release of Biopython. As an alternative, please consider using Bio.Align.PairwiseAligner as a replacement, and contact the Biopython developers if you still need the Bio.pairwise2 module.\n",
      "  warnings.warn(\n",
      "/Users/susanapoveda/Desktop/uol/FP/mirna-target-prediction-DNN-FP-UoL/venv/lib/python3.11/site-packages/Bio/pairwise2.py:278: BiopythonDeprecationWarning: Bio.pairwise2 has been deprecated, and we intend to remove it in a future release of Biopython. As an alternative, please consider using Bio.Align.PairwiseAligner as a replacement, and contact the Biopython developers if you still need the Bio.pairwise2 module.\n",
      "  warnings.warn(\n",
      "/Users/susanapoveda/Desktop/uol/FP/mirna-target-prediction-DNN-FP-UoL/venv/lib/python3.11/site-packages/Bio/pairwise2.py:278: BiopythonDeprecationWarning: Bio.pairwise2 has been deprecated, and we intend to remove it in a future release of Biopython. As an alternative, please consider using Bio.Align.PairwiseAligner as a replacement, and contact the Biopython developers if you still need the Bio.pairwise2 module.\n",
      "  warnings.warn(\n",
      "/Users/susanapoveda/Desktop/uol/FP/mirna-target-prediction-DNN-FP-UoL/venv/lib/python3.11/site-packages/Bio/pairwise2.py:278: BiopythonDeprecationWarning: Bio.pairwise2 has been deprecated, and we intend to remove it in a future release of Biopython. As an alternative, please consider using Bio.Align.PairwiseAligner as a replacement, and contact the Biopython developers if you still need the Bio.pairwise2 module.\n",
      "  warnings.warn(\n",
      "/Users/susanapoveda/Desktop/uol/FP/mirna-target-prediction-DNN-FP-UoL/venv/lib/python3.11/site-packages/Bio/pairwise2.py:278: BiopythonDeprecationWarning: Bio.pairwise2 has been deprecated, and we intend to remove it in a future release of Biopython. As an alternative, please consider using Bio.Align.PairwiseAligner as a replacement, and contact the Biopython developers if you still need the Bio.pairwise2 module.\n",
      "  warnings.warn(\n",
      "/Users/susanapoveda/Desktop/uol/FP/mirna-target-prediction-DNN-FP-UoL/venv/lib/python3.11/site-packages/Bio/pairwise2.py:278: BiopythonDeprecationWarning: Bio.pairwise2 has been deprecated, and we intend to remove it in a future release of Biopython. As an alternative, please consider using Bio.Align.PairwiseAligner as a replacement, and contact the Biopython developers if you still need the Bio.pairwise2 module.\n",
      "  warnings.warn(\n",
      "  0%|          | 21267/12629605 [03:56<24:36:03, 142.36it/s] "
     ]
    }
   ],
   "source": [
    "if __name__ == '__main__':\n",
    "    with ProcessPoolExecutor(max_workers=num_cores) as pool:\n",
    "        with tqdm(total=len(hsa_ath_gene_permutations)) as progress:\n",
    "            futures = []\n",
    "            results = []\n",
    "\n",
    "            for gene_pair in hsa_ath_gene_permutations:\n",
    "                hsa_gene = gene_pair[0]\n",
    "                ath_gene = gene_pair[1]\n",
    "\n",
    "                future = pool.submit(align_targets, [hsa_gene, ath_gene])\n",
    "                future.add_done_callback(lambda x: progress.update())\n",
    "                futures.append(future)\n",
    "\n",
    "            try:\n",
    "                for future in futures:\n",
    "                    result = future.result()\n",
    "                    results.append(result)\n",
    "\n",
    "            except Exception as e:\n",
    "                print('---ERROR: ', e, hsa_gene[0], ath_gene[0])\n",
    "                gc.collect()\n",
    "                raise Exception\n"
   ],
   "metadata": {
    "collapsed": false,
    "ExecuteTime": {
     "start_time": "2023-09-01T15:52:30.610320Z"
    }
   }
  },
  {
   "cell_type": "markdown",
   "source": [
    "After performing all the alignments and storing the pairs with homology >= 65%, the sequences must be retrieved from the created database and integrated into the dataset.\n",
    "\n",
    "In the generated database, the keys are defined as follows:\n",
    "- Keys containing `_time` indicate that the pair was aligned and the process was finished.\n",
    "- Keys containing `_score` hold the scores only of those pairs with score >= 65%.\n",
    "- Keys containing `_sequences` include the full sequences of the aligned pair, given that is was homologous (>=65%).\n",
    "\n",
    "For instance, the key `AMFR_AT3G56920_score` indicates that the human gene `AMFR` and the A. thaliana gene `AT3G56920` were aligned with score >= 65%.\n",
    "\n",
    "Considering the above, the keys containing `_score` are extracted first to get the names of the pair genes that were identified as homologous."
   ],
   "metadata": {
    "collapsed": false
   }
  },
  {
   "cell_type": "code",
   "execution_count": 12,
   "outputs": [
    {
     "name": "stdout",
     "output_type": "stream",
     "text": [
      "Total keys in db: 5000729\n",
      "Total pairs with homology >= 65%: 246411\n"
     ]
    }
   ],
   "source": [
    "import redis\n",
    "from alignments_targets import r_pair_alignment_sequences\n",
    "\n",
    "r = redis.Redis(host='localhost', port=6379, decode_responses=True, db=1)\n",
    "print(f'Total keys in db: {r.dbsize()}')\n",
    "\n",
    "# Retrieves the keys for the pairs with homology >= 65%.\n",
    "keys_score = r.keys(pattern='*_score')\n",
    "print(f'Total pairs with homology >= 65%: {len(keys_score)}')\n",
    "# Saves the gene pair names.\n",
    "keys_gene_pair = [key.replace('_score', '') for key in keys_score]\n",
    "with open('data/negative_pairs/keys_names_ath_hsa_alignment.txt', 'w') as f:\n",
    "    f.write('\\n'.join(keys_gene_pair))\n",
    "    f.close()\n"
   ],
   "metadata": {
    "collapsed": false,
    "ExecuteTime": {
     "end_time": "2023-09-06T17:01:07.285686Z",
     "start_time": "2023-09-06T17:00:56.027016Z"
    }
   }
  },
  {
   "cell_type": "code",
   "execution_count": 13,
   "outputs": [],
   "source": [
    "# Organizes the results in a dictionary.\n",
    "hsa_ath_alignment_dict = {}\n",
    "for gene_pair in keys_gene_pair:\n",
    "    # Gets the individual gene names for the pair.\n",
    "    gene_pair = gene_pair.split('_')\n",
    "    hsa_gene_name = gene_pair[0]\n",
    "    # The names for ath genes are processed further due to its nature.\n",
    "    ath_gene_name = '_'.join(gene_pair[1:])\n",
    "    # Gets the sequences of each gene in the pair.\n",
    "    sequences = r.get(r_pair_alignment_sequences(hsa_gene_name, ath_gene_name))\n",
    "    sequences = sequences.split(' ')\n",
    "    hsa_gene_seq = sequences[0]\n",
    "    ath_gene_seq = sequences[1]\n",
    "    # Prepares the data to store.\n",
    "    ath_gene_data = {'name': ath_gene_name, 'sequence': ath_gene_seq}\n",
    "\n",
    "    if hsa_gene_name not in hsa_ath_alignment_dict.keys():\n",
    "        hsa_ath_alignment_dict[hsa_gene_name] = [ath_gene_data]\n",
    "    else:\n",
    "        hsa_ath_alignment_dict[hsa_gene_name].append(ath_gene_data)\n"
   ],
   "metadata": {
    "collapsed": false,
    "ExecuteTime": {
     "end_time": "2023-09-06T17:01:41.337427Z",
     "start_time": "2023-09-06T17:01:07.297123Z"
    }
   }
  },
  {
   "cell_type": "code",
   "execution_count": 14,
   "outputs": [
    {
     "name": "stdout",
     "output_type": "stream",
     "text": [
      "Total hsa genes that were found to have an homologous seq: 137\n",
      "Total ath homologous genes: 246411\n"
     ]
    }
   ],
   "source": [
    "print(f'Total hsa genes that were found to have an homologous seq: '\n",
    "      f'{len(hsa_ath_alignment_dict.keys())}')\n",
    "print(f'Total ath homologous genes: '\n",
    "      f'{sum([len(ath_genes) for ath_genes in hsa_ath_alignment_dict.values()])}')\n"
   ],
   "metadata": {
    "collapsed": false,
    "ExecuteTime": {
     "end_time": "2023-09-06T17:01:41.344326Z",
     "start_time": "2023-09-06T17:01:41.339157Z"
    }
   }
  },
  {
   "cell_type": "markdown",
   "source": [
    "##### 5.3.3. Sequence matching - Matching miRNAs and homologous ath transcripts\n",
    "\n",
    "After running the alignments and extracting the results, <b>246411 A. thaliana genes</b> can be used to construct the negative dataset. The next step consists in annotating the respective miRNA targeting these gene transcripts."
   ],
   "metadata": {
    "collapsed": false
   }
  },
  {
   "cell_type": "code",
   "execution_count": 15,
   "outputs": [
    {
     "name": "stdout",
     "output_type": "stream",
     "text": [
      "Total ath pairs: 129485\n"
     ]
    }
   ],
   "source": [
    "ath_mirna_target_pairs = []\n",
    "for hsa_mirna_name, hsa_gene_name in zip(hsa_negative_mirnas, hsa_negative_targets):\n",
    "    if hsa_mirna_name in matching_mirnas.keys():\n",
    "        # Gets the respective homologous miRNAs list in ath.\n",
    "        ath_homologous_mirnas = matching_mirnas[hsa_mirna_name]\n",
    "    else:\n",
    "        # If the miRNA has no equivalent in A. thaliana, the pair is not constructed.\n",
    "        continue\n",
    "\n",
    "    if hsa_gene_name in hsa_ath_alignment_dict.keys():\n",
    "        # Annotates each homologous sequence with the matching miRNA.\n",
    "        ath_homologous_targets = hsa_ath_alignment_dict[hsa_gene_name]\n",
    "        for ath_target in ath_homologous_targets:\n",
    "            for ath_mirna in ath_homologous_mirnas:\n",
    "                ath_pair = (ath_mirna, ath_target)\n",
    "                ath_mirna_target_pairs.append(ath_pair)\n",
    "\n",
    "print(f'Total ath pairs: {len(ath_mirna_target_pairs)}')\n"
   ],
   "metadata": {
    "collapsed": false,
    "ExecuteTime": {
     "end_time": "2023-09-06T17:01:44.285138Z",
     "start_time": "2023-09-06T17:01:43.978201Z"
    }
   }
  },
  {
   "cell_type": "code",
   "execution_count": 16,
   "outputs": [],
   "source": [
    "# Saves the results into a file.\n",
    "data = 'ath_mirna_name\\tath_mirna_seq\\tath_target_name\\tath_target_seq\\n'\n",
    "ath_mirna_target_pairs_data = [f'{row[0][\"name\"]}\\t{row[0][\"sequence\"]}\\t' \\\n",
    "                               f'{row[1][\"name\"]}\\t{row[1][\"sequence\"]}'\n",
    "                               for row in ath_mirna_target_pairs]\n",
    "ath_mirna_target_pairs_data = '\\n'.join(ath_mirna_target_pairs_data)\n",
    "data += ath_mirna_target_pairs_data\n",
    "with open('data/negative_pairs/ath_negative_dataset.txt', 'w') as f:\n",
    "    f.write(data)\n",
    "    f.close()\n"
   ],
   "metadata": {
    "collapsed": false,
    "ExecuteTime": {
     "end_time": "2023-09-06T17:01:45.777748Z",
     "start_time": "2023-09-06T17:01:44.293493Z"
    }
   }
  },
  {
   "cell_type": "markdown",
   "source": [
    "#### 5.4. Merging negative and positive datasets\n",
    "\n",
    "The resulting negative dataset contains 129485 negative examples for A. thaliana. This newly generated negative data must now be integrated into the positive datasets [14, 34].\n"
   ],
   "metadata": {
    "collapsed": false
   }
  },
  {
   "cell_type": "markdown",
   "source": [
    "##### 5.4.1. Merging positive datasets\n",
    "The first step in this stage consists of merging the positive datasets [14, 34]. The raw datasets can be found at:\n",
    "- `data/ath_MTI.txt` [14]\n",
    "- `data/ath_target_genes.txt` [34]\n",
    "\n",
    "However, these datasets contain only the names and identifiers of the molecules forming each pair (miRNA and target mRNA), alongside metadata regarding the experimental design and conditions used to validate the interaction. Considering that this project relies on nucleotide sequences, it is necessary to annotate the datasets with the respective sequence per molecule, following the format of the generated negative dataset."
   ],
   "metadata": {
    "collapsed": false
   }
  },
  {
   "cell_type": "code",
   "execution_count": 17,
   "outputs": [
    {
     "data": {
      "text/plain": "  mirtarbase ID           mirna               species target  \\\n0    MIRT002091  ath-miR398c-3p  Arabidopsis thaliana   CSD2   \n1    MIRT002091  ath-miR398c-3p  Arabidopsis thaliana   CSD2   \n2    MIRT002092  ath-miR398b-3p  Arabidopsis thaliana   CSD2   \n3    MIRT002092  ath-miR398b-3p  Arabidopsis thaliana   CSD2   \n4    MIRT002093  ath-miR398c-3p  Arabidopsis thaliana   CSD1   \n\n   target entrez ID             species.1             experiment  \\\n0            817365  Arabidopsis thaliana           Western blot   \n1            817365  Arabidopsis thaliana  5\"RACE//Northern blot   \n2            817365  Arabidopsis thaliana           Western blot   \n3            817365  Arabidopsis thaliana  5\"RACE//Northern blot   \n4            837405  Arabidopsis thaliana           Western blot   \n\n            support type  pmid references  \n0         Functional MTI         18392778  \n1  Functional MTI (Weak)         20400846  \n2         Functional MTI         18392778  \n3  Functional MTI (Weak)         20400846  \n4         Functional MTI         18392778  ",
      "text/html": "<div>\n<style scoped>\n    .dataframe tbody tr th:only-of-type {\n        vertical-align: middle;\n    }\n\n    .dataframe tbody tr th {\n        vertical-align: top;\n    }\n\n    .dataframe thead th {\n        text-align: right;\n    }\n</style>\n<table border=\"1\" class=\"dataframe\">\n  <thead>\n    <tr style=\"text-align: right;\">\n      <th></th>\n      <th>mirtarbase ID</th>\n      <th>mirna</th>\n      <th>species</th>\n      <th>target</th>\n      <th>target entrez ID</th>\n      <th>species.1</th>\n      <th>experiment</th>\n      <th>support type</th>\n      <th>pmid references</th>\n    </tr>\n  </thead>\n  <tbody>\n    <tr>\n      <th>0</th>\n      <td>MIRT002091</td>\n      <td>ath-miR398c-3p</td>\n      <td>Arabidopsis thaliana</td>\n      <td>CSD2</td>\n      <td>817365</td>\n      <td>Arabidopsis thaliana</td>\n      <td>Western blot</td>\n      <td>Functional MTI</td>\n      <td>18392778</td>\n    </tr>\n    <tr>\n      <th>1</th>\n      <td>MIRT002091</td>\n      <td>ath-miR398c-3p</td>\n      <td>Arabidopsis thaliana</td>\n      <td>CSD2</td>\n      <td>817365</td>\n      <td>Arabidopsis thaliana</td>\n      <td>5\"RACE//Northern blot</td>\n      <td>Functional MTI (Weak)</td>\n      <td>20400846</td>\n    </tr>\n    <tr>\n      <th>2</th>\n      <td>MIRT002092</td>\n      <td>ath-miR398b-3p</td>\n      <td>Arabidopsis thaliana</td>\n      <td>CSD2</td>\n      <td>817365</td>\n      <td>Arabidopsis thaliana</td>\n      <td>Western blot</td>\n      <td>Functional MTI</td>\n      <td>18392778</td>\n    </tr>\n    <tr>\n      <th>3</th>\n      <td>MIRT002092</td>\n      <td>ath-miR398b-3p</td>\n      <td>Arabidopsis thaliana</td>\n      <td>CSD2</td>\n      <td>817365</td>\n      <td>Arabidopsis thaliana</td>\n      <td>5\"RACE//Northern blot</td>\n      <td>Functional MTI (Weak)</td>\n      <td>20400846</td>\n    </tr>\n    <tr>\n      <th>4</th>\n      <td>MIRT002093</td>\n      <td>ath-miR398c-3p</td>\n      <td>Arabidopsis thaliana</td>\n      <td>CSD1</td>\n      <td>837405</td>\n      <td>Arabidopsis thaliana</td>\n      <td>Western blot</td>\n      <td>Functional MTI</td>\n      <td>18392778</td>\n    </tr>\n  </tbody>\n</table>\n</div>"
     },
     "execution_count": 17,
     "metadata": {},
     "output_type": "execute_result"
    }
   ],
   "source": [
    "import pandas as pd\n",
    "\n",
    "# Loads the MirTarBase dataset [14].\n",
    "mirtarbase_dataset = pd.read_csv('data/validated_interactions/ath_MTI.txt', sep='\\t')\n",
    "# In this case, the columns of interest are `mirna` and `target`.\n",
    "mirtarbase_dataset.head()\n"
   ],
   "metadata": {
    "collapsed": false,
    "ExecuteTime": {
     "end_time": "2023-09-06T17:01:46.660044Z",
     "start_time": "2023-09-06T17:01:45.778355Z"
    }
   }
  },
  {
   "cell_type": "code",
   "execution_count": 18,
   "outputs": [],
   "source": [
    "# Saves only the columns of interest.\n",
    "mirtarbase_mirnas = mirtarbase_dataset['mirna']\n",
    "mirtarbase_targets = mirtarbase_dataset['target']\n"
   ],
   "metadata": {
    "collapsed": false,
    "ExecuteTime": {
     "end_time": "2023-09-06T17:01:46.664328Z",
     "start_time": "2023-09-06T17:01:46.658703Z"
    }
   }
  },
  {
   "cell_type": "code",
   "execution_count": 19,
   "outputs": [
    {
     "data": {
      "text/plain": "  miRNA locus ID target gene ID  psRNAtarget  RNAhybrid  Degradome  \\\n0    Ath-miR156a    AT2G33810.1          0.5        0.0        0.0   \n1    Ath-miR156a    AT1G27360.1          1.0        1.0        0.0   \n2    Ath-miR156a    AT1G69170.1          1.0        1.0        0.0   \n3    Ath-miR156a    AT2G42200.1          1.0        1.0        0.0   \n4    Ath-miR156a    AT3G57920.1          1.0        1.0        0.0   \n\n  Libraries that varify miRNA target  \n0   SRR3945024,SRR3945026,SRR6757368  \n1   SRR3945024,SRR3945025,SRR3945026  \n2                         SRR3945024  \n3                         SRR3945026  \n4              SRR3945024,SRR3945026  ",
      "text/html": "<div>\n<style scoped>\n    .dataframe tbody tr th:only-of-type {\n        vertical-align: middle;\n    }\n\n    .dataframe tbody tr th {\n        vertical-align: top;\n    }\n\n    .dataframe thead th {\n        text-align: right;\n    }\n</style>\n<table border=\"1\" class=\"dataframe\">\n  <thead>\n    <tr style=\"text-align: right;\">\n      <th></th>\n      <th>miRNA locus ID</th>\n      <th>target gene ID</th>\n      <th>psRNAtarget</th>\n      <th>RNAhybrid</th>\n      <th>Degradome</th>\n      <th>Libraries that varify miRNA target</th>\n    </tr>\n  </thead>\n  <tbody>\n    <tr>\n      <th>0</th>\n      <td>Ath-miR156a</td>\n      <td>AT2G33810.1</td>\n      <td>0.5</td>\n      <td>0.0</td>\n      <td>0.0</td>\n      <td>SRR3945024,SRR3945026,SRR6757368</td>\n    </tr>\n    <tr>\n      <th>1</th>\n      <td>Ath-miR156a</td>\n      <td>AT1G27360.1</td>\n      <td>1.0</td>\n      <td>1.0</td>\n      <td>0.0</td>\n      <td>SRR3945024,SRR3945025,SRR3945026</td>\n    </tr>\n    <tr>\n      <th>2</th>\n      <td>Ath-miR156a</td>\n      <td>AT1G69170.1</td>\n      <td>1.0</td>\n      <td>1.0</td>\n      <td>0.0</td>\n      <td>SRR3945024</td>\n    </tr>\n    <tr>\n      <th>3</th>\n      <td>Ath-miR156a</td>\n      <td>AT2G42200.1</td>\n      <td>1.0</td>\n      <td>1.0</td>\n      <td>0.0</td>\n      <td>SRR3945026</td>\n    </tr>\n    <tr>\n      <th>4</th>\n      <td>Ath-miR156a</td>\n      <td>AT3G57920.1</td>\n      <td>1.0</td>\n      <td>1.0</td>\n      <td>0.0</td>\n      <td>SRR3945024,SRR3945026</td>\n    </tr>\n  </tbody>\n</table>\n</div>"
     },
     "execution_count": 19,
     "metadata": {},
     "output_type": "execute_result"
    }
   ],
   "source": [
    "# Loads the PmiRen dataset [34].\n",
    "pmiren_dataset = pd.read_csv('data/validated_interactions/ath_target_genes.txt', sep='\\t')\n",
    "# The columns of interest are `miRNA locus ID` and `target gene ID`.\n",
    "pmiren_dataset.head()\n"
   ],
   "metadata": {
    "collapsed": false,
    "ExecuteTime": {
     "end_time": "2023-09-06T17:01:46.781031Z",
     "start_time": "2023-09-06T17:01:46.662931Z"
    }
   }
  },
  {
   "cell_type": "code",
   "execution_count": 20,
   "outputs": [],
   "source": [
    "# The miRNA identifiers must be formatted.\n",
    "pmiren_dataset['miRNA locus ID'] = pmiren_dataset['miRNA locus ID'].apply(lambda x:\n",
    "                                                                          x[0].lower() + x[1:])\n",
    "\n",
    "# Saves only the columns of interest.\n",
    "pmiren_mirnas = pmiren_dataset['miRNA locus ID']\n",
    "pmiren_targets = pmiren_dataset['target gene ID']\n"
   ],
   "metadata": {
    "collapsed": false,
    "ExecuteTime": {
     "end_time": "2023-09-06T17:01:46.795689Z",
     "start_time": "2023-09-06T17:01:46.702412Z"
    }
   }
  },
  {
   "cell_type": "code",
   "execution_count": 37,
   "outputs": [],
   "source": [
    "# Combines the list of identifiers from both datasets.\n",
    "positive_mirnas = pd.concat([mirtarbase_mirnas, pmiren_mirnas], axis=0)\n",
    "positive_targets = pd.concat([mirtarbase_targets, pmiren_targets], axis=0)\n"
   ],
   "metadata": {
    "collapsed": false,
    "ExecuteTime": {
     "end_time": "2023-09-06T17:54:23.349168Z",
     "start_time": "2023-09-06T17:54:23.311105Z"
    }
   }
  },
  {
   "cell_type": "markdown",
   "source": [
    "##### 5.4.2. Positive dataset - miRNA sequence extraction\n",
    "After extracting the identifiers and combining them, the molecules should be annotated with the respective nucleotide sequence.\n",
    "\n",
    "For this purpose, two datasets (downloaded from miRBase [36] and PmiRen [34] databases) holding known miRNAs will be used. However, the downloaded datasets are not guaranteed to hold all the requested miRNA sequences. Hence, after loading the PmiRen [34] data, the availability of the miRNAs will be confirmed."
   ],
   "metadata": {
    "collapsed": false
   }
  },
  {
   "cell_type": "code",
   "execution_count": 32,
   "outputs": [
    {
     "name": "stdout",
     "output_type": "stream",
     "text": [
      "Total miRNAs loaded from PmiRen mature sequences dataset: 179\n"
     ]
    }
   ],
   "source": [
    "# Loads the PmiRen dataset containing A. thaliana mature sequences.\n",
    "with open('data/ath/Arabidopsis_thaliana_mature.fa') as f:\n",
    "    pmiren_mature_mirnas_data = [mirna.split('\\n') for mirna in f.read().split('>')[1:]]\n",
    "    f.close()\n",
    "\n",
    "# Stores the mature sequences.\n",
    "ath_mature_mirnas_pmiren_dict = {}\n",
    "for mirna in pmiren_mature_mirnas_data:\n",
    "    # Ensures the conventions are the same across both data sources;\n",
    "    # this includes changing 'T' by 'U' in nucleotide sequences,\n",
    "    # and using the same upper/lower case format for naming.\n",
    "    mirna_seq = mirna[1].replace('T', 'U')\n",
    "    mirna_name = mirna[0][0].lower() + mirna[0][1:]\n",
    "    ath_mature_mirnas_pmiren_dict[mirna_seq] = mirna_name\n",
    "\n",
    "print(f'Total miRNAs loaded from PmiRen mature sequences dataset: '\n",
    "      f'{len(ath_mature_mirnas_pmiren_dict.keys())}')\n"
   ],
   "metadata": {
    "collapsed": false,
    "ExecuteTime": {
     "end_time": "2023-09-06T17:44:51.773593Z",
     "start_time": "2023-09-06T17:44:51.761050Z"
    }
   }
  },
  {
   "cell_type": "code",
   "execution_count": 47,
   "outputs": [
    {
     "name": "stdout",
     "output_type": "stream",
     "text": [
      "From 3861 miRNA instances, 299 could not be annotated with sequence.\n",
      "Total number of miRNA interactions: 3861\n",
      "Total number of unique miRNAs: 250\n"
     ]
    }
   ],
   "source": [
    "# Checks the number of mirnas that couldn't be annotated with the sequence.\n",
    "non_annotated_mirnas_cnt = 0\n",
    "for mirna in positive_mirnas:\n",
    "    if (mirna not in ath_mature_mirnas_dict.values()\n",
    "        and mirna not in ath_mature_mirnas_pmiren_dict.values()):\n",
    "        # miRNA not available at the downloaded databases of mature miRNAs.\n",
    "        non_annotated_mirnas_cnt += 1\n",
    "\n",
    "print(f'From {len(positive_mirnas)} miRNA instances, '\n",
    "      f'{non_annotated_mirnas_cnt} could not be annotated with sequence.')\n",
    "print(f'Total number of miRNA interactions: {len(positive_mirnas)}')\n",
    "print(f'Total number of unique miRNAs: {len(set(positive_mirnas))}')\n"
   ],
   "metadata": {
    "collapsed": false,
    "ExecuteTime": {
     "end_time": "2023-09-07T09:03:36.995841Z",
     "start_time": "2023-09-07T09:03:36.985483Z"
    }
   }
  },
  {
   "cell_type": "markdown",
   "source": [
    "Each miRNA can have more than one non-target molecule, producing a set of 3861 non-interactions with 250 unique miRNAs.\n",
    "\n",
    "However, given that some miRNAs could not be matched using the mature sequences dataset, web scrapping with Selenium is proposed to retrieve the remaining miRNA sequences from miRBase [42]."
   ],
   "metadata": {
    "collapsed": false
   }
  },
  {
   "cell_type": "markdown",
   "source": [
    "##### 5.4.3. Positive dataset - Web scrapping with multiprocessing for miRNA sequence extraction\n",
    "\n",
    "The functions implemented to perform the web scrapping enabling multiprocessing are found at `fetch_sequences.py`.\n"
   ],
   "metadata": {
    "collapsed": false
   }
  },
  {
   "cell_type": "code",
   "execution_count": 34,
   "outputs": [],
   "source": [
    "# !pip install selenium ratelimit\n"
   ],
   "metadata": {
    "collapsed": false,
    "ExecuteTime": {
     "end_time": "2023-09-06T17:47:03.920135Z",
     "start_time": "2023-09-06T17:47:03.911805Z"
    }
   }
  },
  {
   "cell_type": "code",
   "execution_count": 36,
   "outputs": [
    {
     "name": "stderr",
     "output_type": "stream",
     "text": [
      "100%|██████████| 3861/3861 [00:11<00:00, 344.50it/s] \n"
     ]
    }
   ],
   "source": [
    "from fetch_sequences import annotate_mirna_sequences\n",
    "\n",
    "if __name__ == '__main__':\n",
    "    with ProcessPoolExecutor(max_workers=num_cores) as pool:\n",
    "        with tqdm(total=len(positive_mirnas)) as progress:\n",
    "            futures = []\n",
    "            results = []\n",
    "\n",
    "            for mirna in positive_mirnas:\n",
    "                future = pool.submit(annotate_mirna_sequences,\n",
    "                                     [mirna, ath_mature_mirnas_dict, ath_mature_mirnas_pmiren_dict])\n",
    "                future.add_done_callback(lambda x: progress.update())\n",
    "                futures.append(future)\n",
    "\n",
    "            try:\n",
    "                for future in futures:\n",
    "                    result = future.result()\n",
    "                    results.append(result)\n",
    "\n",
    "            except Exception as e:\n",
    "                print('---ERROR: ', e)\n",
    "                gc.collect()\n"
   ],
   "metadata": {
    "collapsed": false,
    "ExecuteTime": {
     "end_time": "2023-09-06T17:52:53.683298Z",
     "start_time": "2023-09-06T17:52:41.825942Z"
    }
   }
  },
  {
   "cell_type": "code",
   "execution_count": 49,
   "outputs": [
    {
     "name": "stdout",
     "output_type": "stream",
     "text": [
      "Total keys in db: 250\n"
     ]
    }
   ],
   "source": [
    "# Connects to the local database where results were stored.\n",
    "r = redis.Redis(host='localhost', port=6379, decode_responses=True, db=2)\n",
    "print(f'Total keys in db: {r.dbsize()}')\n",
    "\n",
    "# Retrieves the keys.\n",
    "keys = r.keys(pattern='*')\n",
    "# Saves the miRNA names and their sequences.\n",
    "ath_mature_mirnas_merged_dict = {key.replace('_sequence', ''): r.get(key)\n",
    "                                 for key in keys}\n"
   ],
   "metadata": {
    "collapsed": false,
    "ExecuteTime": {
     "end_time": "2023-09-07T09:16:26.171421Z",
     "start_time": "2023-09-07T09:16:26.044909Z"
    }
   }
  },
  {
   "cell_type": "markdown",
   "source": [
    "The results show that all miRNAs could be annotated with sequence. The successfully annotated miRNAs will be stored to create the positive dataset.\n"
   ],
   "metadata": {
    "collapsed": false
   }
  },
  {
   "cell_type": "code",
   "execution_count": 51,
   "outputs": [
    {
     "name": "stdout",
     "output_type": "stream",
     "text": [
      "Total annotated miRNA sequences: 3861.\n"
     ]
    }
   ],
   "source": [
    "# Annotates the dataset with the available sequences.\n",
    "positive_mirna_sequences = []\n",
    "for mirna in positive_mirnas:\n",
    "    if mirna in ath_mature_mirnas_merged_dict.keys():\n",
    "        seq = ath_mature_mirnas_merged_dict[mirna]\n",
    "        positive_mirna_sequences.append(seq)\n",
    "\n",
    "print(f'Total annotated miRNA sequences: {len(positive_mirna_sequences)}.')\n"
   ],
   "metadata": {
    "collapsed": false,
    "ExecuteTime": {
     "end_time": "2023-09-07T09:16:44.309095Z",
     "start_time": "2023-09-07T09:16:44.299297Z"
    }
   }
  },
  {
   "cell_type": "code",
   "execution_count": 53,
   "outputs": [],
   "source": [
    "# Converts into pandas Series.\n",
    "positive_mirna_sequences = pd.Series(positive_mirna_sequences)\n"
   ],
   "metadata": {
    "collapsed": false,
    "ExecuteTime": {
     "end_time": "2023-09-07T09:48:58.969931Z",
     "start_time": "2023-09-07T09:48:58.942386Z"
    }
   }
  },
  {
   "cell_type": "markdown",
   "source": [
    "##### 5.4.4. Positive dataset - Target sequence extraction\n",
    "The next step consists of annotating the mRNA targets with the respective nucleotide sequence. At this stage, the downloaded A. thaliana genome [29] will be used.\n"
   ],
   "metadata": {
    "collapsed": false
   }
  },
  {
   "cell_type": "code",
   "execution_count": null,
   "outputs": [],
   "source": [],
   "metadata": {
    "collapsed": false
   }
  },
  {
   "cell_type": "code",
   "execution_count": null,
   "outputs": [],
   "source": [],
   "metadata": {
    "collapsed": false
   }
  },
  {
   "cell_type": "code",
   "execution_count": null,
   "outputs": [],
   "source": [],
   "metadata": {
    "collapsed": false
   }
  },
  {
   "cell_type": "code",
   "execution_count": null,
   "outputs": [],
   "source": [],
   "metadata": {
    "collapsed": false
   }
  },
  {
   "cell_type": "markdown",
   "source": [
    "### 6. Model beating the baseline"
   ],
   "metadata": {
    "collapsed": false
   }
  },
  {
   "cell_type": "markdown",
   "source": [
    "### 7. Model overfitting\n"
   ],
   "metadata": {
    "collapsed": false
   }
  },
  {
   "cell_type": "markdown",
   "source": [
    "### 8. Regularization and hyperparameter tuning"
   ],
   "metadata": {
    "collapsed": false
   }
  },
  {
   "cell_type": "code",
   "execution_count": 12,
   "outputs": [
    {
     "name": "stderr",
     "output_type": "stream",
     "text": [
      "2023-08-29 17:09:36.026473: I tensorflow/core/platform/cpu_feature_guard.cc:182] This TensorFlow binary is optimized to use available CPU instructions in performance-critical operations.\n",
      "To enable the following instructions: AVX2 FMA, in other operations, rebuild TensorFlow with the appropriate compiler flags.\n"
     ]
    }
   ],
   "source": [
    "import tensorflow as tf"
   ],
   "metadata": {
    "collapsed": false,
    "ExecuteTime": {
     "end_time": "2023-08-29T15:09:40.244751Z",
     "start_time": "2023-08-29T15:09:32.385208Z"
    }
   }
  },
  {
   "cell_type": "markdown",
   "source": [
    "### References\n",
    "\n",
    "[1] A. Pla, X. Zhong, and S. Rayner, “miRAW: A deep learning-based approach to predict microRNA targets by analyzing whole microRNA transcripts,” PLOS Computational Biology, vol. 14, no. 7, p. e1006185, Jul. 2018, doi: 10.1371/journal.pcbi.1006185.\n",
    "\n",
    "[2] J. O’Brien, H. Hayder, Y. Zayed, and C. Peng, “Overview of MicroRNA Biogenesis, Mechanisms of Actions, and Circulation,” Frontiers in Endocrinology, vol. 9, 2018, Accessed: May 04, 2023. [Online]. Available: https://www.frontiersin.org/articles/10.3389/fendo.2018.00402\n",
    "\n",
    "[3] A. Quillet et al., “Improving Bioinformatics Prediction of microRNA Targets by Ranks Aggregation,” Frontiers in Genetics, vol. 10, 2020, Accessed: May 04, 2023. [Online]. Available: https://www.frontiersin.org/articles/10.3389/fgene.2019.01330\n",
    "\n",
    "[4] H. Nakayashiki, ‘RNA silencing in fungi: Mechanisms and applications’, FEBS Letters, vol. 579, no. 26, pp. 5950–5957, Oct. 2005, doi: 10.1016/j.febslet.2005.08.016.\n",
    "\n",
    "[5] T. Kakati, D. K. Bhattacharyya, J. K. Kalita, and T. M. Norden-Krichmar, ‘DEGnext: classification of differentially expressed genes from RNA-seq data using a convolutional neural network with transfer learning’, BMC Bioinformatics, vol. 23, no. 1, p. 17, Jan. 2022, doi: 10.1186/s12859-021-04527-4.\n",
    "\n",
    "[6] B. Hanczar, F. Zehraoui, T. Issa, and M. Arles, ‘Biological interpretation of deep neural network for phenotype prediction based on gene expression’, BMC Bioinformatics, vol. 21, no. 1, p. 501, Nov. 2020, doi: 10.1186/s12859-020-03836-4.\n",
    "\n",
    "[7] D. Urda, J. Montes-Torres, F. Moreno, L. Franco, and J. M. Jerez, ‘Deep Learning to Analyze RNA-Seq Gene Expression Data’, in Advances in Computational Intelligence, I. Rojas, G. Joya, and A. Catala, Eds., in Lecture Notes in Computer Science, vol. 10306. Cham: Springer International Publishing, 2017, pp. 50–59. doi: 10.1007/978-3-319-59147-6_5.\n",
    "\n",
    "[8] ‘Central Dogma’, Genome.gov, Sep. 14, 2022. https://www.genome.gov/genetics-glossary/Central-Dogma (accessed May 07, 2023).\n",
    "\n",
    "[9] A. Talukder, W. Zhang, X. Li, and H. Hu, “A deep learning method for miRNA/isomiR target detection,” Sci Rep, vol. 12, no. 1, Art. no. 1, Jun. 2022, doi: 10.1038/s41598-022-14890-8.\n",
    "\n",
    "[10] O. P. Gupta, P. Sharma, R. K. Gupta, and I. Sharma, “Current status on role of miRNAs during plant–fungus interaction,” Physiological and Molecular Plant Pathology, vol. 85, pp. 1–7, Jan. 2014, doi: 10.1016/j.pmpp.2013.10.002.\n",
    "\n",
    "[11] E. Marín-González and P. Suárez-López, “‘And yet it moves’: Cell-to-cell and long-distance signaling by plant microRNAs,” Plant Science, vol. 196, pp. 18–30, Nov. 2012, doi: 10.1016/j.plantsci.2012.07.009.\n",
    "\n",
    "[12] T. Siddika and I. U. Heinemann, “Bringing MicroRNAs to Light: Methods for MicroRNA Quantification and Visualization in Live Cells,” Frontiers in Bioengineering and Biotechnology, vol. 8, 2021, Accessed: Apr. 18, 2023. [Online]. Available: https://www.frontiersin.org/articles/10.3389/fbioe.2020.619583\n",
    "\n",
    "[13] J. K. W. Lam, M. Y. T. Chow, Y. Zhang, and S. W. S. Leung, “siRNA Versus miRNA as Therapeutics for Gene Silencing,” Mol Ther Nucleic Acids, vol. 4, no. 9, p. e252, Sep. 2015, doi: 10.1038/mtna.2015.23.\n",
    "\n",
    "[14] “miRTarBase: the experimentally validated microRNA-target interactions database.” https://mirtarbase.cuhk.edu.cn/~miRTarBase/miRTarBase_2022/php/index.php (accessed May 08, 2023).\n",
    "\n",
    "[15] “Gene Regulation,” Genome.gov, Sep. 14, 2022. https://www.genome.gov/genetics-glossary/Gene-Regulation (accessed May 09, 2023).\n",
    "\n",
    "[16] C. Stylianopoulou, “Carbohydrates: Regulation of metabolism,” in Encyclopedia of Human Nutrition (Fourth Edition), B. Caballero, Ed., Oxford: Academic Press, 2023, pp. 126–135. doi: 10.1016/B978-0-12-821848-8.00173-6.\n",
    "\n",
    "[17] L. He and G. J. Hannon, “MicroRNAs: small RNAs with a big role in gene regulation,” Nat Rev Genet, vol. 5, no. 7, Art. no. 7, Jul. 2004, doi: 10.1038/nrg1379.\n",
    "\n",
    "[18] D. Pradhan, A. Kumar, H. Singh, and U. Agrawal, “Chapter 4 - High-throughput sequencing,” in Data Processing Handbook for Complex Biological Data Sources, G. Misra, Ed., Academic Press, 2019, pp. 39–52. doi: 10.1016/B978-0-12-816548-5.00004-6.\n",
    "\n",
    "[19] B. Hanczar, F. Zehraoui, T. Issa, and M. Arles, “Biological interpretation of deep neural network for phenotype prediction based on gene expression,” BMC Bioinformatics, vol. 21, no. 1, p. 501, Nov. 2020, doi: 10.1186/s12859-020-03836-4.\n",
    "\n",
    "[20] A. L. Leitão and F. J. Enguita, “A Structural View of miRNA Biogenesis and Function,” Non-Coding RNA, vol. 8, no. 1, Art. no. 1, Feb. 2022, doi: 10.3390/ncrna8010010.\n",
    "\n",
    "[21] ‘Gene Expression | Learn Science at Scitable’. https://www.nature.com/scitable/topicpage/gene-expression-14121669/ (accessed May 07, 2023).\n",
    "\n",
    "[22] W. Guo, Y. Xu, and X. Feng, ‘DeepMetabolism: A Deep Learning System to Predict Phenotype from Genome Sequencing’. arXiv, May 08, 2017. doi: 10.48550/arXiv.1705.03094.\n",
    "\n",
    "[23] M. Wen, P. Cong, Z. Zhang, H. Lu, and T. Li, ‘DeepMirTar: a deep-learning approach for predicting human miRNA targets’, Bioinformatics, vol. 34, no. 22, pp. 3781–3787, Nov. 2018, doi: 10.1093/bioinformatics/bty424.\n",
    "\n",
    "[24] X. M. Xu and S. G. Møller, ‘The value of Arabidopsis research in understanding human disease states’, Curr Opin Biotechnol, vol. 22, no. 2, pp. 300–307, Apr. 2011, doi: 10.1016/j.copbio.2010.11.007.\n",
    "\n",
    "[25] G. P. Way and C. S. Greene, ‘Extracting a Biologically Relevant Latent Space from Cancer Transcriptomes with Variational Autoencoders’. bioRxiv, p. 174474, Aug. 11, 2017. doi: 10.1101/174474.\n",
    "\n",
    "[26] J. Rocca, ‘Understanding Variational Autoencoders (VAEs)’, Medium, Mar. 21, 2021. https://towardsdatascience.com/understanding-variational-autoencoders-vaes-f70510919f73 (accessed Jun. 07, 2023).\n",
    "\n",
    "[27] C. H. Grønbech, M. F. Vording, P. Timshel, C. K. Sønderby, T. H. Pers, and O. Winther, ‘scVAE: Variational auto-encoders for single-cell gene expression data’. bioRxiv, p. 318295, Oct. 02, 2019. doi: 10.1101/318295.\n",
    "\n",
    "[28] K. Y. Gao, A. Fokoue, H. Luo, A. Iyengar, S. Dey, and P. Zhang, ‘Interpretable Drug Target Prediction Using Deep Neural Representation’, in Proceedings of the Twenty-Seventh International Joint Conference on Artificial Intelligence, Stockholm, Sweden: International Joint Conferences on Artificial Intelligence Organization, Jul. 2018, pp. 3371–3377. doi: 10.24963/ijcai.2018/468.\n",
    "\n",
    "[29] ‘Arabidopsis thaliana (ID 4) - Genome - NCBI’. https://www.ncbi.nlm.nih.gov/genome/4?genome_assembly_id=380024 (accessed Jul. 02, 2023).\n",
    "\n",
    "[30] G. B. Or and I. Veksler-Lublinsky, ‘Comprehensive machine-learning-based analysis of microRNA-target interactions reveals variable transferability of interaction rules across species’. bioRxiv, p. 2021.03.28.437385, Mar. 29, 2021. doi: 10.1101/2021.03.28.437385.\n",
    "\n",
    "[31] ‘Arabidopsis thaliana (ID 4) - Genome - NCBI’. https://www.ncbi.nlm.nih.gov/genome/4?genome_assembly_id=380024 (accessed Jul. 02, 2023).\n",
    "\n",
    "[32] X. Chen, ‘Small RNAs – secrets and surprises of the genome’, Plant J, vol. 61, no. 6, pp. 941–958, Mar. 2010, doi: 10.1111/j.1365-313X.2009.04089.x.\n",
    "\n",
    "[33] S. Bandyopadhyay and R. Mitra, ‘TargetMiner: microRNA target prediction with systematic identification of tissue-specific negative examples’, Bioinformatics, vol. 25, no. 20, pp. 2625–2631, Oct. 2009, doi: 10.1093/bioinformatics/btp503.\n",
    "\n",
    "[34] ‘PmiREN: Plant microRNA Encyclopedia’. https://www.pmiren.com/download (accessed Aug. 04, 2023).\n",
    "\n",
    "[35] ‘refSeq Accession to Gene Symbol Converter - Genomics Biotools’. https://www.biotools.fr/mouse/refseq_symbol_converter (accessed Aug. 07, 2023).\n",
    "\n",
    "[36] ‘miRBase - Downloads’. https://mirbase.org/download/ (accessed Aug. 13, 2023).\n",
    "\n",
    "[37] ‘Genome’, NCBI. https://www.ncbi.nlm.nih.gov/datasets/genome/?taxon=9606 (accessed Aug. 13, 2023).\n",
    "\n",
    "[38] ‘11968211 - Assembly - NCBI’. https://www.ncbi.nlm.nih.gov/assembly/?term=GCF_000001405 (accessed Aug. 13, 2023).\n",
    "\n",
    "[39] B. Murcott, R. J. Pawluk, A. V. Protasio, R. Y. Akinmusola, D. Lastik, and V. L. Hunt, ‘stepRNA: Identification of Dicer cleavage signatures and passenger strand lengths in small RNA sequences’, Frontiers in Bioinformatics, vol. 2, 2022, Accessed: Aug. 18, 2023. [Online].\n",
    "\n",
    "[40] H.-Y. Huang et al., ‘miRTarBase update 2022: an informative resource for experimentally validated miRNA–target interactions’, Nucleic Acids Research, vol. 50, no. D1, pp. D222–D230, Jan. 2022, doi: 10.1093/nar/gkab1079.\n",
    "\n",
    "[41] ‘Bio.pairwise2 module — Biopython 1.75 documentation’. https://biopython.org/docs/1.75/api/Bio.pairwise2.html (accessed Aug. 29, 2023).\n",
    "\n",
    "[42] ‘miRBase’. https://www.mirbase.org/ftp.shtml (accessed May 08, 2023).\n"
   ],
   "metadata": {
    "collapsed": false
   }
  },
  {
   "cell_type": "code",
   "execution_count": null,
   "outputs": [],
   "source": [
    "## TODO: Docstrings - Importante!"
   ],
   "metadata": {
    "collapsed": false
   }
  }
 ],
 "metadata": {
  "kernelspec": {
   "display_name": "Python 3",
   "language": "python",
   "name": "python3"
  },
  "language_info": {
   "codemirror_mode": {
    "name": "ipython",
    "version": 2
   },
   "file_extension": ".py",
   "mimetype": "text/x-python",
   "name": "python",
   "nbconvert_exporter": "python",
   "pygments_lexer": "ipython2",
   "version": "2.7.6"
  }
 },
 "nbformat": 4,
 "nbformat_minor": 0
}
