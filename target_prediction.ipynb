{
 "cells": [
  {
   "cell_type": "markdown",
   "source": [
    "# miRNA-mRNA target prediction\n"
   ],
   "metadata": {
    "collapsed": false
   }
  },
  {
   "cell_type": "markdown",
   "source": [
    "### 1. Problem definition\n",
    "\n",
    "This project aims to <b>predict if an input pair of sequences (miRNA and mRNA) will interact</b>; given that the molecules interact, they constitute a pair, whereas if they do not interact, they are defined as non-pair.\n",
    "\n",
    "Since the mechanisms underlying the targeting process can differ between organisms, this study is <b>focused on the A. thaliana organism</b>. This is a model organism, meaning that the results obtained can be extrapolated to other plants; furthermore, they can be used to understand human diseases due to the conservation of protein function, conservation of cellular processes, and the high percentage of genes shared between both species [31, 32].\n",
    "\n",
    "Considering the above, this problem can be shaped as a <b>binary classification problem</b>, where 0 means non-pair and 1 represents a pair.\n",
    "\n",
    "The data proposed to train a DNN able to distinguish between pair and non-pair RNA sequences consists of curated interactions that are publicly available and reported in the literature [14].\n",
    "\n",
    "Although such miRNA-mRNA interacting pairs can be used to train the network, they represent only positive examples that were tested experimentally either in vivo or in vitra. This implies that the <b>available datasets are unbalanced</b>, and denotes the need to incorporate negative data before proceeding."
   ],
   "metadata": {
    "collapsed": false
   }
  },
  {
   "cell_type": "markdown",
   "source": [
    "### 2. Dataset selection\n",
    "\n",
    "<b>Positive examples</b> of interactions were downloaded from MirTarBase [14]. This database was selected based on the following criteria.\n",
    "- A. thaliana miRNA/mRNA target interaction available.\n",
    "- Interactions are curated based on experimental evidence.\n",
    "- The database is continuously maintained and updated.\n",
    "- The data is publicly available.\n",
    "[14, 40]\n",
    "\n",
    "Validated <b>negative examples</b> are only available for H. sapiens. Using the available H. sapiens validated interactions [33], homologous sequences between A. thaliana and H. sapiens can be used to assemble a dataset."
   ],
   "metadata": {
    "collapsed": false
   }
  },
  {
   "cell_type": "markdown",
   "source": [
    "### 3. Success measures\n",
    "\n",
    "TODO\n"
   ],
   "metadata": {
    "collapsed": false
   }
  },
  {
   "cell_type": "markdown",
   "source": [
    "### 4. Evaluation protocols\n",
    "TODO\n"
   ],
   "metadata": {
    "collapsed": false
   }
  },
  {
   "cell_type": "markdown",
   "source": [
    "### 5. Data preparation\n",
    "In the context of this project, a negative example constitutes a pair of molecules (miRNA and mRNA) that do NOT interact. Given the lack of experimentally confirmed negative examples, the available datasets for target prediction are highly unbalanced, containing exclusively positive data (pairs that interact). To overcome this problem, a negative publicly available curated dataset for human (hsa) miRNA target prediction is proposed [33]. However, since this project proposal uses A. thaliana (ath) as organism to study, only the homologous and highly conserved genes across both organisms will be considered.\n",
    "\n",
    "The methodology and process of mapping those genes across organisms is presented in this section."
   ],
   "metadata": {
    "collapsed": false
   }
  },
  {
   "cell_type": "markdown",
   "source": [
    "#### 5.1. Negative dataset - Preprocessing\n",
    "\n",
    "For the preprocessing stage, the RefSeq IDs were converted into Gene symbol IDs using Genomics Biotools [35], then the invalid IDs and duplicates were removed from the dataset.\n"
   ],
   "metadata": {
    "collapsed": false
   }
  },
  {
   "cell_type": "markdown",
   "source": [
    "#### 5.2. Negative dataset - Methodology\n",
    "The methodology for preparing a negative dataset consists of:\n",
    "- Extracting the H. sapiens miRNA sequence.\n",
    "- Getting the H. sapiens target sequence.\n",
    "- Finding the homologous miRNA sequences in A. thaliana (pairwise alignment [41]).\n",
    "- Getting the homologous target sequence in A. thaliana (pairwise alignment [41]).\n",
    "\n",
    "Since it is not guaranteed that the interaction miRNA-mRNA results will hold given the presence of gaps in the alignments, the opening of a gap in the alignment should be penalized as well as its size or extension.\n",
    "\n",
    "Furthermore, given the nature of the proposed research problem, where mature miRNA sequences have a length of 17-22 nucleotides and pair with binding sites of the same length in targets [2, 4], finding the exact sequences in homologous genes is more valuable than an overall high similarity using global alignments. Considering the above, local alignments are used in this project.\n"
   ],
   "metadata": {
    "collapsed": false
   }
  },
  {
   "cell_type": "markdown",
   "source": [
    "#### 5.3. Negative dataset - Dataset generation\n",
    "##### 5.3.1. Sequence extraction\n",
    "To extract the miRNA sequences, a dataset containing all known mature miRNA sequences was downloaded from miRBase [36], whereas to locate the target sequences, the full H. sapiens genome was used [37, 38].\n",
    "\n",
    "Once the sequences are extracted, they are integrated with the negative dataset [33]."
   ],
   "metadata": {
    "collapsed": false
   }
  },
  {
   "cell_type": "code",
   "execution_count": 2,
   "outputs": [
    {
     "name": "stdout",
     "output_type": "stream",
     "text": [
      "Total hsa miRNAs: 2655\n",
      "Total ath miRNAs: 359\n"
     ]
    }
   ],
   "source": [
    "# Load the FASTA file containing all known miRNA sequences for all organisms.\n",
    "with open('data/mature_mirna_all_organisms.fa') as f:\n",
    "    mature_mirnas = f.read().split('>')[1:]\n",
    "    f.close()\n",
    "\n",
    "# Isolate H. sapiens (hsa) and A. thaliana (ath) sequences.\n",
    "hsa_mature_mirnas_dict = {mirna.split(' ')[0]: mirna.split('\\n')[1]\n",
    "                          for mirna in mature_mirnas\n",
    "                          if 'hsa' in mirna}\n",
    "\n",
    "ath_mature_mirnas_dict = {mirna.split('\\n')[1]: mirna.split(' ')[0]\n",
    "                          for mirna in mature_mirnas\n",
    "                          if 'ath' in mirna}\n",
    "\n",
    "print(f'Total hsa miRNAs: {len(hsa_mature_mirnas_dict)}')\n",
    "print(f'Total ath miRNAs: {len(ath_mature_mirnas_dict)}')\n"
   ],
   "metadata": {
    "collapsed": false,
    "ExecuteTime": {
     "end_time": "2023-08-28T11:07:20.382Z",
     "start_time": "2023-08-28T11:07:20.371697Z"
    }
   }
  },
  {
   "cell_type": "markdown",
   "source": [
    "In order to extract the similar sequences in A. thaliana, all the miRNAs must be aligned between both organisms. This implies that 953145 local pairwise alignments will occur."
   ],
   "metadata": {
    "collapsed": false
   }
  },
  {
   "cell_type": "code",
   "execution_count": 3,
   "outputs": [],
   "source": [
    "# Load the list of miRNAs included in the negative dataset [33].\n",
    "with open('data/negative_pairs/hsa_mirnas.txt') as f:\n",
    "    hsa_negative_mirnas = f.read().split('\\n')\n",
    "    f.close()\n"
   ],
   "metadata": {
    "collapsed": false,
    "ExecuteTime": {
     "end_time": "2023-08-28T11:09:44.400255Z",
     "start_time": "2023-08-28T11:09:44.382757Z"
    }
   }
  },
  {
   "cell_type": "code",
   "execution_count": 4,
   "outputs": [],
   "source": [
    "# Match the negative dataset [1] miRNAs with the respective mature miRNA miRBase [3] sequence.\n",
    "hsa_negative_mirnas_seq = [hsa_mature_mirnas_dict[mirna]\n",
    "                           if mirna in hsa_mature_mirnas_dict.keys() else mirna\n",
    "                           for mirna in hsa_negative_mirnas]\n",
    "\n",
    "# Create a separate file holding only the sequences.\n",
    "with open('data/negative_pairs/hsa_mirnas_seq.txt', 'w') as f:\n",
    "    f.write('\\n'.join(hsa_negative_mirnas_seq))\n",
    "    f.close()\n"
   ],
   "metadata": {
    "collapsed": false,
    "ExecuteTime": {
     "end_time": "2023-08-28T11:10:03.544179Z",
     "start_time": "2023-08-28T11:10:03.489869Z"
    }
   }
  },
  {
   "cell_type": "code",
   "execution_count": 5,
   "outputs": [],
   "source": [
    "# Get the hsa target sequences from Human genome.\n",
    "with open('data/hsa/GCF_000001405.40_GRCh38.p14_rna.fna') as f:\n",
    "    hsa_genome = f.read().split('>')[1:]\n",
    "    f.close()\n",
    "\n",
    "hsa_genome_dict = {gene.split('\\n')[0].split('),')[0].split(' (')[-1]: ''.join(gene.split('\\n')[1:])\n",
    "                   for gene in hsa_genome}\n"
   ],
   "metadata": {
    "collapsed": false,
    "ExecuteTime": {
     "end_time": "2023-08-28T11:10:24.800381Z",
     "start_time": "2023-08-28T11:10:17.623545Z"
    }
   }
  },
  {
   "cell_type": "code",
   "execution_count": 6,
   "outputs": [],
   "source": [
    "# Get the list of hsa target genes included in the negative dataset.\n",
    "with open('data/negative_pairs/hsa_targets.txt') as f:\n",
    "    hsa_negative_targets = f.read().split('\\n')\n",
    "    f.close()\n"
   ],
   "metadata": {
    "collapsed": false,
    "ExecuteTime": {
     "end_time": "2023-08-28T11:10:29.134472Z",
     "start_time": "2023-08-28T11:10:29.119138Z"
    }
   }
  },
  {
   "cell_type": "code",
   "execution_count": 7,
   "outputs": [],
   "source": [
    "# Match the negative hsa target names with the respective sequence from the hsa genome [37, 38].\n",
    "hsa_negative_targets_seq = [hsa_genome_dict[target] if target in hsa_genome_dict.keys() else '-'\n",
    "                            for target in hsa_negative_targets]\n",
    "\n",
    "# Create a separate file holding only the target sequences.\n",
    "with open('data/negative_pairs/hsa_targets_seq.txt', 'w') as f:\n",
    "    f.write('\\n'.join(hsa_negative_targets_seq))\n",
    "    f.close()\n"
   ],
   "metadata": {
    "collapsed": false,
    "ExecuteTime": {
     "end_time": "2023-08-28T11:11:25.921180Z",
     "start_time": "2023-08-28T11:11:25.892188Z"
    }
   }
  },
  {
   "cell_type": "markdown",
   "source": [
    "##### 5.3.2. Sequence matching - Homology search and pairwise alignment in A. thaliana\n",
    "To create the negative dataset for A. thaliana organism, homologous sequences to those appearing in the H. sapiens dataset [33] will be considered. Potential target mRNA sequences from A. thaliana are extracted from the last released genome [29], and the respective mature miRNA sequences are downloaded from miRBase database [36].\n",
    "\n",
    "To compare the similarity between sequences, pairwise nucleotide local alignment is executed with gap penalty [41], and only sequences with final score >= 90% are stored in the new dataset. Since the gaps and mismatches are more important in miRNA comparisons, the penalties for gap opening and extension used for miRNA alignments are greater than those used for target comparisons.\n"
   ],
   "metadata": {
    "collapsed": false
   }
  },
  {
   "cell_type": "code",
   "execution_count": 39,
   "outputs": [],
   "source": [
    "import warnings\n",
    "warnings.filterwarnings('ignore')\n",
    "## TODO remove cell\n"
   ],
   "metadata": {
    "collapsed": false,
    "ExecuteTime": {
     "end_time": "2023-08-29T10:49:37.096293Z",
     "start_time": "2023-08-29T10:49:37.049196Z"
    }
   }
  },
  {
   "cell_type": "code",
   "execution_count": 69,
   "outputs": [
    {
     "name": "stderr",
     "output_type": "stream",
     "text": [
      "  0%|          | 0/2655 [00:00<?, ?it/s]"
     ]
    },
    {
     "name": "stdout",
     "output_type": "stream",
     "text": [
      "1 UG--AG--GUAGUAGGUUGUAUAG\n",
      "  ||  ||  | || ||  ||   ||\n",
      "1 UGACAGAAG-AG-AG--UG---AG\n",
      "  Score=9\n",
      "\n",
      "\thsa mirna nt length: 22\n",
      "\tath mirna nt length: 20\n"
     ]
    },
    {
     "name": "stderr",
     "output_type": "stream",
     "text": [
      "\n"
     ]
    }
   ],
   "source": [
    "import gc\n",
    "from Bio import pairwise2\n",
    "from Bio.pairwise2 import format_alignment\n",
    "from Bio.Seq import Seq\n",
    "from tqdm import tqdm\n",
    "\n",
    "# Alignment for hsa and ath miRNAs.\n",
    "for hsa_mirna_name, hsa_mirna_seq in tqdm(hsa_mature_mirnas_dict.items()):\n",
    "    # Convert Human sequence into Byophyton Sequence object.\n",
    "    hsa_seq = Seq(hsa_mirna_seq)\n",
    "    for ath_mirna_seq, ath_mirna_name in ath_mature_mirnas_dict.items():\n",
    "        # Convert A. thaliana sequence into Byophyton Sequence object.\n",
    "        ath_seq = Seq(ath_mirna_seq)\n",
    "        # Performs the alignment.\n",
    "        try:\n",
    "            # Although the algorithm tries all the possible alignments, this part of the code filters and stores only the most relevant one (i.e., minimized gaps and maximized score).\n",
    "            # The parameters for the local alignment include:\n",
    "            #   Matching nucleotides     =   +1 score points\n",
    "            #   Mismatching nucleotides  =   -2 score points\n",
    "            #   Opening a gap            =   -0.5 score points\n",
    "            #   Continuing the gap       =   -0.2 score points\n",
    "            alignments = pairwise2.align.localms(hsa_seq, ath_seq, 1, -2, -.5, -.2)\n",
    "            print(format_alignment(*alignments[0]))\n",
    "            print(f'\\thsa mirna nt length: {len(hsa_seq)}\\n\\tath mirna nt length: {len(ath_seq)}')\n",
    "\n",
    "            break ## TODO: remove line.\n",
    "        except MemoryError:\n",
    "            print(f'Memory err: hsa-{hsa_mirna_name}\\tath-{ath_mirna_name}')\n",
    "            gc.collect()\n",
    "            continue\n",
    "\n",
    "\n",
    "    break ## TODO: remove line.\n",
    "\n"
   ],
   "metadata": {
    "collapsed": false,
    "ExecuteTime": {
     "end_time": "2023-08-29T11:44:10.118320Z",
     "start_time": "2023-08-29T11:44:10.105781Z"
    }
   }
  },
  {
   "cell_type": "code",
   "execution_count": 65,
   "outputs": [],
   "source": [],
   "metadata": {
    "collapsed": false,
    "ExecuteTime": {
     "end_time": "2023-08-29T11:35:59.172419Z",
     "start_time": "2023-08-29T11:35:59.159157Z"
    }
   }
  },
  {
   "cell_type": "code",
   "execution_count": null,
   "outputs": [],
   "source": [],
   "metadata": {
    "collapsed": false
   }
  },
  {
   "cell_type": "code",
   "execution_count": null,
   "outputs": [],
   "source": [],
   "metadata": {
    "collapsed": false
   }
  },
  {
   "cell_type": "code",
   "execution_count": 8,
   "outputs": [],
   "source": [
    "# Get the names of the equivalent miRNAs in A. thaliana. TODO: remove cell\n",
    "ath_negative_mirnas = [ath_mature_mirnas_dict[mirna_seq]\n",
    "                       if mirna_seq in ath_mature_mirnas_dict.keys() else mirna_seq\n",
    "                       for mirna_seq in hsa_negative_mirnas_seq]\n"
   ],
   "metadata": {
    "collapsed": false,
    "ExecuteTime": {
     "end_time": "2023-08-28T11:15:37.319924Z",
     "start_time": "2023-08-28T11:15:37.313896Z"
    }
   }
  },
  {
   "cell_type": "code",
   "execution_count": 35,
   "outputs": [],
   "source": [
    "\n",
    "\n"
   ],
   "metadata": {
    "collapsed": false,
    "ExecuteTime": {
     "end_time": "2023-08-29T10:40:35.487017Z",
     "start_time": "2023-08-29T10:40:35.472203Z"
    }
   }
  },
  {
   "cell_type": "code",
   "execution_count": 34,
   "outputs": [
    {
     "data": {
      "text/plain": "{'UGACAGAAGAGAGUGAGCAC': 'ath-miR156f-5p',\n 'GCUCACUGCUCUUUCUGUCAGA': 'ath-miR156a',\n 'UGCUCACCUCUCUUUCUGUCAGU': 'ath-miR156b',\n 'GCUCACUGCUCUAUCUGUCAGA': 'ath-miR156c',\n 'GCUCACUCUCUUUUUGUCAUAAC': 'ath-miR156d',\n 'GCUCACUCUCUAUCCGUCACC': 'ath-miR156f',\n 'UUGACAGAAGAUAGAGAGCAC': 'ath-miR157c-5p',\n 'GCUCUCUAGCCUUCUGUCAUC': 'ath-miR157b',\n 'GCUCUCUAUACUUCUGUCACC': 'ath-miR157c',\n 'UGACAGAAGAUAGAGAGCAC': 'ath-miR157d',\n 'CUUUGUCUACAAUUUUGGAAA': 'ath-miR158a-5p',\n 'UCCCAAAUGUAGACAAAGCA': 'ath-miR158a',\n 'UUUGGAUUGAAGGGAGCUCUA': 'ath-miR159a',\n 'UGCCUGGCUCCCUGUAUGCCA': 'ath-miR160c-5p',\n 'GCGUAUGAGGAGCCAUGCAUA': 'ath-miR160a',\n 'CGUACAAGGAGUCAAGCAUGA': 'ath-miR160c',\n 'UCAAUGCAUUGAAAGUGACUA': 'ath-miR161.2',\n 'UGAAAGUGACUACAUCGGGGU': 'ath-miR161.1',\n 'UGGAGGCAGCGGUUCAUCGAUC': 'ath-miR162b-5p',\n 'UCGAUAAACCUCUGCAUCCAG': 'ath-miR162b',\n 'UUGAAGAGGACUUGGAACUUCGAU': 'ath-miR163',\n 'UGGAGAAGCAGGGCACGUGCA': 'ath-miR164b-5p',\n 'CAUGUGCCCAUCUUCACCAUC': 'ath-miR164b',\n 'GGAAUGUUGUCUGGAUCGAGG': 'ath-miR165a-5p',\n 'UCGGACCAGGCUUCAUCCCCC': 'ath-miR165b',\n 'GGACUGUUGUCUGGCUCGAGG': 'ath-miR166b-5p',\n 'UCGGACCAGGCUUCAUUCCCC': 'ath-miR166g',\n 'GGAAUGUUGUCUGGCACGAGG': 'ath-miR166e-5p',\n 'UGAAGCUGCCAGCAUGAUCUA': 'ath-miR167b',\n 'GAUCAUGUUCGCAGUUUCACC': 'ath-miR167a',\n 'UCGCUUGGUGCAGGUCGGGAA': 'ath-miR168b-5p',\n 'CCCGCCUUGCAUCAACUGAAU': 'ath-miR168a',\n 'CCCGUCUUGUAUCAACUGAAU': 'ath-miR168b',\n 'CAGCCAAGGAUGACUUGCCGA': 'ath-miR169a-5p',\n 'GGCAAGUUGUCCUUGGCUAC': 'ath-miR169a',\n 'UAUUGGCCUGGUUCACUCAGA': 'ath-miR171a-5p',\n 'UGAUUGAGCCGUGUCAAUAUC': 'ath-miR170',\n 'UGAUUGAGCCGCGCCAAUAUC': 'ath-miR171a',\n 'AGAAUCUUGAUGAUGCUGCAU': 'ath-miR172b',\n 'GCAGCACCAUUAAGAUUCAC': 'ath-miR172e-5p',\n 'UUCGCUUGCAGAGAGAAAUCAC': 'ath-miR173-5p',\n 'UGAUUCUCUGUGUAAGCGAAA': 'ath-miR173',\n 'GAGCUCCUUGAAGUUCAAUGG': 'ath-miR159b-5p',\n 'UUUGGAUUGAAGGGAGCUCUU': 'ath-miR159b',\n 'UUGGACUGAAGGGAGCUCCCU': 'ath-miR319b',\n 'UGAAGCUGCCAGCAUGAUCUGG': 'ath-miR167d',\n 'CAGCCAAGGAUGACUUGCCGG': 'ath-miR169c',\n 'GGCAAGUUGUCCUUCGGCUACA': 'ath-miR169b',\n 'UGAGCCAAGGAUGACUUGCCG': 'ath-miR169g-5p',\n 'GCAAGUUGACCUUGGCUCUGC': 'ath-miR169f',\n 'UCCGGCAAGUUGACCUUGGCU': 'ath-miR169g',\n 'UAGCCAAGGAUGACUUGCCUG': 'ath-miR169n',\n 'AGAUAUUAGUGCGGUUCAAUC': 'ath-miR171b-5p',\n 'UUGAGCCGUGCCAAUAUCACG': 'ath-miR171c',\n 'AGAUAUUGGUGCGGUUCAAUC': 'ath-miR171c-5p',\n 'AGAAUCUUGAUGAUGCUGCAG': 'ath-miR172d',\n 'GCAACAUCUUCAAGAUUCAGA': 'ath-miR172d-5p',\n 'AAGCUCAGGAGGGAUAGCGCC': 'ath-miR390b-5p',\n 'CGCUAUCCAUCCUGAGUUUCA': 'ath-miR390a',\n 'CGCUAUCCAUCCUGAGUUCC': 'ath-miR390b',\n 'UUCGCAGGAGAGAUAGCGCCA': 'ath-miR391-5p',\n 'ACGGUAUCUCUCCUACGUAGC': 'ath-miR391',\n 'UCCAAAGGGAUCGCAUUGAUCC': 'ath-miR393b-5p',\n 'AUCAUGCUAUCUCUUUGGAUU': 'ath-miR393a',\n 'AUCAUGCGAUCUCUUUGGAUU': 'ath-miR393b',\n 'UUGGCAUUCUGUCCACCUCC': 'ath-miR394b-5p',\n 'AGGUGGGCAUACUGCCAAUAG': 'ath-miR394b',\n 'CUGAAGUGUUUGGGGGAACUC': 'ath-miR395e',\n 'CUGAAGUGUUUGGGGGGACUC': 'ath-miR395f',\n 'UUCCACAGCUUUCUUGAACUG': 'ath-miR396a-5p',\n 'GUUCAAUAAAGCUGUGGGAAG': 'ath-miR396a',\n 'UUCCACAGCUUUCUUGAACUU': 'ath-miR396b-5p',\n 'GCUCAAGAAAGCUGUGGGAAA': 'ath-miR396b',\n 'UCAUUGAGUGCAGCGUUGAUG': 'ath-miR397a',\n 'UCAUUGAGUGCAUCGUUGAUG': 'ath-miR397b',\n 'AAGGAGUGGCAUGUGAACACA': 'ath-miR398a-5p',\n 'UGUGUUCUCAGGUCACCCCUU': 'ath-miR398a',\n 'AGGGUUGAUAUGAGAACACAC': 'ath-miR398c-5p',\n 'UGUGUUCUCAGGUCACCCCUG': 'ath-miR398c',\n 'UGCCAAAGGAGAUUUGCCCUG': 'ath-miR399a',\n 'UGCCAAAGGAGAGUUGCCCUG': 'ath-miR399c',\n 'GGGCAUCUUUCUAUUGGCAGG': 'ath-miR399c-5p',\n 'UGCCAAAGGAGAUUUGCCCCG': 'ath-miR399d',\n 'UGCCAAAGGAGAUUUGCCUCG': 'ath-miR399e',\n 'UGCCAAAGGAGAUUUGCCCGG': 'ath-miR399f',\n 'UAUGAGAGUAUUAUAAGUCAC': 'ath-miR400',\n 'CGAAACUGGUGUCGACCGACA': 'ath-miR401',\n 'UUCGAGGCCUAUUAAACCUCUG': 'ath-miR402',\n 'UGUUUUGUGCUUGAAUCUAAUU': 'ath-miR403-5p',\n 'UUAGAUUCACGCACAAACUCG': 'ath-miR403',\n 'AUUAACGCUGGCGGUUGCGGCAGC': 'ath-miR404',\n 'AUGAGUUGGGUCUAACCCAUAACU': 'ath-miR405d',\n 'UAGAAUGCUAUUGUAAUCCAG': 'ath-miR406',\n 'UUUAAAUCAUAUACUUUUGGU': 'ath-miR407',\n 'ACAGGGAACAAGCAGAGCAUG': 'ath-miR408-5p',\n 'AUGCACUGCCUCUUCCCUGGC': 'ath-miR408',\n 'CGACAGAAGAGAGUGAGCAC': 'ath-miR156g',\n 'UGACAGAAGAAAGAGAGCAC': 'ath-miR156h',\n 'CCCCAAAUGUAGACAAAGCA': 'ath-miR158b',\n 'UUUGGAUUGAAGGGAGCUCCU': 'ath-miR159c',\n 'UUGGACUGAAGGGAGCUCCUU': 'ath-miR319c',\n 'UGGAGAAGCAGGGCACGUGCG': 'ath-miR164c-5p',\n 'CACGUGUUCUACUACUCCAAC': 'ath-miR164c',\n 'UAAGCUGCCAGCAUGAUCUUG': 'ath-miR167c-5p',\n 'UAGGUCAUGCUGGUAGUUUCACC': 'ath-miR167c',\n 'GGAAUCUUGAUGAUGCUGCAU': 'ath-miR172e',\n 'AUAGUUUCUCUUGUUCUGCAC': 'ath-miR413',\n 'UCAUCUUCAUCAUCAUCGUCA': 'ath-miR414',\n 'AACAGAGCAGAAACAGAACAU': 'ath-miR415',\n 'GGUUCGUACGUACACUGUUCA': 'ath-miR416',\n 'GAAGGUAGUGAAUUUGUUCGA': 'ath-miR417',\n 'UAAUGUGAUGAUGAACUGACC': 'ath-miR418',\n 'UUAUGAAUGCUGAGGAUGUUG': 'ath-miR419',\n 'UAAACUAAUCACGGAAAUGCA': 'ath-miR420',\n 'UUUUGGAAAUUUGUCCUUACG': 'ath-miR426',\n 'UUGGGGACGAGAUGUUUUGUUG': 'ath-miR447b',\n 'UAUGGAAGAAAUUGUAGUAUU': 'ath-miR447a.2',\n 'CCCCUUACAAUGUCGAGUAAA': 'ath-miR447c-5p',\n 'UUGGGGACGACAUCUUUUGUUG': 'ath-miR447c',\n 'UGAGCCUCUGUGGUAGCCCUCA': 'ath-miR771',\n 'AUGGUCGAAGUAGGCAAAAUC': 'ath-miR472-5p',\n 'UUUUUCCUACUCCGCCCAUACC': 'ath-miR472',\n 'UUUGCUUCCAGCUUUUGUCUC': 'ath-miR773a',\n 'UUGGUUACCCAUAUGGCCAUC': 'ath-miR774a',\n 'UUCGAUGUCUAGCAGUGCCA': 'ath-miR775',\n 'UCUAAGUCUUCUAUUGAUGUU': 'ath-miR776',\n 'UACGCAUUGAGUUUCGUUGCUU': 'ath-miR777',\n 'UGGCUUGGUUUAUGUACACCG': 'ath-miR778',\n 'UGAUUGGAAAUUUCGUUGACU': 'ath-miR779.2',\n 'UUCUGCUAUGUUGCUGCUCAU': 'ath-miR779.1',\n 'UCUAGCAGCUGUUGAGCAGGU': 'ath-miR780.1',\n 'UUCUUCGUGAAUAUCUGGCAU': 'ath-miR780.2',\n 'UUAGAGUUUUCUGGAUACUUA': 'ath-miR781b',\n 'ACAAACACCUUGGAUGUUCUU': 'ath-miR782',\n 'UGCGGGAAGCAUUUGCACAUG': 'ath-miR822-5p',\n 'UGUGCAAAUGCUUUCUACAGG': 'ath-miR822',\n 'UGGGUGGUGAUCAUAUAAGAU': 'ath-miR823',\n 'UUCUCAAGAAGGUGCAUGAAC': 'ath-miR825',\n 'UAGUCCGGUUUUGGAUACGUG': 'ath-miR826a',\n 'UUAGAUGACCAUCAACAAACU': 'ath-miR827',\n 'UCUUGCUUAAAUGAGUAUUCCA': 'ath-miR828',\n 'ACUUUGAAGCUUUGAUUUGAA': 'ath-miR829-5p',\n 'AGCUCUGAUACCAAAUGAUGGAAU': 'ath-miR829.1',\n 'CAAAUUAAAGCUUCAAGGUAG': 'ath-miR829.2',\n 'UCUUCUCCAAAUAGUUUAGGUU': 'ath-miR830-5p',\n 'UAACUAUUUUGAGAAGAAGUG': 'ath-miR830',\n 'AGAAGCGUACAAGGAGAUGAGG': 'ath-miR831-5p',\n 'UGAUCUCUUCGUACUCUUCUUG': 'ath-miR831',\n 'UGCUGGGAUCGGGAAUCGAAA': 'ath-miR832-5p',\n 'UUGAUUCCCAAUCCAAGCAAG': 'ath-miR832',\n 'UGUUUGUUGUACUCGGUCUAGU': 'ath-miR833a-5p',\n 'UAGACCGAUGUCAACAAACAAG': 'ath-miR833a',\n 'UGGUAGCAGUAGCGGUGGUAA': 'ath-miR834',\n 'UUCUUGCAUAUGUUCUUUAUC': 'ath-miR835-5p',\n 'UGGAGAAGAUACGCAAGAAAG': 'ath-miR835',\n 'UCCUGUGUUUCCUUUGAUGCGUGG': 'ath-miR836',\n 'AUCAGUUUCUUGUUCGUUUCA': 'ath-miR837-5p',\n 'AAACGAACAAAAAACUGAUGG': 'ath-miR837',\n 'UUUUCUUCUACUUCUUGCACA': 'ath-miR838',\n 'UACCAACCUUUCAUCGUUCCC': 'ath-miR839-5p',\n 'ACACUGAAGGACCUAAACUAAC': 'ath-miR840-5p',\n 'UUGUUUAGGUCCCUUAGUUUC': 'ath-miR840',\n 'UACGAGCCACUUGAAACUGAA': 'ath-miR841a-5p',\n 'AUUUCUAGUGGGUCGUAUUCA': 'ath-miR841a',\n 'UCAUGGUCAGAUCCGUCAUCC': 'ath-miR842',\n 'UUUAGGUCGAGCUUCAUUGGA': 'ath-miR843',\n 'UGGUAAGAUUGCUUAUAAGCU': 'ath-miR844-5p',\n 'UUAUAAGCCAUCUUACUAGUU': 'ath-miR844',\n 'CGGCUCUGAUACCAAUUGAUG': 'ath-miR845a',\n 'CAUUCAAGGACUUCUAUUCAG': 'ath-miR846-5p',\n 'UUGAAUUGAAGUGCUUGAAUU': 'ath-miR846',\n 'UGACAUGGGACUGCCUAAGCUA': 'ath-miR848',\n 'UAACUAAACAUUGGUGUAGUA': 'ath-miR849',\n 'UAAGAUCCGGACUACAACAAAG': 'ath-miR850',\n 'UCUCGGUUCGCGAUCCACAAG': 'ath-miR851-5p',\n 'UGGGUGGCAAACAAAGACGAC': 'ath-miR851',\n 'AAGAUAAGCGCCUUAGUUCUG': 'ath-miR852',\n 'UCCCCUCUUUAGCUUGGAGAAG': 'ath-miR853',\n 'UAGACCAUUUGUGAGAAGGGA': 'ath-miR824-5p',\n 'CCUUCUCAUCGAUGGUCUAGA': 'ath-miR824',\n 'UCACUCCUCUUCUUCUUGAUG': 'ath-miR847',\n 'AGCAAAAGCUAAGGAAAAGGAA': 'ath-miR855',\n 'GAUGAGGAUAGGGAGGAGGAG': 'ath-miR854e',\n 'UAAUCCUACCAAUAACUUCAGC': 'ath-miR856',\n 'UUUUGUAUGUUGAAGGUGUAU': 'ath-miR857',\n 'UUUCGUUGUCUGUUCGACCUU': 'ath-miR858a',\n 'UCUCUCUGUUGUGAAGUCAAA': 'ath-miR859',\n 'UCAAUAGAUUGGACUAUGUAU': 'ath-miR860',\n 'CCUUGGAGAAAUAUGCGUCAA': 'ath-miR861-5p',\n 'GAUGGAUAUGUCUUCAAGGAC': 'ath-miR861',\n 'UCCAAUAGGUCGAGCAUGUGC': 'ath-miR862-5p',\n 'AUAUGCUGGAUCUACUUGAAG': 'ath-miR862',\n 'UUAUGUCUUGUUGAUCUCAAU': 'ath-miR863-5p',\n 'UUGAGAGCAACAAGACAUAAU': 'ath-miR863',\n 'UCAGGUAUGAUUGACUUCAAA': 'ath-miR864-5p',\n 'UAAAGUCAAUAAUACCUUGAAG': 'ath-miR864',\n 'AUGAAUUUGGAUCUAAUUGAG': 'ath-miR865-5p',\n 'UUUUUCCUCAAAUUUAUCCAA': 'ath-miR865',\n 'UCAAGGAACGGAUUUUGUUAA': 'ath-miR866-5p',\n 'ACAAAAUCCGUCUUUGAAGA': 'ath-miR866',\n 'UCGCUCUGAUACCAAAUUGAUG': 'ath-miR845b',\n 'UUGAACAUGGUUUAUUAGGAA': 'ath-miR867',\n 'UCAUGUCGUAAUAGUAGUCAC': 'ath-miR868-5p',\n 'CUUCUUAAGUGCUGAUAAUGC': 'ath-miR868',\n 'AUUGGUUCAAUUCUGGUGUUG': 'ath-miR869.1',\n 'UCUGGUGUUGAGAUAGUUGAC': 'ath-miR869.2',\n 'AAGAACAUCAAAUUAGAAUGU': 'ath-miR870-5p',\n 'UAAUUUGGUGUUUCUUCGAUC': 'ath-miR870',\n 'UAAGGCACCCUUCUGAGUAGA': 'pbi-miR-506',\n 'UUUUGCACCUUUUGGAGUGAA': 'pbi-miR-507',\n 'UGAUUGUCACCUUUUUGAGUAGA': 'pbi-miR-508',\n 'UGAUUGAUACGUCUGUGGGUAGA': 'pbi-miR-509',\n 'UACUCCGGAGAGUGGCAAUCACA': 'pbi-miR-510',\n 'UUCACAGGGAGGUGUCAUUUAU': 'pbi-miR-513a',\n 'UUCACAAGGAGGUGUCAUUUAU': 'pbi-miR-513b',\n 'UUCACAGGGAGGUGUCAUUUGU': 'pbi-miR-513c',\n 'AUUGACACUUCUGUGAGUAG': 'pbi-miR-514',\n 'UGAGAGAAGUGAGAUGAAAUC': 'ath-miR1886.1',\n 'UGAGAUGAAAUCUUUGAUUGG': 'ath-miR1886.2',\n 'AAUUAAAGAUUUCAUCUUACU': 'ath-miR1886.3',\n 'UACUAAGUAGAGUCUAAGAGA': 'ath-miR1887',\n 'UAAGUUAAGAUUUGUGAAGAA': 'ath-miR1888a',\n 'UAAUCUGCAUCCUGAGGUUUA': 'ath-miR2111b-5p',\n 'GUCCUCGGGAUGCGGAUUACC': 'ath-miR2111a',\n 'AUCCUCGGGAUACAGUUUACC': 'ath-miR2111b',\n 'CGCAAAUGCGGAUAUCAAUGU': 'ath-miR2112-5p',\n 'CUUUAUAUCCGCAUUUGCGCA': 'ath-miR2112',\n 'GAAAUCGGAGAGGAAAUUCGCC': 'ath-miR2933b',\n 'UCUUUCUGCAAACGCCUUGGA': 'ath-miR2934-5p',\n 'CAUCCAAGGUGUUUGUAGAAA': 'ath-miR2934',\n 'CUUGAGAGAGAGAACACAGACG': 'ath-miR2936',\n 'AUAAGAGCUGUUGAAGGAGUC': 'ath-miR2937',\n 'GAUCUUUUGAGAGGGUUCCAG': 'ath-miR2938',\n 'UAACGCACAACACUAAGCCAU': 'ath-miR2939',\n 'GGCAAUAACUUGAGCAAACA': 'ath-miR773b-5p',\n 'UUUGAUUCCAGCUUUUGUCUC': 'ath-miR773b',\n 'ACUUGGCUGAUUCUAUUAUU': 'ath-miR3434-5p',\n 'UCAGAGUAUCAGCCAUGUGA': 'ath-miR3434',\n 'UGAGAUGAAGAUAUGGGUGAU': 'ath-miR774b-5p',\n 'CAUCCAUAUUUUCAUCUCGAA': 'ath-miR774b',\n 'UACGAGCCACUGGAAACUGAA': 'ath-miR841b-5p',\n 'CAAUUUCUAGUGGGUCGUAUU': 'ath-miR841b',\n 'UUUUCCUCUGUUGAAUUCUUGC': 'ath-miR4221',\n 'UCACUGGUACCAAUCAUUCCA': 'ath-miR4227',\n 'AUAGCCUUGAACGCCGUCGUU': 'ath-miR4228-5p',\n 'UCGGAUGCGAAACGGUGGUGU': 'ath-miR4228',\n 'UUUUCUUGGCCCAUCCACUUC': 'ath-miR3440b-5p',\n 'UGGAUUGGUCAAGGGAAGCGU': 'ath-miR3440b',\n 'UUUGUUAUUUUCGCAUGCUCC': 'ath-miR4239',\n 'UGACUAGACCCGUAACAUUAC': 'ath-miR4240',\n 'UUGAAAUUGUAGAUUUCGUAC': 'ath-miR4243',\n 'AACUUUGUGAUGACAACGAAG': 'ath-miR3932b',\n 'UUUGACGUGCUCGAUCUGCUC': 'ath-miR3932b-5p',\n 'AGAAGCAAAAUGACGACUCGG': 'ath-miR3933',\n 'UUUUACUGCUACUUGUGUUCC': 'ath-miR5012',\n 'UUUGUGACAUCUAGGUGCUUU': 'ath-miR5013',\n 'ACACUUAGUUUUGUACAACAU': 'ath-miR5014a-5p',\n 'UUGUACAAAUUUAAGUGUACG': 'ath-miR5014a',\n 'UUGGUGUUAUGUGUAGUCUUC': 'ath-miR5015',\n 'UUCUUGUGGAUUCCUUGGAAA': 'ath-miR5016',\n 'AUUUGUUACUAAUUUGGAAUG': 'ath-miR5017-5p',\n 'UUAUACCAAAUUAAUAGCAAA': 'ath-miR5017',\n 'UUAAAGCUCCACCAUGAGUCCAAU': 'ath-miR5018',\n 'UGUUGGGAAAGAAAAACUCUU': 'ath-miR5019',\n 'UGGAAGAAGGUGAGACUUGCA': 'ath-miR5020a',\n 'UGAGAAGAAGAAGAAGAAAA': 'ath-miR5021',\n 'GUCAUGGGGUAUGAUCGAAUG': 'ath-miR5022',\n 'AUUGGUAGUGGAUAAGGGGGC': 'ath-miR5023',\n 'AUGGCAUGAAAGAAGGUGAGA': 'ath-miR5020b',\n 'AUGACAAGGCCAAGAUAUAACA': 'ath-miR5024-5p',\n 'CCGUAUCUUGGCCUUGUCAUU': 'ath-miR5024',\n 'ACUGUAUAUAUGUAAGUGACA': 'ath-miR5025',\n 'ACUCAUAAGAUCGUGACACGU': 'ath-miR5026',\n 'ACCGGUUGGAACUUGCCUUAA': 'ath-miR5027',\n 'AAUUGGGUUUAUGCUAGAGUU': 'ath-miR5028',\n 'AAUGAGAGAGAACACUGCAAA': 'ath-miR5029',\n 'GAAAUAGCGAAGAUAUGAUUA': 'ath-miR5628',\n 'UUAGGGUAGUUAACGGAAGUUA': 'ath-miR5629',\n 'GCUAAGAGCGGUUCUGAUGGA': 'ath-miR5630b',\n 'UGGCAGGAAAGACAUAAUUUU': 'ath-miR5631',\n 'UGGCAUGGAAGAAGGUGAGAC': 'ath-miR5020c',\n 'UUGAUUCUCUUAUCCAACUGU': 'ath-miR5632-5p',\n 'UUGGAUUUAUAGUUGGAUAAG': 'ath-miR5632',\n 'UAUGAUCAUCAGAAAACAGUG': 'ath-miR5633',\n 'AGGGACUUUGUGAAUUUAGGG': 'ath-miR5634',\n 'UGUUAAGGAGUGUUAACGGUG': 'ath-miR5635c',\n 'CGUAGUUGCAGAGCUUGACGG': 'ath-miR5636',\n 'AAUGCGCAACUCUAUAUUUCC': 'ath-miR5637',\n 'AUACCAAAACUCUCUCACUUU': 'ath-miR5638a',\n 'UAGUCCACUGUGGUCUAAGGC': 'ath-miR5639-5p',\n 'UUUAGCCUCAGACCACGGUGGACU': 'ath-miR5639',\n 'UGAGAGAAGGAAUUAGAUUCA': 'ath-miR5640',\n 'UGGAAGAAGAUGAUAGAAUUA': 'ath-miR5641',\n 'UCUCGCGCUUGUACGGCUUU': 'ath-miR5642b',\n 'AGGCUUUUAAGAUCUGGUUGC': 'ath-miR5643b',\n 'GUGGGUUGCGGAUAACGGUA': 'ath-miR5644',\n 'ACAGUGGUCAUCUGGUGGGCU': 'ath-miR5638b',\n 'AUUUGAGUCAUGUCGUUAAG': 'ath-miR5645e',\n 'GUUCGAGGCACGUUGGGAGG': 'ath-miR5646',\n 'UCAAGUUUGAUGACGAUUCCA': 'ath-miR5647',\n 'UUUGGAAAUAUUUGGCUUGACU': 'ath-miR5648-5p',\n 'AUCUGAAGAAAAUAGCGGCAU': 'ath-miR5648',\n 'AACCUAUUUAACGACAUGACU': 'ath-miR5645c',\n 'AUUGAAUAUGUUGGUUACUAU': 'ath-miR5649b',\n 'UUGUUUUGGAUCUUAGAUACA': 'ath-miR5650',\n 'UUCGUUGUCUGUUCGACCUUG': 'ath-miR858b',\n 'UGUUUGUUGACAUCGGUCUAG': 'ath-miR833b',\n 'UGACAGAAGAGAGAGAGCAG': 'ath-miR156i',\n 'UUGUGCGGUUCAAAUAGUAAC': 'ath-miR5651',\n 'UGACAGAAGAGAGAGAGCAC': 'ath-miR156j',\n 'UUGAAUGUGAAUGAAUCGGGC': 'ath-miR5652',\n 'UGGGUUGAGUUGAGUUGAGUUGGC': 'ath-miR5653',\n 'AUAAAUCCCAACAUCUUCCA': 'ath-miR5654-5p',\n 'UGGAAGAUGCUUUGGGAUUUAUU': 'ath-miR5654',\n 'AAGUAGACACAUAAGAAGGAG': 'ath-miR5655',\n 'ACUGAAGUAGAGAUUGGGUUU': 'ath-miR5656',\n 'UGGACAAGGUUAGAUUUGGUG': 'ath-miR5657',\n 'AUGAUGAUGAUGAUGAUGAAA': 'ath-miR5658',\n 'CGAUGAAGGUCUUUGGAACGGUA': 'ath-miR5659',\n 'CAGGUGGUUAGUGCAAUGGAA': 'ath-miR5660',\n 'UUAGGCUAAGAUUUGUGAAGA': 'ath-miR1888b',\n 'AGAGGUACAUCAUGUAGUCUG': 'ath-miR5661',\n 'AGAGGUGACCAUUGGAGAUG': 'ath-miR5662',\n 'AGCUAAGGAUUUGCAUUCUCA': 'ath-miR5663-5p',\n 'UGAGAAUGCAAAUCCUUAGCU': 'ath-miR5663',\n 'AUAGUCAAUUUUAUCGGUCUG': 'ath-miR5664',\n 'UUGGUGGACAAGAUCUGGGAU': 'ath-miR5665',\n 'AUGGGACAUCGAGCAUUUAAU': 'ath-miR5666',\n 'ACAUAUGAUCUGCAUCUUUGC': 'ath-miR5995b',\n 'UGACAUCCAGAUAGAAGCUUUG': 'ath-miR5996',\n 'UGAAACCAAGUAGCUAAAUAG': 'ath-miR5997',\n 'ACAGUUUGUGUUUUGUUUUGU': 'ath-miR5998b',\n 'ACAAAGUUUUAUACUGACAAU': 'ath-miR4245',\n 'AUUUGUACACCUAGAUCUGUA': 'ath-miR5014b',\n 'UCUUCACUAUUAGACGGACAA': 'ath-miR5999',\n 'AAAGUAUAAUGGUUUAGUGGUUUG': 'ath-miR8121',\n 'AAUGGAGGCAAGUGUGAAGGA': 'ath-miR8165',\n 'AGAGAGUGUAGAAAGUUUCUCA': 'ath-miR8166',\n 'AGAUGUGGAGAUCGUGGGGAUG': 'ath-miR8167f',\n 'AGGUGCUGAGUGUGCUAGUGC': 'ath-miR8168',\n 'AUAGACAGAGUCACUCACAGA': 'ath-miR8169',\n 'AUAGCAAAUCGAUAAGCAAUG': 'ath-miR8170-5p',\n 'UUGCUUAAAGAUUUUCUAUGU': 'ath-miR8170',\n 'AUAGGUGGGCCAGUGGUAGGA': 'ath-miR8171',\n 'AUGGAUCAUCUAGAUGGAGAU': 'ath-miR8172',\n 'AUGUGCUGAUUCGAGGUGGGA': 'ath-miR8173',\n 'AUGUGUAUAGGGAAGCUAAUC': 'ath-miR8174',\n 'GAUCCCCGGCAACGGCGCCA': 'ath-miR8175',\n 'GGCCGGUGGUCGCGAGAGGGA': 'ath-miR8176',\n 'GUGUGAUGAUGUGUCAUUUAUA': 'ath-miR8177',\n 'UAACAGAGUAAUUGUACAGUG': 'ath-miR8178',\n 'UGACUGCAUUAACUUGAUCGU': 'ath-miR8179',\n 'UGCGGUGCGGGAGAAGUGC': 'ath-miR8180',\n 'UGGGGGUGGGGGGGUGACAG': 'ath-miR8181',\n 'UUGUGUUGCGUUUCUGUUGAUU': 'ath-miR8182',\n 'UUUAGUUGACGGAAUUGUGGC': 'ath-miR8183',\n 'UUUGGUCUGAUUACGAAUGUA': 'ath-miR8184',\n 'UGGUUUUGGACACGUGAAAAU': 'ath-miR826b',\n 'ACCCCGAUGGUUAUCCUCACC': 'ath-miR10515'}"
     },
     "execution_count": 34,
     "metadata": {},
     "output_type": "execute_result"
    }
   ],
   "source": [
    "ath_mature_mirnas_dict"
   ],
   "metadata": {
    "collapsed": false,
    "ExecuteTime": {
     "end_time": "2023-08-29T10:38:22.132095Z",
     "start_time": "2023-08-29T10:38:22.081173Z"
    }
   }
  },
  {
   "cell_type": "code",
   "execution_count": 11,
   "outputs": [],
   "source": [
    "# Get the all the A. thaliana sequences in the genome.\n",
    "with open('data/ath/GCF_000001735.4_TAIR10.1_rna.fna') as f:\n",
    "    ath_genome = f.read().split('>')[1:]\n",
    "    f.close()\n",
    "\n",
    "ath_genome_dict = {''.join(gene.split('\\n')[1:]): gene.split('\\n')[0].split('),')[0].split(' (')[-1]\n",
    "                   for gene in ath_genome}\n"
   ],
   "metadata": {
    "collapsed": false,
    "ExecuteTime": {
     "end_time": "2023-08-28T12:06:01.021956Z",
     "start_time": "2023-08-28T12:06:01.013629Z"
    }
   }
  },
  {
   "cell_type": "code",
   "execution_count": 22,
   "outputs": [
    {
     "name": "stdout",
     "output_type": "stream",
     "text": [
      "CA2\n",
      "CUL1\n",
      "HIRA\n",
      "GATB\n",
      "ABCA4\n",
      "PEX12\n",
      "ARPC1A\n",
      "PEX11B\n",
      "KAT5\n",
      "PES1\n",
      "MSH2\n",
      "MSH2\n",
      "ARPC1B\n",
      "GPX3\n",
      "GATA6\n",
      "CA2\n",
      "GPX3\n",
      "ABCG4\n",
      "ACAT2\n"
     ]
    }
   ],
   "source": [
    "# Look for all target genes existing in both species. ## TODO: Check if remove cell or not.\n",
    "for hsa_name in hsa_negative_targets:\n",
    "    if hsa_name in ath_genome_dict.values():\n",
    "        print(hsa_name)\n"
   ],
   "metadata": {
    "collapsed": false,
    "ExecuteTime": {
     "end_time": "2023-08-28T12:11:20.717316Z",
     "start_time": "2023-08-28T12:11:20.319431Z"
    }
   }
  },
  {
   "cell_type": "code",
   "execution_count": 17,
   "outputs": [
    {
     "data": {
      "text/plain": "['ITK',\n 'ACAP1',\n 'SLC25A5',\n 'ACAP1',\n 'EZH2',\n 'PSMD8',\n 'GOLGA4',\n 'THRB',\n 'AMT',\n 'CILP',\n 'STXBP1',\n 'NCKIPSD',\n 'CA2',\n 'SCHIP1',\n 'ASIC2',\n 'ARHGEF3',\n 'SLBP',\n 'ARHGEF4',\n 'MPP1',\n 'BSN',\n 'POLR3K',\n 'QDPR',\n 'CHGB',\n 'USP6',\n 'PKM',\n 'LMO2',\n 'INPP5A',\n 'MPP1',\n 'STX16',\n 'NPEPL1',\n 'PPP1R8',\n 'CUL1',\n 'HIRA',\n 'HARS1',\n 'PRKCB',\n 'POLR2E',\n 'GATB',\n 'AZGP1',\n 'GNG11',\n 'FXYD3',\n 'HTR2B',\n 'S100A2',\n 'NPDC1',\n 'PKP1',\n 'SEMG2',\n 'CALCRL',\n 'RPS6KA5',\n 'MAP3K6',\n 'ABCA4',\n 'MUC4',\n 'SLC9A3R2',\n 'FXYD3',\n 'DNAJB2',\n 'ALDOC',\n 'ABR',\n 'ARHGEF9',\n 'AP3B2',\n 'ELOC',\n 'NEFL',\n 'BMP3',\n 'QDPR',\n 'GLUD1',\n 'NRCAM',\n 'HRAS',\n 'NRGN',\n 'ANAPC5',\n 'USF2',\n 'GTF2F2',\n 'GSTM4',\n 'PLIN2',\n 'RGN',\n 'OGDH',\n 'PRKCD',\n 'FOLR2',\n 'VWF',\n 'AGPAT2',\n 'PEX12',\n 'HMBS',\n 'CD37',\n 'ATP5MC1',\n 'HMOX2',\n 'DGCR6',\n 'KCNN4',\n 'ELAC1',\n 'HSPG2',\n 'GAD1',\n 'UBE2V2',\n 'ZNF91',\n 'ARPC1A',\n 'PEX11B',\n 'CRYM',\n 'HLF',\n 'HARS1',\n 'FXYD6',\n 'DUSP8',\n 'FXYD5',\n 'CPA3',\n 'SPI1',\n 'MAGEA1',\n 'PMCH',\n 'ACE2',\n 'B3GNT4',\n 'FLT4',\n 'ACAD8',\n 'SLC1A1',\n 'GRN',\n 'AKR1A1',\n 'USP6',\n 'HYAL1',\n 'GNPAT',\n 'SLC5A2',\n 'KAT5',\n 'MRPS7',\n 'ALDOB',\n 'SLC22A6',\n 'PPP3CC',\n 'KCNJ1',\n 'FDXR',\n 'HEXA',\n 'MMP15',\n 'HOXB5',\n 'HSD17B2',\n 'SCTR',\n 'SLC17A1',\n 'SOX30',\n 'ACAD8',\n 'GCDH',\n 'MAG',\n 'PHKG2',\n 'S100A2',\n 'FCGBP',\n 'CRYBA4',\n 'PTK2B',\n 'TMPRSS5',\n 'WNT5B',\n 'RAMP1',\n 'RAB17',\n 'MPST',\n 'ANXA13',\n 'DPP3',\n 'PITX3',\n 'ACADS',\n 'AMFR',\n 'GCHFR',\n 'NPEPL1',\n 'PES1',\n 'MSH2',\n 'MSH2',\n 'NDUFA1',\n 'TOMM70',\n 'FCGBP',\n 'ARPC1B',\n 'TIMP2',\n 'UBASH3A',\n 'HMGCL',\n 'NDUFA2',\n 'NOTCH3',\n 'APBA1',\n 'MYH4',\n 'NDUFA7',\n 'CRLF1',\n 'FLT1',\n 'MFAP2',\n 'GPX3',\n 'ADM',\n 'MMP14',\n 'S100A8',\n 'EFNB1',\n 'CACNA1C',\n 'GATA6',\n 'PARVA',\n 'SPARCL1',\n 'SPARCL1',\n 'NUP54',\n 'PARVA',\n 'ITGA6',\n 'ISLR',\n 'CD44',\n 'MITF',\n 'E2F6',\n 'COL6A2',\n 'ABL1',\n 'COL16A1',\n 'MFAP2',\n 'SVIL',\n 'CAPN7',\n 'GABRP',\n 'PER3',\n 'NDRG2',\n 'ELMO2',\n 'PSMD7',\n 'CA2',\n 'ATP5MC1',\n 'GOT1',\n 'PROZ',\n 'GPX3',\n 'ERCC6',\n 'STX7',\n 'MTHFD1',\n 'TBX5',\n 'KIFC3',\n 'PGM1',\n 'CACNG1',\n 'ALDH9A1',\n 'PGD',\n 'P2RX4',\n 'RIPPLY3',\n 'MERTK',\n 'BIN1',\n 'POLR2E',\n 'FADS3',\n 'ADAM11',\n 'BCAS2',\n 'GRIN2C',\n 'MPP1',\n 'ABCG4',\n 'KCNQ1',\n 'BAD',\n 'CRABP1',\n 'BSN',\n 'STXBP1',\n 'ACTR1A',\n 'PIGH',\n 'USP6',\n 'MMUT',\n 'CAMKK2',\n 'CNNM4',\n 'CBX6',\n 'LDHB',\n 'ACAT2',\n 'CAD',\n 'MYL2',\n 'AP1M2',\n 'SLC6A7',\n 'ID1']"
     },
     "execution_count": 17,
     "metadata": {},
     "output_type": "execute_result"
    }
   ],
   "source": [
    "hsa_negative_targets"
   ],
   "metadata": {
    "collapsed": false,
    "ExecuteTime": {
     "end_time": "2023-08-28T12:10:06.801828Z",
     "start_time": "2023-08-28T12:10:06.788020Z"
    }
   }
  },
  {
   "cell_type": "markdown",
   "source": [
    "### 6. Model beating the baseline"
   ],
   "metadata": {
    "collapsed": false
   }
  },
  {
   "cell_type": "markdown",
   "source": [
    "### 7. Model overfitting\n"
   ],
   "metadata": {
    "collapsed": false
   }
  },
  {
   "cell_type": "markdown",
   "source": [
    "### 8. Regularization and hyperparameter tuning"
   ],
   "metadata": {
    "collapsed": false
   }
  },
  {
   "cell_type": "code",
   "execution_count": 1,
   "outputs": [
    {
     "name": "stderr",
     "output_type": "stream",
     "text": [
      "2023-08-24 12:46:13.126829: I tensorflow/core/platform/cpu_feature_guard.cc:182] This TensorFlow binary is optimized to use available CPU instructions in performance-critical operations.\n",
      "To enable the following instructions: AVX2 FMA, in other operations, rebuild TensorFlow with the appropriate compiler flags.\n"
     ]
    }
   ],
   "source": [
    "import tensorflow as tf"
   ],
   "metadata": {
    "collapsed": false,
    "ExecuteTime": {
     "end_time": "2023-08-24T10:46:16.752274Z",
     "start_time": "2023-08-24T10:46:11.211401Z"
    }
   }
  },
  {
   "cell_type": "markdown",
   "source": [
    "### References\n",
    "\n",
    "[1] A. Pla, X. Zhong, and S. Rayner, “miRAW: A deep learning-based approach to predict microRNA targets by analyzing whole microRNA transcripts,” PLOS Computational Biology, vol. 14, no. 7, p. e1006185, Jul. 2018, doi: 10.1371/journal.pcbi.1006185.\n",
    "\n",
    "[2] J. O’Brien, H. Hayder, Y. Zayed, and C. Peng, “Overview of MicroRNA Biogenesis, Mechanisms of Actions, and Circulation,” Frontiers in Endocrinology, vol. 9, 2018, Accessed: May 04, 2023. [Online]. Available: https://www.frontiersin.org/articles/10.3389/fendo.2018.00402\n",
    "\n",
    "[3] A. Quillet et al., “Improving Bioinformatics Prediction of microRNA Targets by Ranks Aggregation,” Frontiers in Genetics, vol. 10, 2020, Accessed: May 04, 2023. [Online]. Available: https://www.frontiersin.org/articles/10.3389/fgene.2019.01330\n",
    "\n",
    "[4] H. Nakayashiki, ‘RNA silencing in fungi: Mechanisms and applications’, FEBS Letters, vol. 579, no. 26, pp. 5950–5957, Oct. 2005, doi: 10.1016/j.febslet.2005.08.016.\n",
    "\n",
    "[5] T. Kakati, D. K. Bhattacharyya, J. K. Kalita, and T. M. Norden-Krichmar, ‘DEGnext: classification of differentially expressed genes from RNA-seq data using a convolutional neural network with transfer learning’, BMC Bioinformatics, vol. 23, no. 1, p. 17, Jan. 2022, doi: 10.1186/s12859-021-04527-4.\n",
    "\n",
    "[6] B. Hanczar, F. Zehraoui, T. Issa, and M. Arles, ‘Biological interpretation of deep neural network for phenotype prediction based on gene expression’, BMC Bioinformatics, vol. 21, no. 1, p. 501, Nov. 2020, doi: 10.1186/s12859-020-03836-4.\n",
    "\n",
    "[7] D. Urda, J. Montes-Torres, F. Moreno, L. Franco, and J. M. Jerez, ‘Deep Learning to Analyze RNA-Seq Gene Expression Data’, in Advances in Computational Intelligence, I. Rojas, G. Joya, and A. Catala, Eds., in Lecture Notes in Computer Science, vol. 10306. Cham: Springer International Publishing, 2017, pp. 50–59. doi: 10.1007/978-3-319-59147-6_5.\n",
    "\n",
    "[8] ‘Central Dogma’, Genome.gov, Sep. 14, 2022. https://www.genome.gov/genetics-glossary/Central-Dogma (accessed May 07, 2023).\n",
    "\n",
    "[9] A. Talukder, W. Zhang, X. Li, and H. Hu, “A deep learning method for miRNA/isomiR target detection,” Sci Rep, vol. 12, no. 1, Art. no. 1, Jun. 2022, doi: 10.1038/s41598-022-14890-8.\n",
    "\n",
    "[10] O. P. Gupta, P. Sharma, R. K. Gupta, and I. Sharma, “Current status on role of miRNAs during plant–fungus interaction,” Physiological and Molecular Plant Pathology, vol. 85, pp. 1–7, Jan. 2014, doi: 10.1016/j.pmpp.2013.10.002.\n",
    "\n",
    "[11] E. Marín-González and P. Suárez-López, “‘And yet it moves’: Cell-to-cell and long-distance signaling by plant microRNAs,” Plant Science, vol. 196, pp. 18–30, Nov. 2012, doi: 10.1016/j.plantsci.2012.07.009.\n",
    "\n",
    "[12] T. Siddika and I. U. Heinemann, “Bringing MicroRNAs to Light: Methods for MicroRNA Quantification and Visualization in Live Cells,” Frontiers in Bioengineering and Biotechnology, vol. 8, 2021, Accessed: Apr. 18, 2023. [Online]. Available: https://www.frontiersin.org/articles/10.3389/fbioe.2020.619583\n",
    "\n",
    "[13] J. K. W. Lam, M. Y. T. Chow, Y. Zhang, and S. W. S. Leung, “siRNA Versus miRNA as Therapeutics for Gene Silencing,” Mol Ther Nucleic Acids, vol. 4, no. 9, p. e252, Sep. 2015, doi: 10.1038/mtna.2015.23.\n",
    "\n",
    "[14] “miRTarBase: the experimentally validated microRNA-target interactions database.” https://mirtarbase.cuhk.edu.cn/~miRTarBase/miRTarBase_2022/php/index.php (accessed May 08, 2023).\n",
    "\n",
    "[15] “Gene Regulation,” Genome.gov, Sep. 14, 2022. https://www.genome.gov/genetics-glossary/Gene-Regulation (accessed May 09, 2023).\n",
    "\n",
    "[16] C. Stylianopoulou, “Carbohydrates: Regulation of metabolism,” in Encyclopedia of Human Nutrition (Fourth Edition), B. Caballero, Ed., Oxford: Academic Press, 2023, pp. 126–135. doi: 10.1016/B978-0-12-821848-8.00173-6.\n",
    "\n",
    "[17] L. He and G. J. Hannon, “MicroRNAs: small RNAs with a big role in gene regulation,” Nat Rev Genet, vol. 5, no. 7, Art. no. 7, Jul. 2004, doi: 10.1038/nrg1379.\n",
    "\n",
    "[18] D. Pradhan, A. Kumar, H. Singh, and U. Agrawal, “Chapter 4 - High-throughput sequencing,” in Data Processing Handbook for Complex Biological Data Sources, G. Misra, Ed., Academic Press, 2019, pp. 39–52. doi: 10.1016/B978-0-12-816548-5.00004-6.\n",
    "\n",
    "[19] B. Hanczar, F. Zehraoui, T. Issa, and M. Arles, “Biological interpretation of deep neural network for phenotype prediction based on gene expression,” BMC Bioinformatics, vol. 21, no. 1, p. 501, Nov. 2020, doi: 10.1186/s12859-020-03836-4.\n",
    "\n",
    "[20] A. L. Leitão and F. J. Enguita, “A Structural View of miRNA Biogenesis and Function,” Non-Coding RNA, vol. 8, no. 1, Art. no. 1, Feb. 2022, doi: 10.3390/ncrna8010010.\n",
    "\n",
    "[21] ‘Gene Expression | Learn Science at Scitable’. https://www.nature.com/scitable/topicpage/gene-expression-14121669/ (accessed May 07, 2023).\n",
    "\n",
    "[22] W. Guo, Y. Xu, and X. Feng, ‘DeepMetabolism: A Deep Learning System to Predict Phenotype from Genome Sequencing’. arXiv, May 08, 2017. doi: 10.48550/arXiv.1705.03094.\n",
    "\n",
    "[23] M. Wen, P. Cong, Z. Zhang, H. Lu, and T. Li, ‘DeepMirTar: a deep-learning approach for predicting human miRNA targets’, Bioinformatics, vol. 34, no. 22, pp. 3781–3787, Nov. 2018, doi: 10.1093/bioinformatics/bty424.\n",
    "\n",
    "[24] X. M. Xu and S. G. Møller, ‘The value of Arabidopsis research in understanding human disease states’, Curr Opin Biotechnol, vol. 22, no. 2, pp. 300–307, Apr. 2011, doi: 10.1016/j.copbio.2010.11.007.\n",
    "\n",
    "[25] G. P. Way and C. S. Greene, ‘Extracting a Biologically Relevant Latent Space from Cancer Transcriptomes with Variational Autoencoders’. bioRxiv, p. 174474, Aug. 11, 2017. doi: 10.1101/174474.\n",
    "\n",
    "[26] J. Rocca, ‘Understanding Variational Autoencoders (VAEs)’, Medium, Mar. 21, 2021. https://towardsdatascience.com/understanding-variational-autoencoders-vaes-f70510919f73 (accessed Jun. 07, 2023).\n",
    "\n",
    "[27] C. H. Grønbech, M. F. Vording, P. Timshel, C. K. Sønderby, T. H. Pers, and O. Winther, ‘scVAE: Variational auto-encoders for single-cell gene expression data’. bioRxiv, p. 318295, Oct. 02, 2019. doi: 10.1101/318295.\n",
    "\n",
    "[28] K. Y. Gao, A. Fokoue, H. Luo, A. Iyengar, S. Dey, and P. Zhang, ‘Interpretable Drug Target Prediction Using Deep Neural Representation’, in Proceedings of the Twenty-Seventh International Joint Conference on Artificial Intelligence, Stockholm, Sweden: International Joint Conferences on Artificial Intelligence Organization, Jul. 2018, pp. 3371–3377. doi: 10.24963/ijcai.2018/468.\n",
    "\n",
    "[29] ‘Arabidopsis thaliana (ID 4) - Genome - NCBI’. https://www.ncbi.nlm.nih.gov/genome/4?genome_assembly_id=380024 (accessed Jul. 02, 2023).\n",
    "\n",
    "[30] G. B. Or and I. Veksler-Lublinsky, ‘Comprehensive machine-learning-based analysis of microRNA-target interactions reveals variable transferability of interaction rules across species’. bioRxiv, p. 2021.03.28.437385, Mar. 29, 2021. doi: 10.1101/2021.03.28.437385.\n",
    "\n",
    "[31] ‘Arabidopsis thaliana (ID 4) - Genome - NCBI’. https://www.ncbi.nlm.nih.gov/genome/4?genome_assembly_id=380024 (accessed Jul. 02, 2023).\n",
    "\n",
    "[32] X. Chen, ‘Small RNAs – secrets and surprises of the genome’, Plant J, vol. 61, no. 6, pp. 941–958, Mar. 2010, doi: 10.1111/j.1365-313X.2009.04089.x.\n",
    "\n",
    "[33] S. Bandyopadhyay and R. Mitra, ‘TargetMiner: microRNA target prediction with systematic identification of tissue-specific negative examples’, Bioinformatics, vol. 25, no. 20, pp. 2625–2631, Oct. 2009, doi: 10.1093/bioinformatics/btp503.\n",
    "\n",
    "[34] ‘PmiREN: Plant microRNA Encyclopedia’. https://www.pmiren.com/download (accessed Aug. 04, 2023).\n",
    "\n",
    "[35] ‘refSeq Accession to Gene Symbol Converter - Genomics Biotools’. https://www.biotools.fr/mouse/refseq_symbol_converter (accessed Aug. 07, 2023).\n",
    "\n",
    "[36] ‘miRBase - Downloads’. https://mirbase.org/download/ (accessed Aug. 13, 2023).\n",
    "\n",
    "[37] ‘Genome’, NCBI. https://www.ncbi.nlm.nih.gov/datasets/genome/?taxon=9606 (accessed Aug. 13, 2023).\n",
    "\n",
    "[38] ‘11968211 - Assembly - NCBI’. https://www.ncbi.nlm.nih.gov/assembly/?term=GCF_000001405 (accessed Aug. 13, 2023).\n",
    "\n",
    "[39] B. Murcott, R. J. Pawluk, A. V. Protasio, R. Y. Akinmusola, D. Lastik, and V. L. Hunt, ‘stepRNA: Identification of Dicer cleavage signatures and passenger strand lengths in small RNA sequences’, Frontiers in Bioinformatics, vol. 2, 2022, Accessed: Aug. 18, 2023. [Online].\n",
    "\n",
    "[40] H.-Y. Huang et al., ‘miRTarBase update 2022: an informative resource for experimentally validated miRNA–target interactions’, Nucleic Acids Research, vol. 50, no. D1, pp. D222–D230, Jan. 2022, doi: 10.1093/nar/gkab1079.\n",
    "\n",
    "[41] ‘Bio.pairwise2 module — Biopython 1.75 documentation’. https://biopython.org/docs/1.75/api/Bio.pairwise2.html (accessed Aug. 29, 2023).\n"
   ],
   "metadata": {
    "collapsed": false
   }
  },
  {
   "cell_type": "code",
   "execution_count": null,
   "outputs": [],
   "source": [],
   "metadata": {
    "collapsed": false
   }
  }
 ],
 "metadata": {
  "kernelspec": {
   "display_name": "Python 3",
   "language": "python",
   "name": "python3"
  },
  "language_info": {
   "codemirror_mode": {
    "name": "ipython",
    "version": 2
   },
   "file_extension": ".py",
   "mimetype": "text/x-python",
   "name": "python",
   "nbconvert_exporter": "python",
   "pygments_lexer": "ipython2",
   "version": "2.7.6"
  }
 },
 "nbformat": 4,
 "nbformat_minor": 0
}
