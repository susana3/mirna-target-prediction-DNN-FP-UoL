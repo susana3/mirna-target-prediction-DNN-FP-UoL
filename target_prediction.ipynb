{
 "cells": [
  {
   "cell_type": "markdown",
   "source": [
    "# miRNA-mRNA target prediction\n"
   ],
   "metadata": {
    "collapsed": false
   }
  },
  {
   "cell_type": "markdown",
   "source": [
    "### 1. Problem definition\n",
    "\n",
    "This project aims to <b>predict if an input pair of sequences (miRNA and mRNA) will interact</b>; given that the molecules interact, they constitute a pair, whereas if they do not interact, they are defined as non-pair.\n",
    "\n",
    "Since the mechanisms underlying the targeting process can differ between organisms, this study is <b>focused on the A. thaliana organism</b>. This is a model organism, meaning that the results obtained can be extrapolated to other plants; furthermore, they can be used to understand human diseases due to the conservation of protein function, conservation of cellular processes, and the high percentage of genes shared between both species [31, 32].\n",
    "\n",
    "Considering the above, this problem can be shaped as a <b>binary classification problem</b>, where 0 means non-pair and 1 represents a pair.\n",
    "\n",
    "The data proposed to train a DNN able to distinguish between pair and non-pair RNA sequences consists of curated interactions that are publicly available and reported in the literature [14].\n",
    "\n",
    "Although such miRNA-mRNA interacting pairs can be used to train the network, they represent only positive examples that were tested experimentally either in vivo or in vitra. This implies that the <b>available datasets are unbalanced</b>, and denotes the need to incorporate negative data before proceeding."
   ],
   "metadata": {
    "collapsed": false
   }
  },
  {
   "cell_type": "markdown",
   "source": [
    "### 2. Dataset selection\n",
    "\n",
    "<b>Positive examples</b> of interactions were downloaded from MirTarBase [14] and PmiRen [34]. These databases were selected based on the following criteria.\n",
    "- A. thaliana miRNA/mRNA target interaction available.\n",
    "- Interactions are curated based on experimental evidence.\n",
    "- The databases are continuously maintained and updated.\n",
    "- The data is publicly available.\n",
    "[14, 34, 40]\n",
    "\n",
    "Validated <b>negative examples</b> are only available for H. sapiens. Using the available H. sapiens validated interactions [33], this project proposes  finding homologous sequences between A. thaliana and H. sapiens, and select them to assemble a dataset.\n",
    "\n",
    "It is worth mentioning that, in this study, <b>a new methodology to expand negative miRNA-mRNA target datasets to alternative organisms is proposed</b> (refer to <i>Section 5. Data preparation</i> for more details). Following that methodology, proved to be successful in overcoming the problem of unbalanced datasets in the field of miRNA-mRNA target prediction.\n"
   ],
   "metadata": {
    "collapsed": false
   }
  },
  {
   "cell_type": "markdown",
   "source": [
    "### 3. Success measures\n",
    "The dataset will be split into train, test, and validation sets. Since this project presents a challenge in terms of underrepresented categories (i.e., lack of negative examples of interactions), the split datasets should be carefully assembled to ensure the presence of all categories (i.e., positive and negative examples). The proportion of the split datasets are defined as follows:\n",
    "\n",
    "- Train dataset: 0.6\n",
    "- Validation dataset: 0.2\n",
    "- Test dataset: 0.2\n",
    "\n",
    "After implemented the proposed solution for unbalanced data (refer to <i>Section 5. Data preparation</i> for more details), <b>the generated datasets should considered balanced</b>; therefore, <b>accuracy</b> is expected to be an appropriate measure."
   ],
   "metadata": {
    "collapsed": false
   }
  },
  {
   "cell_type": "markdown",
   "source": [
    "### 4. Evaluation protocols\n",
    "TODO\n"
   ],
   "metadata": {
    "collapsed": false
   }
  },
  {
   "cell_type": "markdown",
   "source": [
    "### 5. Data preparation\n",
    "In the context of this project, a negative example constitutes a pair of molecules (miRNA and mRNA) that do NOT interact. Given the lack of experimentally confirmed negative examples, the available datasets for target prediction are highly unbalanced, containing exclusively positive data (pairs that interact). To overcome this problem, a negative publicly available curated dataset for human (hsa) miRNA target prediction is proposed [33]. However, since this project proposal uses A. thaliana (ath) as organism to study, only the homologous and highly conserved genes across both organisms will be considered.\n",
    "\n",
    "The methodology and process of mapping those genes across organisms is presented in this section."
   ],
   "metadata": {
    "collapsed": false
   }
  },
  {
   "cell_type": "markdown",
   "source": [
    "#### 5.1. Negative dataset - Dataset generation"
   ],
   "metadata": {
    "collapsed": false
   }
  },
  {
   "cell_type": "markdown",
   "source": [
    "##### 5.1.1 Negative dataset - Preprocessing\n",
    "\n",
    "For the preprocessing stage, the RefSeq IDs were converted into Gene symbol IDs using Genomics Biotools [35], then the invalid IDs and duplicates were removed from the dataset. The output files of this stage are:\n",
    "- `data/negative_targets_human.xlsx`\n",
    "- `data/negative_pairs/hsa_mirnas.txt`\n",
    "- `data/negative_pairs/hsa_targets.txt`\n"
   ],
   "metadata": {
    "collapsed": false
   }
  },
  {
   "cell_type": "markdown",
   "source": [
    "##### 5.1.2 Negative dataset - Methodology\n",
    "The methodology for preparing a negative dataset consists of:\n",
    "- Extracting the H. sapiens miRNA sequence.\n",
    "- Getting the H. sapiens target sequence.\n",
    "- Finding the homologous miRNA sequences in A. thaliana (pairwise alignment - Local [41]).\n",
    "- Getting the homologous target sequence in A. thaliana (pairwise alignment - Global [41]).\n",
    "- Matching the homologous miRNA and homologous targets.\n",
    "\n",
    "Since it is not guaranteed that the interaction miRNA-mRNA results will hold given the presence of gaps in the alignments, the opening of a gap in the alignment should be penalized as well as its size or extension.\n",
    "\n",
    "Furthermore, given the nature of the proposed research problem, where mature miRNA sequences have a length of 17-22 nucleotides and pair with binding sites of the same length in targets [2, 4], finding the exact sequences in homologous genes is more valuable than an overall high similarity using global alignments. Considering the above, local alignments are used in this project.\n"
   ],
   "metadata": {
    "collapsed": false
   }
  },
  {
   "cell_type": "markdown",
   "source": [
    "\n",
    "##### 5.1.3. Sequence extraction\n",
    "To extract the miRNA sequences, a dataset containing all known mature miRNA sequences was downloaded from miRBase [36], whereas to locate the target sequences, the full H. sapiens genome was used [37, 38].\n",
    "\n",
    "Once the sequences are extracted, they are integrated with the negative dataset [33]."
   ],
   "metadata": {
    "collapsed": false
   }
  },
  {
   "cell_type": "code",
   "execution_count": 1,
   "outputs": [
    {
     "name": "stdout",
     "output_type": "stream",
     "text": [
      "Total hsa miRNAs: 2655\n",
      "Total ath miRNAs: 350\n"
     ]
    }
   ],
   "source": [
    "import numpy as np\n",
    "\n",
    "# Load the FASTA file containing all known miRNA sequences for all organisms.\n",
    "with open('data/mature_mirna_all_organisms.fa') as f:\n",
    "    mature_mirnas = f.read().split('>')[1:]\n",
    "    f.close()\n",
    "\n",
    "# Isolate H. sapiens (hsa) and A. thaliana (ath) sequences.\n",
    "hsa_mature_mirnas_dict = {mirna.split(' ')[0]: mirna.split('\\n')[1]\n",
    "                          for mirna in mature_mirnas\n",
    "                          if 'hsa-' in mirna}\n",
    "\n",
    "ath_mature_mirnas_dict = {mirna.split('\\n')[1]: mirna.split(' ')[0]\n",
    "                          for mirna in mature_mirnas\n",
    "                          if 'ath-' in mirna}\n",
    "\n",
    "print(f'Total hsa miRNAs: {len(hsa_mature_mirnas_dict)}')\n",
    "print(f'Total ath miRNAs: {len(ath_mature_mirnas_dict)}')\n"
   ],
   "metadata": {
    "collapsed": false,
    "ExecuteTime": {
     "end_time": "2023-09-24T23:45:39.191539Z",
     "start_time": "2023-09-24T23:45:38.976979Z"
    }
   }
  },
  {
   "cell_type": "markdown",
   "source": [
    "In order to extract the similar sequences in A. thaliana, all the miRNAs must be aligned between both organisms. This implies that 953145 local pairwise alignments will occur, where each pair can have at least one possible alignment configuration. To optimize memory usage and performance, in the next section (5.3.3. Sequence matching - Homology search and pairwise alignment in A. thaliana) only the most relevant (best score) alignment configuration for each pair will be retrieved."
   ],
   "metadata": {
    "collapsed": false
   }
  },
  {
   "cell_type": "code",
   "execution_count": 2,
   "outputs": [],
   "source": [
    "# Load the list of miRNAs included in the negative dataset [33].\n",
    "with open('data/negative_pairs/hsa_mirnas.txt') as f:\n",
    "    hsa_negative_mirnas = f.read().split('\\n')\n",
    "    f.close()\n"
   ],
   "metadata": {
    "collapsed": false,
    "ExecuteTime": {
     "end_time": "2023-09-24T23:45:41.521267Z",
     "start_time": "2023-09-24T23:45:41.456899Z"
    }
   }
  },
  {
   "cell_type": "code",
   "execution_count": 3,
   "outputs": [],
   "source": [
    "# Match the negative dataset [1] miRNAs with the respective mature miRNA miRBase [3] sequence.\n",
    "hsa_negative_mirnas_seq = [hsa_mature_mirnas_dict[mirna]\n",
    "                           if mirna in hsa_mature_mirnas_dict.keys() else mirna\n",
    "                           for mirna in hsa_negative_mirnas]\n",
    "\n",
    "# Create a separate file holding only the sequences.\n",
    "with open('data/negative_pairs/hsa_mirnas_seq.txt', 'w') as f:\n",
    "    f.write('\\n'.join(hsa_negative_mirnas_seq))\n",
    "    f.close()\n"
   ],
   "metadata": {
    "collapsed": false,
    "ExecuteTime": {
     "end_time": "2023-09-24T23:45:42.307232Z",
     "start_time": "2023-09-24T23:45:42.268116Z"
    }
   }
  },
  {
   "cell_type": "code",
   "execution_count": 4,
   "outputs": [],
   "source": [
    "# Get the hsa target sequences from Human genome.\n",
    "with open('data/hsa/GCF_000001405.40_GRCh38.p14_rna.fna') as f:\n",
    "    hsa_genome = f.read().split('>')[1:]\n",
    "    f.close()\n",
    "\n",
    "hsa_genome_dict = {gene.split('\\n')[0].split('),')[0].split(' (')[-1]: ''.join(gene.split('\\n')[1:])\n",
    "                   for gene in hsa_genome}\n"
   ],
   "metadata": {
    "collapsed": false,
    "ExecuteTime": {
     "end_time": "2023-09-24T23:45:51.970140Z",
     "start_time": "2023-09-24T23:45:43.226558Z"
    }
   }
  },
  {
   "cell_type": "code",
   "execution_count": 5,
   "outputs": [],
   "source": [
    "# Get the list of hsa target genes included in the negative dataset.\n",
    "with open('data/negative_pairs/hsa_targets.txt') as f:\n",
    "    hsa_negative_targets = f.read().split('\\n')\n",
    "    f.close()\n"
   ],
   "metadata": {
    "collapsed": false,
    "ExecuteTime": {
     "end_time": "2023-09-24T23:45:51.980746Z",
     "start_time": "2023-09-24T23:45:51.970929Z"
    }
   }
  },
  {
   "cell_type": "code",
   "execution_count": 6,
   "outputs": [],
   "source": [
    "# Match the negative hsa target names with the respective sequence from the hsa genome [37, 38].\n",
    "hsa_negative_targets_seq = [hsa_genome_dict[target] if target in hsa_genome_dict.keys() else '-'\n",
    "                            for target in hsa_negative_targets]\n",
    "\n",
    "# Create a separate file holding only the target sequences.\n",
    "with open('data/negative_pairs/hsa_targets_seq.txt', 'w') as f:\n",
    "    f.write('\\n'.join(hsa_negative_targets_seq))\n",
    "    f.close()\n"
   ],
   "metadata": {
    "collapsed": false,
    "ExecuteTime": {
     "end_time": "2023-09-24T23:45:51.993943Z",
     "start_time": "2023-09-24T23:45:51.983504Z"
    }
   }
  },
  {
   "cell_type": "markdown",
   "source": [
    "##### 5.1.4. Sequence matching - Homology search and pairwise alignment in A. thaliana\n",
    "To create the negative dataset for A. thaliana organism, homologous sequences to those appearing in the H. sapiens dataset [33] will be considered. Potential target mRNA sequences from A. thaliana are extracted from the last released genome [29], and the respective mature miRNA sequences are downloaded from miRBase database [36].\n",
    "\n",
    "To compare the similarity between sequences, pairwise nucleotide local alignment is executed with gap penalty [41], and only sequences with final score >= 70% are stored in the new dataset. Since the gaps and mismatches are more important in miRNA comparisons, the penalties for gap opening and extension used for miRNA alignments are greater than those used for target comparisons.\n"
   ],
   "metadata": {
    "collapsed": false
   }
  },
  {
   "cell_type": "code",
   "execution_count": 7,
   "outputs": [],
   "source": [
    "import warnings\n",
    "warnings.filterwarnings('ignore')\n",
    "## TODO remove cell\n"
   ],
   "metadata": {
    "collapsed": false,
    "ExecuteTime": {
     "end_time": "2023-09-24T23:45:52.036106Z",
     "start_time": "2023-09-24T23:45:51.996061Z"
    }
   }
  },
  {
   "cell_type": "code",
   "execution_count": 8,
   "outputs": [
    {
     "name": "stderr",
     "output_type": "stream",
     "text": [
      "235it [00:04, 57.96it/s] "
     ]
    },
    {
     "name": "stdout",
     "output_type": "stream",
     "text": [
      "Total hsa miRNAs with at least one ath homologous: 9\n",
      "Total ath miRNAs homologous to a hsa miRNA: 11\n"
     ]
    },
    {
     "name": "stderr",
     "output_type": "stream",
     "text": [
      "\n"
     ]
    }
   ],
   "source": [
    "import gc\n",
    "from Bio import pairwise2\n",
    "from Bio.Seq import Seq\n",
    "from tqdm import tqdm\n",
    "\n",
    "# Alignment for hsa and ath miRNAs.\n",
    "matching_mirnas = {}\n",
    "hsa_mirnas_name_seq = zip(hsa_negative_mirnas, hsa_negative_mirnas_seq)\n",
    "for hsa_mirna_name, hsa_mirna_seq in tqdm(hsa_mirnas_name_seq):\n",
    "    # Checks that the hsa miRNA is not stored yet in the dict. This can happen because of the format of the original data, where each miRNA can target one or more mRNAs.\n",
    "    if hsa_mirna_name in matching_mirnas.keys():\n",
    "        continue\n",
    "\n",
    "    # Convert Human sequence into Byophyton Sequence object.\n",
    "    hsa_seq = Seq(hsa_mirna_seq)\n",
    "    hsa_len = len(hsa_mirna_seq)\n",
    "    for ath_mirna_seq, ath_mirna_name in ath_mature_mirnas_dict.items():\n",
    "        # Convert A. thaliana sequence into Byophyton Sequence object.\n",
    "        ath_seq = Seq(ath_mirna_seq)\n",
    "        # Performs the alignment.\n",
    "        try:\n",
    "            # Although the algorithm tries all the possible alignments, this part of the code filters and stores only the most relevant one (i.e., minimized gaps and maximized score).\n",
    "            # To speed up the calculations and optimize memory usage, the tested alignments are discarded and only the best score float is retrieved.\n",
    "            # The parameters for the local alignment include:\n",
    "            #   Matching nucleotides     =   +1 score points\n",
    "            #   Mismatching nucleotides  =   -2 score points\n",
    "            #   Opening a gap            =   -0.5 score points\n",
    "            #   Continuing the gap       =   -0.1 score points\n",
    "            # Note: The maximum score is the total length of the shortest sequence.\n",
    "            best_alignment_score = pairwise2.align.localms(hsa_seq, ath_seq,\n",
    "                                                           1, -2,\n",
    "                                                           -.5, -.1,\n",
    "                                                           score_only=True)\n",
    "\n",
    "            # Expresses the score as a percentage based on the shortest sequence.\n",
    "            ath_len = len(ath_mirna_seq)\n",
    "            shortest_len = min(hsa_len, ath_len)\n",
    "            best_alignment_perc = best_alignment_score / shortest_len\n",
    "            # Sets the threshold to select or discard the sequence as valid homologous.\n",
    "            threshold = 0.65\n",
    "            if best_alignment_perc >= threshold:\n",
    "                ath_mirna_data = {'name': ath_mirna_name, 'sequence': ath_mirna_seq}\n",
    "                if hsa_mirna_name not in matching_mirnas.keys():\n",
    "                    matching_mirnas[hsa_mirna_name] = [ath_mirna_data]\n",
    "                else:\n",
    "                    matching_mirnas[hsa_mirna_name].append(ath_mirna_data)\n",
    "\n",
    "        except MemoryError:\n",
    "            print(f'Memory err: hsa-{hsa_mirna_name}\\tath-{ath_mirna_name}')\n",
    "            gc.collect()\n",
    "            continue\n",
    "\n",
    "print(f'Total hsa miRNAs with at least one ath homologous: '\n",
    "      f'{len(matching_mirnas.keys())}')\n",
    "print(f'Total ath miRNAs homologous to a hsa miRNA: '\n",
    "      f'{sum([len(mirnas) for mirnas in matching_mirnas.values()])}')\n"
   ],
   "metadata": {
    "collapsed": false,
    "ExecuteTime": {
     "end_time": "2023-09-24T23:45:56.222772Z",
     "start_time": "2023-09-24T23:45:52.002909Z"
    }
   }
  },
  {
   "cell_type": "markdown",
   "source": [
    "These results indicate that there will be at least 11 ath miRNAs to create a negative set. The number of negative examples in the dataset will increase considering that miRNAs can have more than one non-target.\n",
    "\n",
    "The next step in the process is to find the target genes that are homologous between both organisms. For this purpose, a global alignment is proposed with gap penalty. The global alignment is suitable for this purpose because unlike miRNAs, target transcripts are longer, which implies that the local alignment could take too long. Furthermore, the threshold and penalty values are set lower, selecting those homologous genes with at least 65% similarity."
   ],
   "metadata": {
    "collapsed": false
   }
  },
  {
   "cell_type": "code",
   "execution_count": 9,
   "outputs": [
    {
     "name": "stdout",
     "output_type": "stream",
     "text": [
      "Total genes in A. thaliana genome: 53743\n",
      "Total target genes in negative dataset: 235\n"
     ]
    }
   ],
   "source": [
    "# Get the all the A. thaliana sequences in the genome.\n",
    "with open('data/ath/GCF_000001735.4_TAIR10.1_rna.fna') as f:\n",
    "    ath_genome = f.read().split('>')[1:]\n",
    "    f.close()\n",
    "\n",
    "ath_genome_dict = {''.join(gene.split('\\n')[1:]): gene.split('\\n')[0].split('),')[0].split(' (')[-1]\n",
    "                   for gene in ath_genome}\n",
    "\n",
    "print(f'Total genes in A. thaliana genome: {len(ath_genome_dict.keys())}')\n",
    "print(f'Total target genes in negative dataset: {len(hsa_negative_targets)}')\n"
   ],
   "metadata": {
    "collapsed": false,
    "ExecuteTime": {
     "end_time": "2023-09-24T23:45:57.745389Z",
     "start_time": "2023-09-24T23:45:56.199911Z"
    }
   }
  },
  {
   "cell_type": "markdown",
   "source": [
    "In this case, 12629605 alignments should be performed, thus a multiprocessing approach is adopted. The full code implemented for performing the alignment and filter by homology threshold using multiprocessing is available at <code>alignments_targets.py</code>."
   ],
   "metadata": {
    "collapsed": false
   }
  },
  {
   "cell_type": "code",
   "execution_count": 10,
   "outputs": [],
   "source": [
    "import itertools\n",
    "\n",
    "# Prepares a list with all the possible permutations of hsa and ath genes.\n",
    "hsa_ath_gene_permutations = list(itertools.product(\n",
    "    [(name, seq) for name, seq in zip(hsa_negative_targets, hsa_negative_targets_seq)],\n",
    "    [(name, seq) for seq, name in ath_genome_dict.items()]\n",
    "))\n"
   ],
   "metadata": {
    "collapsed": false,
    "ExecuteTime": {
     "end_time": "2023-09-24T23:46:00.520180Z",
     "start_time": "2023-09-24T23:45:57.748962Z"
    }
   }
  },
  {
   "cell_type": "code",
   "execution_count": 11,
   "outputs": [],
   "source": [
    "from concurrent.futures import ProcessPoolExecutor\n",
    "from alignments_targets import align_targets\n",
    "import multiprocessing\n",
    "from tqdm import tqdm\n",
    "import gc\n",
    "\n",
    "num_cores = multiprocessing.cpu_count()\n"
   ],
   "metadata": {
    "collapsed": false,
    "ExecuteTime": {
     "end_time": "2023-09-24T23:46:00.599199Z",
     "start_time": "2023-09-24T23:46:00.500779Z"
    }
   }
  },
  {
   "cell_type": "code",
   "execution_count": null,
   "outputs": [],
   "source": [
    "if __name__ == '__main__':\n",
    "    with ProcessPoolExecutor(max_workers=num_cores) as pool:\n",
    "        with tqdm(total=len(hsa_ath_gene_permutations)) as progress:\n",
    "            futures = []\n",
    "            results = []\n",
    "\n",
    "            for gene_pair in hsa_ath_gene_permutations:\n",
    "                hsa_gene = gene_pair[0]\n",
    "                ath_gene = gene_pair[1]\n",
    "\n",
    "                future = pool.submit(align_targets, [hsa_gene, ath_gene])\n",
    "                future.add_done_callback(lambda x: progress.update())\n",
    "                futures.append(future)\n",
    "\n",
    "            try:\n",
    "                for future in futures:\n",
    "                    result = future.result()\n",
    "                    results.append(result)\n",
    "\n",
    "            except Exception as e:\n",
    "                print('---ERROR: ', e, hsa_gene[0], ath_gene[0])\n",
    "                gc.collect()\n",
    "                raise Exception\n"
   ],
   "metadata": {
    "collapsed": false
   }
  },
  {
   "cell_type": "markdown",
   "source": [
    "After performing all the alignments and storing the pairs with homology >= 65%, the sequences must be retrieved from the created database and integrated into the dataset.\n",
    "\n",
    "In the generated database, the keys are defined as follows:\n",
    "- Keys containing `_time` indicate that the pair was aligned and the process was finished.\n",
    "- Keys containing `_score` hold the scores only of those pairs with score >= 65%.\n",
    "- Keys containing `_sequences` include the full sequences of the aligned pair, given that is was homologous (>=65%).\n",
    "\n",
    "For instance, the key `AMFR_AT3G56920_score` indicates that the human gene `AMFR` and the A. thaliana gene `AT3G56920` were aligned with score >= 65%.\n",
    "\n",
    "Considering the above, the keys containing `_score` are extracted first to get the names of the pair genes that were identified as homologous."
   ],
   "metadata": {
    "collapsed": false
   }
  },
  {
   "cell_type": "code",
   "execution_count": 12,
   "outputs": [
    {
     "name": "stdout",
     "output_type": "stream",
     "text": [
      "Total keys in db: 5000729\n",
      "Total pairs with homology >= 65%: 246411\n"
     ]
    }
   ],
   "source": [
    "import redis\n",
    "from alignments_targets import r_pair_alignment_sequences\n",
    "\n",
    "r = redis.Redis(host='localhost', port=6379, decode_responses=True, db=1)\n",
    "print(f'Total keys in db: {r.dbsize()}')\n",
    "\n",
    "# Retrieves the keys for the pairs with homology >= 65%.\n",
    "keys_score = r.keys(pattern='*_score')\n",
    "print(f'Total pairs with homology >= 65%: {len(keys_score)}')\n",
    "# Saves the gene pair names.\n",
    "keys_gene_pair = [key.replace('_score', '') for key in keys_score]\n",
    "with open('data/negative_pairs/keys_names_ath_hsa_alignment.txt', 'w') as f:\n",
    "    f.write('\\n'.join(keys_gene_pair))\n",
    "    f.close()\n"
   ],
   "metadata": {
    "collapsed": false,
    "ExecuteTime": {
     "end_time": "2023-09-24T23:46:07.865407Z",
     "start_time": "2023-09-24T23:46:00.921774Z"
    }
   }
  },
  {
   "cell_type": "code",
   "execution_count": 13,
   "outputs": [],
   "source": [
    "# Organizes the results in a dictionary.\n",
    "hsa_ath_alignment_dict = {}\n",
    "for gene_pair in keys_gene_pair:\n",
    "    # Gets the individual gene names for the pair.\n",
    "    gene_pair = gene_pair.split('_')\n",
    "    hsa_gene_name = gene_pair[0]\n",
    "    # The names for ath genes are processed further due to its nature.\n",
    "    ath_gene_name = '_'.join(gene_pair[1:])\n",
    "    # Gets the sequences of each gene in the pair.\n",
    "    sequences = r.get(r_pair_alignment_sequences(hsa_gene_name, ath_gene_name))\n",
    "    sequences = sequences.split(' ')\n",
    "    hsa_gene_seq = sequences[0]\n",
    "    ath_gene_seq = sequences[1]\n",
    "    # Prepares the data to store.\n",
    "    ath_gene_data = {'name': ath_gene_name, 'sequence': ath_gene_seq}\n",
    "\n",
    "    if hsa_gene_name not in hsa_ath_alignment_dict.keys():\n",
    "        hsa_ath_alignment_dict[hsa_gene_name] = [ath_gene_data]\n",
    "    else:\n",
    "        hsa_ath_alignment_dict[hsa_gene_name].append(ath_gene_data)\n"
   ],
   "metadata": {
    "collapsed": false,
    "ExecuteTime": {
     "end_time": "2023-09-24T23:47:19.043204Z",
     "start_time": "2023-09-24T23:46:07.764530Z"
    }
   }
  },
  {
   "cell_type": "code",
   "execution_count": 14,
   "outputs": [
    {
     "name": "stdout",
     "output_type": "stream",
     "text": [
      "Total hsa genes that were found to have an homologous seq: 137\n",
      "Total ath homologous genes: 246411\n"
     ]
    }
   ],
   "source": [
    "print(f'Total hsa genes that were found to have an homologous seq: '\n",
    "      f'{len(hsa_ath_alignment_dict.keys())}')\n",
    "print(f'Total ath homologous genes: '\n",
    "      f'{sum([len(ath_genes) for ath_genes in hsa_ath_alignment_dict.values()])}')\n"
   ],
   "metadata": {
    "collapsed": false,
    "ExecuteTime": {
     "end_time": "2023-09-24T23:47:19.054340Z",
     "start_time": "2023-09-24T23:47:19.045389Z"
    }
   }
  },
  {
   "cell_type": "markdown",
   "source": [
    "##### 5.1.5. Sequence matching - Matching homologous miRNAs and ath target transcripts\n",
    "\n",
    "After running the alignments and extracting the results, <b>246411 A. thaliana genes</b> can be used to construct the negative dataset. The next step consists in annotating the respective miRNA targeting these gene transcripts."
   ],
   "metadata": {
    "collapsed": false
   }
  },
  {
   "cell_type": "code",
   "execution_count": 15,
   "outputs": [
    {
     "name": "stdout",
     "output_type": "stream",
     "text": [
      "Total ath pairs: 129485\n"
     ]
    }
   ],
   "source": [
    "ath_mirna_target_pairs = []\n",
    "for hsa_mirna_name, hsa_gene_name in zip(hsa_negative_mirnas, hsa_negative_targets):\n",
    "    if hsa_mirna_name in matching_mirnas.keys():\n",
    "        # Gets the respective homologous miRNAs list in ath.\n",
    "        ath_homologous_mirnas = matching_mirnas[hsa_mirna_name]\n",
    "    else:\n",
    "        # If the miRNA has no equivalent in A. thaliana, the pair is not constructed.\n",
    "        continue\n",
    "\n",
    "    if hsa_gene_name in hsa_ath_alignment_dict.keys():\n",
    "        # Annotates each homologous sequence with the matching miRNA.\n",
    "        ath_homologous_targets = hsa_ath_alignment_dict[hsa_gene_name]\n",
    "        for ath_target in ath_homologous_targets:\n",
    "            for ath_mirna in ath_homologous_mirnas:\n",
    "                ath_pair = (ath_mirna, ath_target)\n",
    "                ath_mirna_target_pairs.append(ath_pair)\n",
    "\n",
    "print(f'Total ath pairs: {len(ath_mirna_target_pairs)}')\n"
   ],
   "metadata": {
    "collapsed": false,
    "ExecuteTime": {
     "end_time": "2023-09-24T23:47:26.603273Z",
     "start_time": "2023-09-24T23:47:19.086728Z"
    }
   }
  },
  {
   "cell_type": "code",
   "execution_count": 16,
   "outputs": [],
   "source": [
    "# Saves the results into a file.\n",
    "data = 'mirna_name\\tmirna_seq\\ttarget_name\\ttarget_seq\\n'\n",
    "ath_mirna_target_pairs_data = [f'{row[0][\"name\"]}\\t{row[0][\"sequence\"]}\\t' \\\n",
    "                               f'{row[1][\"name\"]}\\t{row[1][\"sequence\"]}'\n",
    "                               for row in ath_mirna_target_pairs]\n",
    "ath_mirna_target_pairs_data = '\\n'.join(ath_mirna_target_pairs_data)\n",
    "data += ath_mirna_target_pairs_data\n",
    "with open('data/negative_pairs/ath_negative_dataset.txt', 'w') as f:\n",
    "    f.write(data)\n",
    "    f.close()\n"
   ],
   "metadata": {
    "collapsed": false,
    "ExecuteTime": {
     "end_time": "2023-09-24T23:47:34.429452Z",
     "start_time": "2023-09-24T23:47:26.611957Z"
    }
   }
  },
  {
   "cell_type": "markdown",
   "source": [
    "##### 5.1.6. Negative dataset - Dataset preparation\n",
    "The previously generated file (raw dataset) is cleaned and prepared in this section, and a column indicating the negative interaction is added.\n"
   ],
   "metadata": {
    "collapsed": false
   }
  },
  {
   "cell_type": "code",
   "execution_count": 17,
   "outputs": [
    {
     "data": {
      "text/plain": "    mirna_name              mirna_seq target_name  \\\n0  ath-miR169a   GGCAAGUUGUCCUUGGCUAC   AT1G06135   \n1  ath-miR169g  UCCGGCAAGUUGACCUUGGCU   AT1G06135   \n2  ath-miR169a   GGCAAGUUGUCCUUGGCUAC     EMB2656   \n3  ath-miR169g  UCCGGCAAGUUGACCUUGGCU     EMB2656   \n4  ath-miR169a   GGCAAGUUGUCCUUGGCUAC     MIR841b   \n\n                                          target_seq  \n0  ACCCCATGCAAACAAAAAAAGGCCTACACTCTACAACCAATTTTAC...  \n1  ACCCCATGCAAACAAAAAAAGGCCTACACTCTACAACCAATTTTAC...  \n2  TCCCATTTAATTTTCAAAACAAGAATATCAAATATTTTCCCGCTCA...  \n3  TCCCATTTAATTTTCAAAACAAGAATATCAAATATTTTCCCGCTCA...  \n4  TCCTCATCTCCTCTAACCGCCAACTGCAAATGCCTTGGAGTTATCC...  ",
      "text/html": "<div>\n<style scoped>\n    .dataframe tbody tr th:only-of-type {\n        vertical-align: middle;\n    }\n\n    .dataframe tbody tr th {\n        vertical-align: top;\n    }\n\n    .dataframe thead th {\n        text-align: right;\n    }\n</style>\n<table border=\"1\" class=\"dataframe\">\n  <thead>\n    <tr style=\"text-align: right;\">\n      <th></th>\n      <th>mirna_name</th>\n      <th>mirna_seq</th>\n      <th>target_name</th>\n      <th>target_seq</th>\n    </tr>\n  </thead>\n  <tbody>\n    <tr>\n      <th>0</th>\n      <td>ath-miR169a</td>\n      <td>GGCAAGUUGUCCUUGGCUAC</td>\n      <td>AT1G06135</td>\n      <td>ACCCCATGCAAACAAAAAAAGGCCTACACTCTACAACCAATTTTAC...</td>\n    </tr>\n    <tr>\n      <th>1</th>\n      <td>ath-miR169g</td>\n      <td>UCCGGCAAGUUGACCUUGGCU</td>\n      <td>AT1G06135</td>\n      <td>ACCCCATGCAAACAAAAAAAGGCCTACACTCTACAACCAATTTTAC...</td>\n    </tr>\n    <tr>\n      <th>2</th>\n      <td>ath-miR169a</td>\n      <td>GGCAAGUUGUCCUUGGCUAC</td>\n      <td>EMB2656</td>\n      <td>TCCCATTTAATTTTCAAAACAAGAATATCAAATATTTTCCCGCTCA...</td>\n    </tr>\n    <tr>\n      <th>3</th>\n      <td>ath-miR169g</td>\n      <td>UCCGGCAAGUUGACCUUGGCU</td>\n      <td>EMB2656</td>\n      <td>TCCCATTTAATTTTCAAAACAAGAATATCAAATATTTTCCCGCTCA...</td>\n    </tr>\n    <tr>\n      <th>4</th>\n      <td>ath-miR169a</td>\n      <td>GGCAAGUUGUCCUUGGCUAC</td>\n      <td>MIR841b</td>\n      <td>TCCTCATCTCCTCTAACCGCCAACTGCAAATGCCTTGGAGTTATCC...</td>\n    </tr>\n  </tbody>\n</table>\n</div>"
     },
     "execution_count": 17,
     "metadata": {},
     "output_type": "execute_result"
    }
   ],
   "source": [
    "import pandas as pd\n",
    "\n",
    "# Loads the data generated in previous steps.\n",
    "negative_df = pd.read_csv('data/negative_pairs/ath_negative_dataset.txt', sep='\\t')\n",
    "negative_df.head()\n"
   ],
   "metadata": {
    "collapsed": false,
    "ExecuteTime": {
     "end_time": "2023-09-24T23:47:40.363578Z",
     "start_time": "2023-09-24T23:47:34.403849Z"
    }
   }
  },
  {
   "cell_type": "code",
   "execution_count": 18,
   "outputs": [
    {
     "data": {
      "text/plain": "(129485, 4)"
     },
     "execution_count": 18,
     "metadata": {},
     "output_type": "execute_result"
    }
   ],
   "source": [
    "# Checks the size of the dataset.\n",
    "negative_df.shape\n"
   ],
   "metadata": {
    "collapsed": false,
    "ExecuteTime": {
     "end_time": "2023-09-24T23:47:40.365015Z",
     "start_time": "2023-09-24T23:47:40.345070Z"
    }
   }
  },
  {
   "cell_type": "code",
   "execution_count": 19,
   "outputs": [
    {
     "data": {
      "text/plain": "    mirna_name              mirna_seq target_name  \\\n0  ath-miR169a   GGCAAGUUGUCCUUGGCUAC   AT1G06135   \n1  ath-miR169g  UCCGGCAAGUUGACCUUGGCU   AT1G06135   \n2  ath-miR169a   GGCAAGUUGUCCUUGGCUAC     EMB2656   \n3  ath-miR169g  UCCGGCAAGUUGACCUUGGCU     EMB2656   \n4  ath-miR169a   GGCAAGUUGUCCUUGGCUAC     MIR841b   \n\n                                          target_seq  interaction  \n0  ACCCCATGCAAACAAAAAAAGGCCTACACTCTACAACCAATTTTAC...            0  \n1  ACCCCATGCAAACAAAAAAAGGCCTACACTCTACAACCAATTTTAC...            0  \n2  TCCCATTTAATTTTCAAAACAAGAATATCAAATATTTTCCCGCTCA...            0  \n3  TCCCATTTAATTTTCAAAACAAGAATATCAAATATTTTCCCGCTCA...            0  \n4  TCCTCATCTCCTCTAACCGCCAACTGCAAATGCCTTGGAGTTATCC...            0  ",
      "text/html": "<div>\n<style scoped>\n    .dataframe tbody tr th:only-of-type {\n        vertical-align: middle;\n    }\n\n    .dataframe tbody tr th {\n        vertical-align: top;\n    }\n\n    .dataframe thead th {\n        text-align: right;\n    }\n</style>\n<table border=\"1\" class=\"dataframe\">\n  <thead>\n    <tr style=\"text-align: right;\">\n      <th></th>\n      <th>mirna_name</th>\n      <th>mirna_seq</th>\n      <th>target_name</th>\n      <th>target_seq</th>\n      <th>interaction</th>\n    </tr>\n  </thead>\n  <tbody>\n    <tr>\n      <th>0</th>\n      <td>ath-miR169a</td>\n      <td>GGCAAGUUGUCCUUGGCUAC</td>\n      <td>AT1G06135</td>\n      <td>ACCCCATGCAAACAAAAAAAGGCCTACACTCTACAACCAATTTTAC...</td>\n      <td>0</td>\n    </tr>\n    <tr>\n      <th>1</th>\n      <td>ath-miR169g</td>\n      <td>UCCGGCAAGUUGACCUUGGCU</td>\n      <td>AT1G06135</td>\n      <td>ACCCCATGCAAACAAAAAAAGGCCTACACTCTACAACCAATTTTAC...</td>\n      <td>0</td>\n    </tr>\n    <tr>\n      <th>2</th>\n      <td>ath-miR169a</td>\n      <td>GGCAAGUUGUCCUUGGCUAC</td>\n      <td>EMB2656</td>\n      <td>TCCCATTTAATTTTCAAAACAAGAATATCAAATATTTTCCCGCTCA...</td>\n      <td>0</td>\n    </tr>\n    <tr>\n      <th>3</th>\n      <td>ath-miR169g</td>\n      <td>UCCGGCAAGUUGACCUUGGCU</td>\n      <td>EMB2656</td>\n      <td>TCCCATTTAATTTTCAAAACAAGAATATCAAATATTTTCCCGCTCA...</td>\n      <td>0</td>\n    </tr>\n    <tr>\n      <th>4</th>\n      <td>ath-miR169a</td>\n      <td>GGCAAGUUGUCCUUGGCUAC</td>\n      <td>MIR841b</td>\n      <td>TCCTCATCTCCTCTAACCGCCAACTGCAAATGCCTTGGAGTTATCC...</td>\n      <td>0</td>\n    </tr>\n  </tbody>\n</table>\n</div>"
     },
     "execution_count": 19,
     "metadata": {},
     "output_type": "execute_result"
    }
   ],
   "source": [
    "# Prepares an extra column indicating that the examples are negative interactions.\n",
    "interaction = [0 for i in range(negative_df.shape[0])]\n",
    "negative_df['interaction'] = interaction\n",
    "negative_df.head()\n"
   ],
   "metadata": {
    "collapsed": false,
    "ExecuteTime": {
     "end_time": "2023-09-24T23:47:40.579107Z",
     "start_time": "2023-09-24T23:47:40.348991Z"
    }
   }
  },
  {
   "cell_type": "code",
   "execution_count": 20,
   "outputs": [
    {
     "data": {
      "text/plain": "(129485, 5)"
     },
     "execution_count": 20,
     "metadata": {},
     "output_type": "execute_result"
    }
   ],
   "source": [
    "# Confirms there are no missing values.\n",
    "negative_df.replace('-', np.nan, inplace=True)\n",
    "negative_df.dropna(inplace=True)\n",
    "negative_df.shape\n"
   ],
   "metadata": {
    "collapsed": false,
    "ExecuteTime": {
     "end_time": "2023-09-24T23:47:40.702291Z",
     "start_time": "2023-09-24T23:47:40.445904Z"
    }
   }
  },
  {
   "cell_type": "markdown",
   "source": [
    "The resulting dataset can be further preprocessed by removing those gene sequences (mRNA targets) larger than 3000 nucleotides length. This threshold is selected based on the average A. thalian gene length."
   ],
   "metadata": {
    "collapsed": false
   }
  },
  {
   "cell_type": "code",
   "execution_count": 21,
   "outputs": [
    {
     "data": {
      "text/plain": "(98087, 6)"
     },
     "execution_count": 21,
     "metadata": {},
     "output_type": "execute_result"
    }
   ],
   "source": [
    "# Sets the threshold.\n",
    "tar_threshold = 3000\n",
    "# Creates a new column to keep track of the target length.\n",
    "negative_df['target_len'] = negative_df['target_seq'].str.len()\n",
    "# Filters out values based on the reported length.\n",
    "negative_df = negative_df[negative_df['target_len'] < tar_threshold]\n",
    "# Checks the new size.\n",
    "negative_df.shape\n"
   ],
   "metadata": {
    "collapsed": false,
    "ExecuteTime": {
     "end_time": "2023-09-24T23:47:40.763946Z",
     "start_time": "2023-09-24T23:47:40.561927Z"
    }
   }
  },
  {
   "cell_type": "code",
   "execution_count": 22,
   "outputs": [],
   "source": [
    "# Saves the prepared negative dataset into a CSV file.\n",
    "negative_df.to_csv('data/prepared_datasets/negative_ath_dataset.csv')\n"
   ],
   "metadata": {
    "collapsed": false,
    "ExecuteTime": {
     "end_time": "2023-09-24T23:47:46.223988Z",
     "start_time": "2023-09-24T23:47:40.640100Z"
    }
   }
  },
  {
   "cell_type": "markdown",
   "source": [
    "#### 5.2. Positive dataset - Dataset generation\n",
    "\n",
    "The resulting negative dataset contains 129485 negative examples for A. thaliana. This newly generated negative data must now be integrated into the positive datasets [14, 34].\n"
   ],
   "metadata": {
    "collapsed": false
   }
  },
  {
   "cell_type": "markdown",
   "source": [
    "##### 5.2.1. Merging positive datasets\n",
    "The first step in this stage consists of merging the positive datasets [14, 34]. The raw datasets can be found at:\n",
    "- `data/ath_MTI.txt` [14]\n",
    "- `data/ath_target_genes.txt` [34]\n",
    "\n",
    "However, these datasets contain only the names and identifiers of the molecules forming each pair (miRNA and target mRNA), alongside metadata regarding the experimental design and conditions used to validate the interaction. Considering that this project relies on nucleotide sequences, it is necessary to annotate the datasets with the respective sequence per molecule, following the format of the generated negative dataset."
   ],
   "metadata": {
    "collapsed": false
   }
  },
  {
   "cell_type": "code",
   "execution_count": 23,
   "outputs": [
    {
     "data": {
      "text/plain": "  mirtarbase ID           mirna               species target target entrez ID  \\\n0    MIRT002091  ath-miR398c-3p  Arabidopsis thaliana   CSD2           817365   \n1    MIRT002091  ath-miR398c-3p  Arabidopsis thaliana   CSD2           817365   \n2    MIRT002092  ath-miR398b-3p  Arabidopsis thaliana   CSD2           817365   \n3    MIRT002092  ath-miR398b-3p  Arabidopsis thaliana   CSD2           817365   \n4    MIRT002093  ath-miR398c-3p  Arabidopsis thaliana   CSD1           837405   \n\n              species.1             experiment           support type  \\\n0  Arabidopsis thaliana           Western blot         Functional MTI   \n1  Arabidopsis thaliana  5\"RACE//Northern blot  Functional MTI (Weak)   \n2  Arabidopsis thaliana           Western blot         Functional MTI   \n3  Arabidopsis thaliana  5\"RACE//Northern blot  Functional MTI (Weak)   \n4  Arabidopsis thaliana           Western blot         Functional MTI   \n\n  pmid references  \n0        18392778  \n1        20400846  \n2        18392778  \n3        20400846  \n4        18392778  ",
      "text/html": "<div>\n<style scoped>\n    .dataframe tbody tr th:only-of-type {\n        vertical-align: middle;\n    }\n\n    .dataframe tbody tr th {\n        vertical-align: top;\n    }\n\n    .dataframe thead th {\n        text-align: right;\n    }\n</style>\n<table border=\"1\" class=\"dataframe\">\n  <thead>\n    <tr style=\"text-align: right;\">\n      <th></th>\n      <th>mirtarbase ID</th>\n      <th>mirna</th>\n      <th>species</th>\n      <th>target</th>\n      <th>target entrez ID</th>\n      <th>species.1</th>\n      <th>experiment</th>\n      <th>support type</th>\n      <th>pmid references</th>\n    </tr>\n  </thead>\n  <tbody>\n    <tr>\n      <th>0</th>\n      <td>MIRT002091</td>\n      <td>ath-miR398c-3p</td>\n      <td>Arabidopsis thaliana</td>\n      <td>CSD2</td>\n      <td>817365</td>\n      <td>Arabidopsis thaliana</td>\n      <td>Western blot</td>\n      <td>Functional MTI</td>\n      <td>18392778</td>\n    </tr>\n    <tr>\n      <th>1</th>\n      <td>MIRT002091</td>\n      <td>ath-miR398c-3p</td>\n      <td>Arabidopsis thaliana</td>\n      <td>CSD2</td>\n      <td>817365</td>\n      <td>Arabidopsis thaliana</td>\n      <td>5\"RACE//Northern blot</td>\n      <td>Functional MTI (Weak)</td>\n      <td>20400846</td>\n    </tr>\n    <tr>\n      <th>2</th>\n      <td>MIRT002092</td>\n      <td>ath-miR398b-3p</td>\n      <td>Arabidopsis thaliana</td>\n      <td>CSD2</td>\n      <td>817365</td>\n      <td>Arabidopsis thaliana</td>\n      <td>Western blot</td>\n      <td>Functional MTI</td>\n      <td>18392778</td>\n    </tr>\n    <tr>\n      <th>3</th>\n      <td>MIRT002092</td>\n      <td>ath-miR398b-3p</td>\n      <td>Arabidopsis thaliana</td>\n      <td>CSD2</td>\n      <td>817365</td>\n      <td>Arabidopsis thaliana</td>\n      <td>5\"RACE//Northern blot</td>\n      <td>Functional MTI (Weak)</td>\n      <td>20400846</td>\n    </tr>\n    <tr>\n      <th>4</th>\n      <td>MIRT002093</td>\n      <td>ath-miR398c-3p</td>\n      <td>Arabidopsis thaliana</td>\n      <td>CSD1</td>\n      <td>837405</td>\n      <td>Arabidopsis thaliana</td>\n      <td>Western blot</td>\n      <td>Functional MTI</td>\n      <td>18392778</td>\n    </tr>\n  </tbody>\n</table>\n</div>"
     },
     "execution_count": 23,
     "metadata": {},
     "output_type": "execute_result"
    }
   ],
   "source": [
    "import pandas as pd\n",
    "\n",
    "# Loads the MirTarBase dataset [14].\n",
    "mirtarbase_dataset = pd.read_csv('data/validated_interactions/ath_MTI.txt', sep='\\t')\n",
    "# In this case, the columns of interest are `mirna` and `target`.\n",
    "mirtarbase_dataset.head()\n"
   ],
   "metadata": {
    "collapsed": false,
    "ExecuteTime": {
     "end_time": "2023-09-24T23:47:46.355143Z",
     "start_time": "2023-09-24T23:47:46.225492Z"
    }
   }
  },
  {
   "cell_type": "code",
   "execution_count": 24,
   "outputs": [],
   "source": [
    "# Saves only the columns of interest.\n",
    "mirtarbase_mirnas = mirtarbase_dataset['mirna']\n",
    "mirtarbase_targets = mirtarbase_dataset['target']\n"
   ],
   "metadata": {
    "collapsed": false,
    "ExecuteTime": {
     "end_time": "2023-09-24T23:47:46.380671Z",
     "start_time": "2023-09-24T23:47:46.354494Z"
    }
   }
  },
  {
   "cell_type": "code",
   "execution_count": 25,
   "outputs": [
    {
     "data": {
      "text/plain": "  miRNA locus ID target gene ID psRNAtarget RNAhybrid Degradome  \\\n0    Ath-miR156a    AT2G33810.1         0.5         0         0   \n1    Ath-miR156a    AT1G27360.1         1.0         1         0   \n2    Ath-miR156a    AT1G69170.1         1.0         1         0   \n3    Ath-miR156a    AT2G42200.1         1.0         1         0   \n4    Ath-miR156a    AT3G57920.1         1.0         1         0   \n\n  Libraries that varify miRNA target  \n0   SRR3945024,SRR3945026,SRR6757368  \n1   SRR3945024,SRR3945025,SRR3945026  \n2                         SRR3945024  \n3                         SRR3945026  \n4              SRR3945024,SRR3945026  ",
      "text/html": "<div>\n<style scoped>\n    .dataframe tbody tr th:only-of-type {\n        vertical-align: middle;\n    }\n\n    .dataframe tbody tr th {\n        vertical-align: top;\n    }\n\n    .dataframe thead th {\n        text-align: right;\n    }\n</style>\n<table border=\"1\" class=\"dataframe\">\n  <thead>\n    <tr style=\"text-align: right;\">\n      <th></th>\n      <th>miRNA locus ID</th>\n      <th>target gene ID</th>\n      <th>psRNAtarget</th>\n      <th>RNAhybrid</th>\n      <th>Degradome</th>\n      <th>Libraries that varify miRNA target</th>\n    </tr>\n  </thead>\n  <tbody>\n    <tr>\n      <th>0</th>\n      <td>Ath-miR156a</td>\n      <td>AT2G33810.1</td>\n      <td>0.5</td>\n      <td>0</td>\n      <td>0</td>\n      <td>SRR3945024,SRR3945026,SRR6757368</td>\n    </tr>\n    <tr>\n      <th>1</th>\n      <td>Ath-miR156a</td>\n      <td>AT1G27360.1</td>\n      <td>1.0</td>\n      <td>1</td>\n      <td>0</td>\n      <td>SRR3945024,SRR3945025,SRR3945026</td>\n    </tr>\n    <tr>\n      <th>2</th>\n      <td>Ath-miR156a</td>\n      <td>AT1G69170.1</td>\n      <td>1.0</td>\n      <td>1</td>\n      <td>0</td>\n      <td>SRR3945024</td>\n    </tr>\n    <tr>\n      <th>3</th>\n      <td>Ath-miR156a</td>\n      <td>AT2G42200.1</td>\n      <td>1.0</td>\n      <td>1</td>\n      <td>0</td>\n      <td>SRR3945026</td>\n    </tr>\n    <tr>\n      <th>4</th>\n      <td>Ath-miR156a</td>\n      <td>AT3G57920.1</td>\n      <td>1.0</td>\n      <td>1</td>\n      <td>0</td>\n      <td>SRR3945024,SRR3945026</td>\n    </tr>\n  </tbody>\n</table>\n</div>"
     },
     "execution_count": 25,
     "metadata": {},
     "output_type": "execute_result"
    }
   ],
   "source": [
    "# Loads the PmiRen dataset [34].\n",
    "pmiren_dataset = pd.read_csv('data/validated_interactions/ath_target_genes.txt', sep='\\t')\n",
    "# The columns of interest are `miRNA locus ID` and `target gene ID`.\n",
    "pmiren_dataset.head()\n"
   ],
   "metadata": {
    "collapsed": false,
    "ExecuteTime": {
     "end_time": "2023-09-24T23:47:46.552483Z",
     "start_time": "2023-09-24T23:47:46.360288Z"
    }
   }
  },
  {
   "cell_type": "code",
   "execution_count": 26,
   "outputs": [],
   "source": [
    "# The miRNA identifiers must be formatted.\n",
    "pmiren_dataset['miRNA locus ID'] = pmiren_dataset['miRNA locus ID'].apply(lambda x:\n",
    "                                                                          x[0].lower() + x[1:])\n",
    "\n",
    "# Saves only the columns of interest.\n",
    "pmiren_mirnas = pmiren_dataset['miRNA locus ID']\n",
    "pmiren_targets = pmiren_dataset['target gene ID']\n"
   ],
   "metadata": {
    "collapsed": false,
    "ExecuteTime": {
     "end_time": "2023-09-24T23:47:46.554618Z",
     "start_time": "2023-09-24T23:47:46.488290Z"
    }
   }
  },
  {
   "cell_type": "code",
   "execution_count": 27,
   "outputs": [],
   "source": [
    "# Combines the list of identifiers from both datasets.\n",
    "positive_mirnas = pd.concat([mirtarbase_mirnas, pmiren_mirnas], axis=0)\n",
    "positive_targets = pd.concat([mirtarbase_targets, pmiren_targets], axis=0)\n"
   ],
   "metadata": {
    "collapsed": false,
    "ExecuteTime": {
     "end_time": "2023-09-24T23:47:46.555064Z",
     "start_time": "2023-09-24T23:47:46.494004Z"
    }
   }
  },
  {
   "cell_type": "markdown",
   "source": [
    "##### 5.2.2. Positive dataset - miRNA sequence extraction\n",
    "After extracting the identifiers and combining them, the molecules should be annotated with the respective nucleotide sequence.\n",
    "\n",
    "For this purpose, two datasets (downloaded from miRBase [36] and PmiRen [34] databases) holding known miRNAs will be used. However, the downloaded datasets are not guaranteed to hold all the requested miRNA sequences. Hence, after loading the PmiRen [34] data, the availability of the miRNAs will be confirmed."
   ],
   "metadata": {
    "collapsed": false
   }
  },
  {
   "cell_type": "code",
   "execution_count": 28,
   "outputs": [
    {
     "name": "stdout",
     "output_type": "stream",
     "text": [
      "Total miRNAs loaded from PmiRen mature sequences dataset: 179\n"
     ]
    }
   ],
   "source": [
    "# Loads the PmiRen dataset containing A. thaliana mature sequences.\n",
    "with open('data/ath/Arabidopsis_thaliana_mature.fa') as f:\n",
    "    pmiren_mature_mirnas_data = [mirna.split('\\n') for mirna in f.read().split('>')[1:]]\n",
    "    f.close()\n",
    "\n",
    "# Stores the mature sequences.\n",
    "ath_mature_mirnas_pmiren_dict = {}\n",
    "for mirna in pmiren_mature_mirnas_data:\n",
    "    # Ensures the conventions are the same across both data sources;\n",
    "    # this includes changing 'T' by 'U' in nucleotide sequences,\n",
    "    # and using the same upper/lower case format for naming.\n",
    "    mirna_seq = mirna[1].replace('T', 'U')\n",
    "    mirna_name = mirna[0][0].lower() + mirna[0][1:]\n",
    "    ath_mature_mirnas_pmiren_dict[mirna_seq] = mirna_name\n",
    "\n",
    "print(f'Total miRNAs loaded from PmiRen mature sequences dataset: '\n",
    "      f'{len(ath_mature_mirnas_pmiren_dict.keys())}')\n"
   ],
   "metadata": {
    "collapsed": false,
    "ExecuteTime": {
     "end_time": "2023-09-24T23:47:46.555643Z",
     "start_time": "2023-09-24T23:47:46.506017Z"
    }
   }
  },
  {
   "cell_type": "code",
   "execution_count": 29,
   "outputs": [
    {
     "name": "stdout",
     "output_type": "stream",
     "text": [
      "From 127891 miRNA instances, 29253 could not be annotated with sequence.\n",
      "Total number of miRNA interactions: 127891\n",
      "Total number of unique miRNAs: 252\n"
     ]
    }
   ],
   "source": [
    "# Checks the number of mirnas that couldn't be annotated with the sequence.\n",
    "non_annotated_mirnas_cnt = 0\n",
    "for mirna in positive_mirnas:\n",
    "    if (mirna not in ath_mature_mirnas_dict.values()\n",
    "        and mirna not in ath_mature_mirnas_pmiren_dict.values()):\n",
    "        # miRNA not available at the downloaded databases of mature miRNAs.\n",
    "        non_annotated_mirnas_cnt += 1\n",
    "\n",
    "print(f'From {len(positive_mirnas)} miRNA instances, '\n",
    "      f'{non_annotated_mirnas_cnt} could not be annotated with sequence.')\n",
    "print(f'Total number of miRNA interactions: {len(positive_mirnas)}')\n",
    "print(f'Total number of unique miRNAs: {len(set(positive_mirnas))}')\n"
   ],
   "metadata": {
    "collapsed": false,
    "ExecuteTime": {
     "end_time": "2023-09-24T23:47:48.068202Z",
     "start_time": "2023-09-24T23:47:46.517813Z"
    }
   }
  },
  {
   "cell_type": "markdown",
   "source": [
    "Each miRNA can have more than one non-target molecule, producing a set of 3861 non-interactions with 250 unique miRNAs.\n",
    "\n",
    "However, given that some miRNAs could not be matched using the mature sequences dataset, web scrapping with Selenium is proposed to retrieve the remaining miRNA sequences from miRBase [42]."
   ],
   "metadata": {
    "collapsed": false
   }
  },
  {
   "cell_type": "markdown",
   "source": [
    "##### 5.2.3. Positive dataset - Web scrapping with multiprocessing for miRNA sequence extraction\n",
    "\n",
    "The functions implemented to perform the web scrapping enabling multiprocessing are found at `fetch_sequences.py`.\n"
   ],
   "metadata": {
    "collapsed": false
   }
  },
  {
   "cell_type": "code",
   "execution_count": 30,
   "outputs": [],
   "source": [
    "# !pip install selenium ratelimit\n"
   ],
   "metadata": {
    "collapsed": false,
    "ExecuteTime": {
     "end_time": "2023-09-24T23:47:48.086259Z",
     "start_time": "2023-09-24T23:47:48.068669Z"
    }
   }
  },
  {
   "cell_type": "code",
   "execution_count": 25,
   "outputs": [
    {
     "name": "stderr",
     "output_type": "stream",
     "text": [
      "100%|██████████| 3861/3861 [00:10<00:00, 378.48it/s] \n"
     ]
    }
   ],
   "source": [
    "from fetch_sequences import annotate_mirna_sequences\n",
    "\n",
    "if __name__ == '__main__':\n",
    "    with ProcessPoolExecutor(max_workers=num_cores) as pool:\n",
    "        with tqdm(total=len(positive_mirnas)) as progress:\n",
    "            futures = []\n",
    "            results = []\n",
    "\n",
    "            for mirna in positive_mirnas:\n",
    "                future = pool.submit(annotate_mirna_sequences,\n",
    "                                     [mirna, ath_mature_mirnas_dict, ath_mature_mirnas_pmiren_dict])\n",
    "                future.add_done_callback(lambda x: progress.update())\n",
    "                futures.append(future)\n",
    "\n",
    "            try:\n",
    "                for future in futures:\n",
    "                    result = future.result()\n",
    "                    results.append(result)\n",
    "\n",
    "            except Exception as e:\n",
    "                print('---ERROR: ', e)\n",
    "                gc.collect()\n"
   ],
   "metadata": {
    "collapsed": false,
    "ExecuteTime": {
     "end_time": "2023-09-20T17:35:35.260109Z",
     "start_time": "2023-09-20T17:35:17.660390Z"
    }
   }
  },
  {
   "cell_type": "code",
   "execution_count": 31,
   "outputs": [
    {
     "name": "stdout",
     "output_type": "stream",
     "text": [
      "Total keys in db: 250\n"
     ]
    }
   ],
   "source": [
    "# Connects to the local database where results were stored.\n",
    "r = redis.Redis(host='localhost', port=6379, decode_responses=True, db=2)\n",
    "print(f'Total keys in db: {r.dbsize()}')\n",
    "\n",
    "# Retrieves the keys.\n",
    "keys = r.keys(pattern='*')\n",
    "# Saves the miRNA names and their sequences.\n",
    "ath_mature_mirnas_merged_dict = {key.replace('_sequence', ''): r.get(key)\n",
    "                                 for key in keys}\n"
   ],
   "metadata": {
    "collapsed": false,
    "ExecuteTime": {
     "end_time": "2023-09-24T23:47:48.221189Z",
     "start_time": "2023-09-24T23:47:48.080249Z"
    }
   }
  },
  {
   "cell_type": "markdown",
   "source": [
    "The results show that all miRNAs could be annotated with sequence. The successfully annotated miRNAs will be stored to create the positive dataset.\n"
   ],
   "metadata": {
    "collapsed": false
   }
  },
  {
   "cell_type": "code",
   "execution_count": 32,
   "outputs": [
    {
     "name": "stdout",
     "output_type": "stream",
     "text": [
      "Total annotated miRNA sequences: 127891.\n"
     ]
    }
   ],
   "source": [
    "# Annotates the dataset with the available sequences.\n",
    "positive_mirna_sequences = []\n",
    "for mirna in positive_mirnas:\n",
    "    if mirna in ath_mature_mirnas_merged_dict.keys():\n",
    "        seq = ath_mature_mirnas_merged_dict[mirna]\n",
    "    else:\n",
    "        seq = '-'\n",
    "\n",
    "    positive_mirna_sequences.append(seq)\n",
    "\n",
    "print(f'Total annotated miRNA sequences: {len(positive_mirna_sequences)}.')\n"
   ],
   "metadata": {
    "collapsed": false,
    "ExecuteTime": {
     "end_time": "2023-09-24T23:47:48.318889Z",
     "start_time": "2023-09-24T23:47:48.197533Z"
    }
   }
  },
  {
   "cell_type": "markdown",
   "source": [
    "##### 5.2.4. Positive dataset - Target sequence extraction\n",
    "The next step consists of annotating the mRNA targets with the respective nucleotide sequence. At this stage, the downloaded A. thaliana genome [29] will be used.\n",
    "\n",
    "However, this part of the process requires the names of the genes to follow the same naming scheme across datasets and the genomes. This is not the case, aiming to convert into the desired format, web scrapping will be used to fetch the Arabidopsis.org database [43] and extract the alternative names matching the available genome data [29].\n",
    "\n",
    "Like in the previous sections, the multiprocessing and database creation approach will be maintained. The web scrapping code for this section is available at `fetch_target_names.py`.\n"
   ],
   "metadata": {
    "collapsed": false
   }
  },
  {
   "cell_type": "code",
   "execution_count": 30,
   "outputs": [
    {
     "name": "stderr",
     "output_type": "stream",
     "text": [
      "  1%|          | 47/3861 [01:06<1:29:17,  1.40s/it]\n"
     ]
    },
    {
     "ename": "KeyboardInterrupt",
     "evalue": "",
     "output_type": "error",
     "traceback": [
      "\u001B[0;31m---------------------------------------------------------------------------\u001B[0m",
      "\u001B[0;31mKeyboardInterrupt\u001B[0m                         Traceback (most recent call last)",
      "Cell \u001B[0;32mIn[30], line 16\u001B[0m\n\u001B[1;32m     15\u001B[0m \u001B[38;5;28;01mfor\u001B[39;00m future \u001B[38;5;129;01min\u001B[39;00m futures:\n\u001B[0;32m---> 16\u001B[0m     result \u001B[38;5;241m=\u001B[39m \u001B[43mfuture\u001B[49m\u001B[38;5;241;43m.\u001B[39;49m\u001B[43mresult\u001B[49m\u001B[43m(\u001B[49m\u001B[43m)\u001B[49m\n\u001B[1;32m     17\u001B[0m     results\u001B[38;5;241m.\u001B[39mappend(result)\n",
      "File \u001B[0;32m/Library/Frameworks/Python.framework/Versions/3.11/lib/python3.11/concurrent/futures/_base.py:451\u001B[0m, in \u001B[0;36mFuture.result\u001B[0;34m(self, timeout)\u001B[0m\n\u001B[1;32m    449\u001B[0m     \u001B[38;5;28;01mreturn\u001B[39;00m \u001B[38;5;28mself\u001B[39m\u001B[38;5;241m.\u001B[39m__get_result()\n\u001B[0;32m--> 451\u001B[0m \u001B[38;5;28;43mself\u001B[39;49m\u001B[38;5;241;43m.\u001B[39;49m\u001B[43m_condition\u001B[49m\u001B[38;5;241;43m.\u001B[39;49m\u001B[43mwait\u001B[49m\u001B[43m(\u001B[49m\u001B[43mtimeout\u001B[49m\u001B[43m)\u001B[49m\n\u001B[1;32m    453\u001B[0m \u001B[38;5;28;01mif\u001B[39;00m \u001B[38;5;28mself\u001B[39m\u001B[38;5;241m.\u001B[39m_state \u001B[38;5;129;01min\u001B[39;00m [CANCELLED, CANCELLED_AND_NOTIFIED]:\n",
      "File \u001B[0;32m/Library/Frameworks/Python.framework/Versions/3.11/lib/python3.11/threading.py:320\u001B[0m, in \u001B[0;36mCondition.wait\u001B[0;34m(self, timeout)\u001B[0m\n\u001B[1;32m    319\u001B[0m \u001B[38;5;28;01mif\u001B[39;00m timeout \u001B[38;5;129;01mis\u001B[39;00m \u001B[38;5;28;01mNone\u001B[39;00m:\n\u001B[0;32m--> 320\u001B[0m     \u001B[43mwaiter\u001B[49m\u001B[38;5;241;43m.\u001B[39;49m\u001B[43macquire\u001B[49m\u001B[43m(\u001B[49m\u001B[43m)\u001B[49m\n\u001B[1;32m    321\u001B[0m     gotit \u001B[38;5;241m=\u001B[39m \u001B[38;5;28;01mTrue\u001B[39;00m\n",
      "\u001B[0;31mKeyboardInterrupt\u001B[0m: ",
      "\nDuring handling of the above exception, another exception occurred:\n",
      "\u001B[0;31mKeyboardInterrupt\u001B[0m                         Traceback (most recent call last)",
      "Cell \u001B[0;32mIn[30], line 4\u001B[0m\n\u001B[1;32m      1\u001B[0m \u001B[38;5;28;01mfrom\u001B[39;00m \u001B[38;5;21;01mfetch_target_names\u001B[39;00m \u001B[38;5;28;01mimport\u001B[39;00m get_target_name\n\u001B[1;32m      3\u001B[0m \u001B[38;5;28;01mif\u001B[39;00m \u001B[38;5;18m__name__\u001B[39m \u001B[38;5;241m==\u001B[39m \u001B[38;5;124m'\u001B[39m\u001B[38;5;124m__main__\u001B[39m\u001B[38;5;124m'\u001B[39m:\n\u001B[0;32m----> 4\u001B[0m \u001B[43m    \u001B[49m\u001B[38;5;28;43;01mwith\u001B[39;49;00m\u001B[43m \u001B[49m\u001B[43mProcessPoolExecutor\u001B[49m\u001B[43m(\u001B[49m\u001B[43mmax_workers\u001B[49m\u001B[38;5;241;43m=\u001B[39;49m\u001B[43mnum_cores\u001B[49m\u001B[43m)\u001B[49m\u001B[43m \u001B[49m\u001B[38;5;28;43;01mas\u001B[39;49;00m\u001B[43m \u001B[49m\u001B[43mpool\u001B[49m\u001B[43m:\u001B[49m\n\u001B[1;32m      5\u001B[0m \u001B[43m        \u001B[49m\u001B[38;5;28;43;01mwith\u001B[39;49;00m\u001B[43m \u001B[49m\u001B[43mtqdm\u001B[49m\u001B[43m(\u001B[49m\u001B[43mtotal\u001B[49m\u001B[38;5;241;43m=\u001B[39;49m\u001B[38;5;28;43mlen\u001B[39;49m\u001B[43m(\u001B[49m\u001B[43mpositive_targets\u001B[49m\u001B[43m)\u001B[49m\u001B[43m)\u001B[49m\u001B[43m \u001B[49m\u001B[38;5;28;43;01mas\u001B[39;49;00m\u001B[43m \u001B[49m\u001B[43mprogress\u001B[49m\u001B[43m:\u001B[49m\n\u001B[1;32m      6\u001B[0m \u001B[43m            \u001B[49m\u001B[43mfutures\u001B[49m\u001B[43m \u001B[49m\u001B[38;5;241;43m=\u001B[39;49m\u001B[43m \u001B[49m\u001B[43m[\u001B[49m\u001B[43m]\u001B[49m\n",
      "File \u001B[0;32m/Library/Frameworks/Python.framework/Versions/3.11/lib/python3.11/concurrent/futures/_base.py:647\u001B[0m, in \u001B[0;36mExecutor.__exit__\u001B[0;34m(self, exc_type, exc_val, exc_tb)\u001B[0m\n\u001B[1;32m    646\u001B[0m \u001B[38;5;28;01mdef\u001B[39;00m \u001B[38;5;21m__exit__\u001B[39m(\u001B[38;5;28mself\u001B[39m, exc_type, exc_val, exc_tb):\n\u001B[0;32m--> 647\u001B[0m     \u001B[38;5;28;43mself\u001B[39;49m\u001B[38;5;241;43m.\u001B[39;49m\u001B[43mshutdown\u001B[49m\u001B[43m(\u001B[49m\u001B[43mwait\u001B[49m\u001B[38;5;241;43m=\u001B[39;49m\u001B[38;5;28;43;01mTrue\u001B[39;49;00m\u001B[43m)\u001B[49m\n\u001B[1;32m    648\u001B[0m     \u001B[38;5;28;01mreturn\u001B[39;00m \u001B[38;5;28;01mFalse\u001B[39;00m\n",
      "File \u001B[0;32m/Library/Frameworks/Python.framework/Versions/3.11/lib/python3.11/concurrent/futures/process.py:830\u001B[0m, in \u001B[0;36mProcessPoolExecutor.shutdown\u001B[0;34m(self, wait, cancel_futures)\u001B[0m\n\u001B[1;32m    827\u001B[0m         \u001B[38;5;28mself\u001B[39m\u001B[38;5;241m.\u001B[39m_executor_manager_thread_wakeup\u001B[38;5;241m.\u001B[39mwakeup()\n\u001B[1;32m    829\u001B[0m \u001B[38;5;28;01mif\u001B[39;00m \u001B[38;5;28mself\u001B[39m\u001B[38;5;241m.\u001B[39m_executor_manager_thread \u001B[38;5;129;01mis\u001B[39;00m \u001B[38;5;129;01mnot\u001B[39;00m \u001B[38;5;28;01mNone\u001B[39;00m \u001B[38;5;129;01mand\u001B[39;00m wait:\n\u001B[0;32m--> 830\u001B[0m     \u001B[38;5;28;43mself\u001B[39;49m\u001B[38;5;241;43m.\u001B[39;49m\u001B[43m_executor_manager_thread\u001B[49m\u001B[38;5;241;43m.\u001B[39;49m\u001B[43mjoin\u001B[49m\u001B[43m(\u001B[49m\u001B[43m)\u001B[49m\n\u001B[1;32m    831\u001B[0m \u001B[38;5;66;03m# To reduce the risk of opening too many files, remove references to\u001B[39;00m\n\u001B[1;32m    832\u001B[0m \u001B[38;5;66;03m# objects that use file descriptors.\u001B[39;00m\n\u001B[1;32m    833\u001B[0m \u001B[38;5;28mself\u001B[39m\u001B[38;5;241m.\u001B[39m_executor_manager_thread \u001B[38;5;241m=\u001B[39m \u001B[38;5;28;01mNone\u001B[39;00m\n",
      "File \u001B[0;32m/Library/Frameworks/Python.framework/Versions/3.11/lib/python3.11/threading.py:1112\u001B[0m, in \u001B[0;36mThread.join\u001B[0;34m(self, timeout)\u001B[0m\n\u001B[1;32m   1109\u001B[0m     \u001B[38;5;28;01mraise\u001B[39;00m \u001B[38;5;167;01mRuntimeError\u001B[39;00m(\u001B[38;5;124m\"\u001B[39m\u001B[38;5;124mcannot join current thread\u001B[39m\u001B[38;5;124m\"\u001B[39m)\n\u001B[1;32m   1111\u001B[0m \u001B[38;5;28;01mif\u001B[39;00m timeout \u001B[38;5;129;01mis\u001B[39;00m \u001B[38;5;28;01mNone\u001B[39;00m:\n\u001B[0;32m-> 1112\u001B[0m     \u001B[38;5;28;43mself\u001B[39;49m\u001B[38;5;241;43m.\u001B[39;49m\u001B[43m_wait_for_tstate_lock\u001B[49m\u001B[43m(\u001B[49m\u001B[43m)\u001B[49m\n\u001B[1;32m   1113\u001B[0m \u001B[38;5;28;01melse\u001B[39;00m:\n\u001B[1;32m   1114\u001B[0m     \u001B[38;5;66;03m# the behavior of a negative timeout isn't documented, but\u001B[39;00m\n\u001B[1;32m   1115\u001B[0m     \u001B[38;5;66;03m# historically .join(timeout=x) for x<0 has acted as if timeout=0\u001B[39;00m\n\u001B[1;32m   1116\u001B[0m     \u001B[38;5;28mself\u001B[39m\u001B[38;5;241m.\u001B[39m_wait_for_tstate_lock(timeout\u001B[38;5;241m=\u001B[39m\u001B[38;5;28mmax\u001B[39m(timeout, \u001B[38;5;241m0\u001B[39m))\n",
      "File \u001B[0;32m/Library/Frameworks/Python.framework/Versions/3.11/lib/python3.11/threading.py:1132\u001B[0m, in \u001B[0;36mThread._wait_for_tstate_lock\u001B[0;34m(self, block, timeout)\u001B[0m\n\u001B[1;32m   1129\u001B[0m     \u001B[38;5;28;01mreturn\u001B[39;00m\n\u001B[1;32m   1131\u001B[0m \u001B[38;5;28;01mtry\u001B[39;00m:\n\u001B[0;32m-> 1132\u001B[0m     \u001B[38;5;28;01mif\u001B[39;00m \u001B[43mlock\u001B[49m\u001B[38;5;241;43m.\u001B[39;49m\u001B[43macquire\u001B[49m\u001B[43m(\u001B[49m\u001B[43mblock\u001B[49m\u001B[43m,\u001B[49m\u001B[43m \u001B[49m\u001B[43mtimeout\u001B[49m\u001B[43m)\u001B[49m:\n\u001B[1;32m   1133\u001B[0m         lock\u001B[38;5;241m.\u001B[39mrelease()\n\u001B[1;32m   1134\u001B[0m         \u001B[38;5;28mself\u001B[39m\u001B[38;5;241m.\u001B[39m_stop()\n",
      "\u001B[0;31mKeyboardInterrupt\u001B[0m: "
     ]
    }
   ],
   "source": [
    "from fetch_target_names import get_target_name\n",
    "\n",
    "if __name__ == '__main__':\n",
    "    with ProcessPoolExecutor(max_workers=num_cores) as pool:\n",
    "        with tqdm(total=len(positive_targets)) as progress:\n",
    "            futures = []\n",
    "            results = []\n",
    "\n",
    "            for target in positive_targets:\n",
    "                future = pool.submit(get_target_name, target)\n",
    "                future.add_done_callback(lambda x: progress.update())\n",
    "                futures.append(future)\n",
    "\n",
    "            try:\n",
    "                for future in futures:\n",
    "                    result = future.result()\n",
    "                    results.append(result)\n",
    "\n",
    "            except Exception as e:\n",
    "                print('---ERROR: ', e)\n",
    "                gc.collect()\n"
   ],
   "metadata": {
    "collapsed": false,
    "ExecuteTime": {
     "end_time": "2023-09-20T17:31:45.841256Z",
     "start_time": "2023-09-20T17:30:35.722445Z"
    }
   }
  },
  {
   "cell_type": "code",
   "execution_count": 33,
   "outputs": [
    {
     "name": "stdout",
     "output_type": "stream",
     "text": [
      "Total keys in db: 2011\n"
     ]
    }
   ],
   "source": [
    "# Connects to the local database where results were stored.\n",
    "r = redis.Redis(host='localhost', port=6379, decode_responses=True, db=3)\n",
    "print(f'Total keys in db: {r.dbsize()}')\n",
    "\n",
    "# Retrieves the keys.\n",
    "keys = r.keys(pattern='*')\n",
    "# Saves the valid target alternative names.\n",
    "target_alt_names_dict = {key.replace('_name', ''): r.get(key).strip()\n",
    "                         for key in keys}\n"
   ],
   "metadata": {
    "collapsed": false,
    "ExecuteTime": {
     "end_time": "2023-09-24T23:47:48.587103Z",
     "start_time": "2023-09-24T23:47:48.230439Z"
    }
   }
  },
  {
   "cell_type": "code",
   "execution_count": 34,
   "outputs": [],
   "source": [
    "import json\n",
    "\n",
    "# Saves the results.\n",
    "with open('data/ath/mapped_target_names.json', 'w') as f:\n",
    "    target_alt_names_dict_json = json.dumps(target_alt_names_dict,\n",
    "                                            indent=4,\n",
    "                                            sort_keys=True)\n",
    "    f.write(target_alt_names_dict_json)\n",
    "    f.close()\n"
   ],
   "metadata": {
    "collapsed": false,
    "ExecuteTime": {
     "end_time": "2023-09-24T23:47:48.605951Z",
     "start_time": "2023-09-24T23:47:48.575851Z"
    }
   }
  },
  {
   "cell_type": "code",
   "execution_count": 35,
   "outputs": [],
   "source": [
    "# Uses the results to update the target names.\n",
    "for i, target in positive_targets.items():\n",
    "    target = target.split('.')[0]\n",
    "    if target in target_alt_names_dict.keys():\n",
    "        positive_targets[i] = target_alt_names_dict[target]\n"
   ],
   "metadata": {
    "collapsed": false,
    "ExecuteTime": {
     "end_time": "2023-09-24T23:48:02.807486Z",
     "start_time": "2023-09-24T23:47:48.593232Z"
    }
   }
  },
  {
   "cell_type": "code",
   "execution_count": 36,
   "outputs": [
    {
     "data": {
      "text/plain": "23712"
     },
     "execution_count": 36,
     "metadata": {},
     "output_type": "execute_result"
    }
   ],
   "source": [
    "# Confirms how many genes still require sequence annotation.\n",
    "pending_ath_target_names = [gene for gene in positive_targets if gene.startswith('AT')]\n",
    "len(pending_ath_target_names)\n"
   ],
   "metadata": {
    "collapsed": false,
    "ExecuteTime": {
     "end_time": "2023-09-24T23:48:02.866369Z",
     "start_time": "2023-09-24T23:48:02.842982Z"
    }
   }
  },
  {
   "cell_type": "markdown",
   "source": [
    "Since 1125 genes still do not comply with the required scheme, web scrapping will be used for extracting their sequences. The extracted sequences will be incorporated into the ath genome data.\n",
    "\n",
    "The implemented web scrapping code for this section is available at `fetch_target_sequences.py`."
   ],
   "metadata": {
    "collapsed": false
   }
  },
  {
   "cell_type": "code",
   "execution_count": null,
   "outputs": [],
   "source": [
    "from fetch_target_sequences import annotate_target_sequences\n",
    "\n",
    "if __name__ == '__main__':\n",
    "    with ProcessPoolExecutor(max_workers=num_cores) as pool:\n",
    "        with tqdm(total=len(positive_targets)) as progress:\n",
    "            futures = []\n",
    "            results = []\n",
    "\n",
    "            for target in positive_targets:\n",
    "                future = pool.submit(annotate_target_sequences,\n",
    "                                     [target, ath_genome_dict])\n",
    "                future.add_done_callback(lambda x: progress.update())\n",
    "                futures.append(future)\n",
    "\n",
    "            try:\n",
    "                for future in futures:\n",
    "                    result = future.result()\n",
    "                    results.append(result)\n",
    "\n",
    "            except Exception as e:\n",
    "                print('---ERROR: ', e)\n",
    "                gc.collect()\n"
   ],
   "metadata": {
    "collapsed": false
   }
  },
  {
   "cell_type": "markdown",
   "source": [
    "The name scheme was corrected, so the sequences can be assigned to the gene names in the positive dataset."
   ],
   "metadata": {
    "collapsed": false
   }
  },
  {
   "cell_type": "code",
   "execution_count": 37,
   "outputs": [
    {
     "name": "stdout",
     "output_type": "stream",
     "text": [
      "Total keys in db: 1672\n"
     ]
    }
   ],
   "source": [
    "# Connects to the local database where results were stored.\n",
    "r = redis.Redis(host='localhost', port=6379, decode_responses=True, db=4)\n",
    "print(f'Total keys in db: {r.dbsize()}')\n",
    "\n",
    "# Retrieves the keys.\n",
    "keys = r.keys(pattern='*')\n",
    "# Saves the target mapped sequences.\n",
    "target_sequences_dict = {key.replace('_sequence', ''): r.get(key).strip()\n",
    "                         for key in keys}\n"
   ],
   "metadata": {
    "collapsed": false,
    "ExecuteTime": {
     "end_time": "2023-09-24T23:48:04.261281Z",
     "start_time": "2023-09-24T23:48:02.850915Z"
    }
   }
  },
  {
   "cell_type": "markdown",
   "source": [
    "In total, 1672 molecules were annotated with web scrapping. In the dataset, the molecules might appear several times under different pair combinations, producing a noticeably larger amount of data."
   ],
   "metadata": {
    "collapsed": false
   }
  },
  {
   "cell_type": "code",
   "execution_count": 266,
   "outputs": [
    {
     "name": "stderr",
     "output_type": "stream",
     "text": [
      "100%|██████████| 127891/127891 [24:26<00:00, 87.22it/s] "
     ]
    },
    {
     "name": "stdout",
     "output_type": "stream",
     "text": [
      "Total annotated target sequences: 127891.\n"
     ]
    },
    {
     "name": "stderr",
     "output_type": "stream",
     "text": [
      "\n"
     ]
    }
   ],
   "source": [
    "# Annotates the dataset with the available sequences.\n",
    "positive_target_sequences = []\n",
    "for target in tqdm(positive_targets):\n",
    "    if target in ath_genome_dict.values():\n",
    "        # The name and sequence are available at the genes set.\n",
    "        seq = list(filter(lambda x: ath_genome_dict[x] == target,\n",
    "                          ath_genome_dict))[0]\n",
    "    elif target in target_sequences_dict.keys():\n",
    "        # The sequence was retrieved using web scrapping.\n",
    "        seq = target_sequences_dict[target]\n",
    "    else:\n",
    "        # Mark the data as missing value.\n",
    "        seq = '-'\n",
    "\n",
    "    positive_target_sequences.append(seq)\n",
    "\n",
    "print(f'Total annotated target sequences: {len(positive_target_sequences)}.')\n"
   ],
   "metadata": {
    "collapsed": false,
    "ExecuteTime": {
     "end_time": "2023-09-24T21:54:12.504695Z",
     "start_time": "2023-09-24T21:29:46.126893Z"
    }
   }
  },
  {
   "cell_type": "code",
   "execution_count": 38,
   "outputs": [],
   "source": [
    "# Saves the generated data.\n",
    "# with open('data/processed_data/positive_target_sequences.txt', 'w') as f:\n",
    "#    f.write('\\n'.join(positive_target_sequences))\n",
    "#    f.close()\n",
    "\n",
    "# Loads the data.\n",
    "with open('data/processed_data/positive_target_sequences.txt') as f:\n",
    "    positive_target_sequences = f.read().split('\\n')\n",
    "    f.close()\n"
   ],
   "metadata": {
    "collapsed": false,
    "ExecuteTime": {
     "end_time": "2023-09-24T23:48:26.729069Z",
     "start_time": "2023-09-24T23:48:04.264808Z"
    }
   }
  },
  {
   "cell_type": "markdown",
   "source": [
    "##### 5.2.5. Positive dataset - Dataset assembly\n",
    "After gathering the data from different datasets, normalizing nomenclature, and annotating all the sequences, a dataset can be constituted from positive data.\n"
   ],
   "metadata": {
    "collapsed": false
   }
  },
  {
   "cell_type": "code",
   "execution_count": 39,
   "outputs": [
    {
     "name": "stdout",
     "output_type": "stream",
     "text": [
      "miRNA names: 127891\n",
      "miRNA sequences: 127891\n",
      "Target names: 127891\n",
      "Target sequences: 127891\n",
      "\n"
     ]
    }
   ],
   "source": [
    "# Checks the consistency in length for the generated data.\n",
    "print(f'miRNA names: {len(positive_mirnas)}\\n'\n",
    "      f'miRNA sequences: {len(positive_mirna_sequences)}\\n'\n",
    "      f'Target names: {len(positive_targets)}\\n'\n",
    "      f'Target sequences: {len(positive_target_sequences)}\\n')\n"
   ],
   "metadata": {
    "collapsed": false,
    "ExecuteTime": {
     "end_time": "2023-09-24T23:48:26.808445Z",
     "start_time": "2023-09-24T23:48:26.770649Z"
    }
   }
  },
  {
   "cell_type": "code",
   "execution_count": 40,
   "outputs": [],
   "source": [
    "# Prepares an extra column indicating that the examples are positive interactions.\n",
    "interaction = [1 for i in range(len(positive_mirnas))]\n"
   ],
   "metadata": {
    "collapsed": false,
    "ExecuteTime": {
     "end_time": "2023-09-24T23:48:26.808713Z",
     "start_time": "2023-09-24T23:48:26.793190Z"
    }
   }
  },
  {
   "cell_type": "code",
   "execution_count": 41,
   "outputs": [
    {
     "data": {
      "text/plain": "       mirna_name              mirna_seq target_name  \\\n0  ath-miR398c-3p  UGUGUUCUCAGGUCACCCCUG        SPL3   \n1  ath-miR398c-3p  UGUGUUCUCAGGUCACCCCUG       SPL11   \n2  ath-miR398b-3p  UGUGUUCUCAGGUCACCCCUG        SPL6   \n3  ath-miR398b-3p  UGUGUUCUCAGGUCACCCCUG        SPL9   \n4  ath-miR398c-3p  UGUGUUCUCAGGUCACCCCUG       SPL15   \n\n                                          target_seq  interaction  \n0  CAACCACAAAATAAACCGGGGTGGTGTCATAGCATCGACATTAACT...            1  \n1  AATATAATTCGTTTCATATACTAGTATTAGTTAAAAATTAGACACC...            1  \n2  ATGGATAAGGGCTCATCTTCCTCCTCCTCCTCTTCTTCCTCAGCTG...            1  \n3  AATAATTGCAAGGAAAAACTCTATAAAAAGATAGAAATGTGAACAG...            1  \n4  CTCTCTCTTCTCTTCTCTCTGATTCTTTAAAAGATAGCAACATCTA...            1  ",
      "text/html": "<div>\n<style scoped>\n    .dataframe tbody tr th:only-of-type {\n        vertical-align: middle;\n    }\n\n    .dataframe tbody tr th {\n        vertical-align: top;\n    }\n\n    .dataframe thead th {\n        text-align: right;\n    }\n</style>\n<table border=\"1\" class=\"dataframe\">\n  <thead>\n    <tr style=\"text-align: right;\">\n      <th></th>\n      <th>mirna_name</th>\n      <th>mirna_seq</th>\n      <th>target_name</th>\n      <th>target_seq</th>\n      <th>interaction</th>\n    </tr>\n  </thead>\n  <tbody>\n    <tr>\n      <th>0</th>\n      <td>ath-miR398c-3p</td>\n      <td>UGUGUUCUCAGGUCACCCCUG</td>\n      <td>SPL3</td>\n      <td>CAACCACAAAATAAACCGGGGTGGTGTCATAGCATCGACATTAACT...</td>\n      <td>1</td>\n    </tr>\n    <tr>\n      <th>1</th>\n      <td>ath-miR398c-3p</td>\n      <td>UGUGUUCUCAGGUCACCCCUG</td>\n      <td>SPL11</td>\n      <td>AATATAATTCGTTTCATATACTAGTATTAGTTAAAAATTAGACACC...</td>\n      <td>1</td>\n    </tr>\n    <tr>\n      <th>2</th>\n      <td>ath-miR398b-3p</td>\n      <td>UGUGUUCUCAGGUCACCCCUG</td>\n      <td>SPL6</td>\n      <td>ATGGATAAGGGCTCATCTTCCTCCTCCTCCTCTTCTTCCTCAGCTG...</td>\n      <td>1</td>\n    </tr>\n    <tr>\n      <th>3</th>\n      <td>ath-miR398b-3p</td>\n      <td>UGUGUUCUCAGGUCACCCCUG</td>\n      <td>SPL9</td>\n      <td>AATAATTGCAAGGAAAAACTCTATAAAAAGATAGAAATGTGAACAG...</td>\n      <td>1</td>\n    </tr>\n    <tr>\n      <th>4</th>\n      <td>ath-miR398c-3p</td>\n      <td>UGUGUUCUCAGGUCACCCCUG</td>\n      <td>SPL15</td>\n      <td>CTCTCTCTTCTCTTCTCTCTGATTCTTTAAAAGATAGCAACATCTA...</td>\n      <td>1</td>\n    </tr>\n  </tbody>\n</table>\n</div>"
     },
     "execution_count": 41,
     "metadata": {},
     "output_type": "execute_result"
    }
   ],
   "source": [
    "# Organizes the data into a Pandas Dataframe.\n",
    "positive_data_df = {'mirna_name': positive_mirnas,\n",
    "                    'mirna_seq': positive_mirna_sequences,\n",
    "                    'target_name': positive_targets,\n",
    "                    'target_seq': positive_target_sequences,\n",
    "                    'interaction': interaction}\n",
    "\n",
    "positive_df = pd.DataFrame(positive_data_df)\n",
    "positive_df.head()\n"
   ],
   "metadata": {
    "collapsed": false,
    "ExecuteTime": {
     "end_time": "2023-09-24T23:48:26.974815Z",
     "start_time": "2023-09-24T23:48:26.804141Z"
    }
   }
  },
  {
   "cell_type": "code",
   "execution_count": 42,
   "outputs": [
    {
     "data": {
      "text/plain": "(127891, 5)"
     },
     "execution_count": 42,
     "metadata": {},
     "output_type": "execute_result"
    }
   ],
   "source": [
    "# Checks the dataframe size.\n",
    "positive_df.shape\n"
   ],
   "metadata": {
    "collapsed": false,
    "ExecuteTime": {
     "end_time": "2023-09-24T23:48:27.007186Z",
     "start_time": "2023-09-24T23:48:26.904814Z"
    }
   }
  },
  {
   "cell_type": "code",
   "execution_count": 43,
   "outputs": [
    {
     "data": {
      "text/plain": "       mirna_name              mirna_seq target_name  \\\n0  ath-miR398c-3p  UGUGUUCUCAGGUCACCCCUG        SPL3   \n1  ath-miR398c-3p  UGUGUUCUCAGGUCACCCCUG       SPL11   \n2  ath-miR398b-3p  UGUGUUCUCAGGUCACCCCUG        SPL6   \n3  ath-miR398b-3p  UGUGUUCUCAGGUCACCCCUG        SPL9   \n4  ath-miR398c-3p  UGUGUUCUCAGGUCACCCCUG       SPL15   \n\n                                          target_seq  interaction  \n0  CAACCACAAAATAAACCGGGGTGGTGTCATAGCATCGACATTAACT...            1  \n1  AATATAATTCGTTTCATATACTAGTATTAGTTAAAAATTAGACACC...            1  \n2  ATGGATAAGGGCTCATCTTCCTCCTCCTCCTCTTCTTCCTCAGCTG...            1  \n3  AATAATTGCAAGGAAAAACTCTATAAAAAGATAGAAATGTGAACAG...            1  \n4  CTCTCTCTTCTCTTCTCTCTGATTCTTTAAAAGATAGCAACATCTA...            1  ",
      "text/html": "<div>\n<style scoped>\n    .dataframe tbody tr th:only-of-type {\n        vertical-align: middle;\n    }\n\n    .dataframe tbody tr th {\n        vertical-align: top;\n    }\n\n    .dataframe thead th {\n        text-align: right;\n    }\n</style>\n<table border=\"1\" class=\"dataframe\">\n  <thead>\n    <tr style=\"text-align: right;\">\n      <th></th>\n      <th>mirna_name</th>\n      <th>mirna_seq</th>\n      <th>target_name</th>\n      <th>target_seq</th>\n      <th>interaction</th>\n    </tr>\n  </thead>\n  <tbody>\n    <tr>\n      <th>0</th>\n      <td>ath-miR398c-3p</td>\n      <td>UGUGUUCUCAGGUCACCCCUG</td>\n      <td>SPL3</td>\n      <td>CAACCACAAAATAAACCGGGGTGGTGTCATAGCATCGACATTAACT...</td>\n      <td>1</td>\n    </tr>\n    <tr>\n      <th>1</th>\n      <td>ath-miR398c-3p</td>\n      <td>UGUGUUCUCAGGUCACCCCUG</td>\n      <td>SPL11</td>\n      <td>AATATAATTCGTTTCATATACTAGTATTAGTTAAAAATTAGACACC...</td>\n      <td>1</td>\n    </tr>\n    <tr>\n      <th>2</th>\n      <td>ath-miR398b-3p</td>\n      <td>UGUGUUCUCAGGUCACCCCUG</td>\n      <td>SPL6</td>\n      <td>ATGGATAAGGGCTCATCTTCCTCCTCCTCCTCTTCTTCCTCAGCTG...</td>\n      <td>1</td>\n    </tr>\n    <tr>\n      <th>3</th>\n      <td>ath-miR398b-3p</td>\n      <td>UGUGUUCUCAGGUCACCCCUG</td>\n      <td>SPL9</td>\n      <td>AATAATTGCAAGGAAAAACTCTATAAAAAGATAGAAATGTGAACAG...</td>\n      <td>1</td>\n    </tr>\n    <tr>\n      <th>4</th>\n      <td>ath-miR398c-3p</td>\n      <td>UGUGUUCUCAGGUCACCCCUG</td>\n      <td>SPL15</td>\n      <td>CTCTCTCTTCTCTTCTCTCTGATTCTTTAAAAGATAGCAACATCTA...</td>\n      <td>1</td>\n    </tr>\n  </tbody>\n</table>\n</div>"
     },
     "execution_count": 43,
     "metadata": {},
     "output_type": "execute_result"
    }
   ],
   "source": [
    "import numpy as np\n",
    "\n",
    "# Cleans the dataset, this is necessary because some sequences could not be retrieved.\n",
    "positive_df.replace('-', np.NAN, inplace=True)\n",
    "positive_df.dropna(inplace=True)\n",
    "positive_df.head()\n"
   ],
   "metadata": {
    "collapsed": false,
    "ExecuteTime": {
     "end_time": "2023-09-24T23:48:27.323715Z",
     "start_time": "2023-09-24T23:48:26.916206Z"
    }
   }
  },
  {
   "cell_type": "code",
   "execution_count": 44,
   "outputs": [
    {
     "data": {
      "text/plain": "(90440, 5)"
     },
     "execution_count": 44,
     "metadata": {},
     "output_type": "execute_result"
    }
   ],
   "source": [
    "# Checks the size of the resulting dataset after cleaning.\n",
    "positive_df.shape\n"
   ],
   "metadata": {
    "collapsed": false,
    "ExecuteTime": {
     "end_time": "2023-09-24T23:48:27.332235Z",
     "start_time": "2023-09-24T23:48:27.034516Z"
    }
   }
  },
  {
   "cell_type": "markdown",
   "source": [
    "The resulting dataset can be further preprocessed by removing those gene sequences (mRNA targets) larger than 3000 nucleotides length. This threshold is selected based on the average A. thalian gene length."
   ],
   "metadata": {
    "collapsed": false
   }
  },
  {
   "cell_type": "code",
   "execution_count": 45,
   "outputs": [
    {
     "data": {
      "text/plain": "(74323, 6)"
     },
     "execution_count": 45,
     "metadata": {},
     "output_type": "execute_result"
    }
   ],
   "source": [
    "# Creates a new column to keep track of the target length.\n",
    "positive_df['target_len'] = positive_df['target_seq'].str.len()\n",
    "# Filters out values based on the reported length.\n",
    "positive_df = positive_df[positive_df['target_len'] < tar_threshold]\n",
    "# Checks the new size.\n",
    "positive_df.shape\n"
   ],
   "metadata": {
    "collapsed": false,
    "ExecuteTime": {
     "end_time": "2023-09-24T23:48:27.346037Z",
     "start_time": "2023-09-24T23:48:27.127611Z"
    }
   }
  },
  {
   "cell_type": "code",
   "execution_count": 46,
   "outputs": [],
   "source": [
    "# Saves the data as CSV file.\n",
    "positive_df.to_csv('data/prepared_datasets/positive_ath_dataset.csv')\n"
   ],
   "metadata": {
    "collapsed": false,
    "ExecuteTime": {
     "end_time": "2023-09-24T23:48:31.727288Z",
     "start_time": "2023-09-24T23:48:27.173299Z"
    }
   }
  },
  {
   "cell_type": "markdown",
   "source": [
    "#### 5.3. Merging positive and negative datasets\n",
    "\n",
    "At this point, two datasets were generated and prepared: A positive and a negative dataset. The sizes of the datasets are:\n",
    "- Positive dataset: 90440 entries.\n",
    "- Negative dataset: 129485 entries.\n",
    "\n",
    "If combined, the dataset could be considered balanced, indicating that one of the main concerns regarding the data (i.e., noticeably unbalanced data with lack of negative examples) was successfully addressed and solved.\n",
    "\n",
    "Considering the above, the next step consists of merging both datasets; however, as explained in section <i>3. Success measures</i>, this project aims to <b>ensure the presence of negative and positive examples in the train, test, and validation datasets</b>. Therefore, the negative and positive datasets will be separately split into train, test, validation; then the respective train, test, and validation sets will be merged to include both positive and negative examples.\n",
    "\n",
    "One important consideration at this stage is the features to use to feed the network. The datasets were prepared to contain names of the molecules using a normalized nomenclature for either miRNA or mRNA target; however, names should not be used to predict the probability of interaction between the molecules, and only nucleotide sequences must be taken into consideration for training. Thus, the model should take as input a pair $x_1$ (miRNA sequence), $x_2$ (target sequence), and produce an output $y$ (predicted interaction)."
   ],
   "metadata": {
    "collapsed": false
   }
  },
  {
   "cell_type": "markdown",
   "source": [
    "##### 5.3.1. Split positive dataset into train, test, and validation set\n",
    "\n",
    "For this step, the proportions of the sets are defined as:\n",
    "- Train set: 0.6\n",
    "- Validation set: 0.2\n",
    "- Test set: 0.2"
   ],
   "metadata": {
    "collapsed": false
   }
  },
  {
   "cell_type": "code",
   "execution_count": 47,
   "outputs": [],
   "source": [
    "# !pip install scikit-learn"
   ],
   "metadata": {
    "collapsed": false,
    "ExecuteTime": {
     "end_time": "2023-09-24T23:48:31.737849Z",
     "start_time": "2023-09-24T23:48:31.733866Z"
    }
   }
  },
  {
   "cell_type": "code",
   "execution_count": 48,
   "outputs": [],
   "source": [
    "from sklearn.model_selection import train_test_split\n",
    "\n",
    "# Defines positive (p) X and y, where X contains two features:\n",
    "# miRNA and target nucleotide sequences.\n",
    "X_p = positive_df[['mirna_seq', 'target_seq']]\n",
    "y_p = positive_df['interaction']\n",
    "\n",
    "# Splits the data into train and test sets.\n",
    "test_size = 0.2\n",
    "random_seed = 1\n",
    "X_train_p, X_test_p, y_train_p, y_test_p = train_test_split(X_p,\n",
    "                                                            y_p,\n",
    "                                                            test_size=test_size,\n",
    "                                                            random_state=random_seed)\n",
    "# Splits the train data into train and validation sets.\n",
    "val_size = 0.25\n",
    "X_train_p, X_val_p, y_train_p, y_val_p = train_test_split(X_train_p,\n",
    "                                                          y_train_p,\n",
    "                                                          test_size=val_size,\n",
    "                                                          random_state=random_seed)\n"
   ],
   "metadata": {
    "collapsed": false,
    "ExecuteTime": {
     "end_time": "2023-09-24T23:48:39.373947Z",
     "start_time": "2023-09-24T23:48:31.743721Z"
    }
   }
  },
  {
   "cell_type": "markdown",
   "source": [
    "##### 5.3.2. Split negative dataset into train, test, and validation set"
   ],
   "metadata": {
    "collapsed": false
   }
  },
  {
   "cell_type": "code",
   "execution_count": 49,
   "outputs": [],
   "source": [
    "# Defines negative (n) X and y, where X contains two features:\n",
    "# miRNA and target nucleotide sequences.\n",
    "X_n = negative_df[['mirna_seq', 'target_seq']]\n",
    "y_n = negative_df['interaction']\n",
    "\n",
    "# Splits the data into train and test sets.\n",
    "X_train_n, X_test_n, y_train_n, y_test_n = train_test_split(X_n,\n",
    "                                                            y_n,\n",
    "                                                            test_size=test_size,\n",
    "                                                            random_state=random_seed)\n",
    "# Splits the train data into train and validation sets.\n",
    "X_train_n, X_val_n, y_train_n, y_val_n = train_test_split(X_train_n,\n",
    "                                                          y_train_n,\n",
    "                                                          test_size=val_size,\n",
    "                                                          random_state=random_seed)\n"
   ],
   "metadata": {
    "collapsed": false,
    "ExecuteTime": {
     "end_time": "2023-09-24T23:48:39.440136Z",
     "start_time": "2023-09-24T23:48:39.372971Z"
    }
   }
  },
  {
   "cell_type": "markdown",
   "source": [
    "##### 5.3.3. Merging positive and negative train, test, and validation sets"
   ],
   "metadata": {
    "collapsed": false
   }
  },
  {
   "cell_type": "code",
   "execution_count": 50,
   "outputs": [],
   "source": [
    "# Creates a merged train set containing balanced positive and negative examples.\n",
    "X_train = pd.concat([X_train_p, X_train_n])\n",
    "y_train = pd.concat([y_train_p, y_train_n])\n",
    "# Creates a merged test set.\n",
    "X_test = pd.concat([X_test_p, X_test_n])\n",
    "y_test = pd.concat([y_test_p, y_test_n])\n",
    "# Creates a merged validation set.\n",
    "X_val = pd.concat([X_val_p, X_val_n])\n",
    "y_val = pd.concat([y_val_p, y_val_n])\n"
   ],
   "metadata": {
    "collapsed": false,
    "ExecuteTime": {
     "end_time": "2023-09-24T23:48:39.478456Z",
     "start_time": "2023-09-24T23:48:39.427735Z"
    }
   }
  },
  {
   "cell_type": "code",
   "execution_count": 51,
   "outputs": [
    {
     "name": "stdout",
     "output_type": "stream",
     "text": [
      "Train X size: 103444\n",
      "\tPositive examples in Train X: 44593\n",
      "\tNegative examples in Train X: 58851\n",
      "Train y size: 103444\n",
      "\tPositive examples in Train y: 44593\n",
      "\tNegative examples in Train y: 58851\n",
      "\n",
      "Validation X size: 34483\n",
      "\tPositive examples in Validation X: 14865\n",
      "\tNegative examples in Validation X: 19618\n",
      "Validation y size: 34483\n",
      "\tPositive examples in Validation y: 14865\n",
      "\tNegative examples in Validation y: 19618\n",
      "\n",
      "Test X size: 34483\n",
      "\tPositive examples in Test X: 14865\n",
      "\tNegative examples in Test X: 19618\n",
      "Test y size: 34483\n",
      "\tPositive examples in Test y: 14865\n",
      "\tNegative examples in Test y: 19618\n"
     ]
    }
   ],
   "source": [
    "# Checks the size of the resulting merged sets.\n",
    "print(f'Train X size: {X_train.shape[0]}')\n",
    "print(f'\\tPositive examples in Train X: {X_train_p.shape[0]}')\n",
    "print(f'\\tNegative examples in Train X: {X_train_n.shape[0]}')\n",
    "print(f'Train y size: {y_train.shape[0]}')\n",
    "print(f'\\tPositive examples in Train y: {y_train_p.shape[0]}')\n",
    "print(f'\\tNegative examples in Train y: {y_train_n.shape[0]}\\n')\n",
    "\n",
    "print(f'Validation X size: {X_val.shape[0]}')\n",
    "print(f'\\tPositive examples in Validation X: {X_val_p.shape[0]}')\n",
    "print(f'\\tNegative examples in Validation X: {X_val_n.shape[0]}')\n",
    "print(f'Validation y size: {y_val.shape[0]}')\n",
    "print(f'\\tPositive examples in Validation y: {y_val_p.shape[0]}')\n",
    "print(f'\\tNegative examples in Validation y: {y_val_n.shape[0]}\\n')\n",
    "\n",
    "print(f'Test X size: {X_test.shape[0]}')\n",
    "print(f'\\tPositive examples in Test X: {X_test_p.shape[0]}')\n",
    "print(f'\\tNegative examples in Test X: {X_test_n.shape[0]}')\n",
    "print(f'Test y size: {y_test.shape[0]}')\n",
    "print(f'\\tPositive examples in Test y: {y_test_p.shape[0]}')\n",
    "print(f'\\tNegative examples in Test y: {y_test_n.shape[0]}')\n"
   ],
   "metadata": {
    "collapsed": false,
    "ExecuteTime": {
     "end_time": "2023-09-24T23:48:39.480760Z",
     "start_time": "2023-09-24T23:48:39.451702Z"
    }
   }
  },
  {
   "cell_type": "markdown",
   "source": [
    "#### 5.4. Encoding scheme\n",
    "Since the network accepts numerical values, the nucleotide sequences (corresponding to string data type) must be converted into a numerical representation. After encoding the data into a suitable representation, it should be further converted into tensors.\n",
    "\n",
    "The features used in this project correspond to RNA sequences (either miRNA or mRNA), thus, given a sequence, there are 4 possible nucleotides to choose from at each position. The nucleotides used in this study and they respective assigned numerical representation are listed as follows:\n",
    "- A - Adenine - 1\n",
    "- U - Uracil (or T - Thymine) - 2\n",
    "- C - Cytosine - 3\n",
    "- G - Guanine - 4\n",
    "- X - Not identified - 0\n",
    "\n",
    "This approach corresponds to One-Hot encoding.\n"
   ],
   "metadata": {
    "collapsed": false
   }
  },
  {
   "cell_type": "code",
   "execution_count": 52,
   "outputs": [
    {
     "data": {
      "text/plain": "24"
     },
     "execution_count": 52,
     "metadata": {},
     "output_type": "execute_result"
    }
   ],
   "source": [
    "# Calculates the largest miRNA sequence.\n",
    "largest_mirna = max(positive_df[\"mirna_seq\"].apply(lambda x: len(x)).max(),\n",
    "                    negative_df[\"mirna_seq\"].apply(lambda x: len(x)).max())\n",
    "largest_mirna\n"
   ],
   "metadata": {
    "collapsed": false,
    "ExecuteTime": {
     "end_time": "2023-09-24T23:48:39.587807Z",
     "start_time": "2023-09-24T23:48:39.460470Z"
    }
   }
  },
  {
   "cell_type": "code",
   "execution_count": 53,
   "outputs": [
    {
     "data": {
      "text/plain": "2999"
     },
     "execution_count": 53,
     "metadata": {},
     "output_type": "execute_result"
    }
   ],
   "source": [
    "# Calculates the largest mRNA target sequence.\n",
    "largest_target = max(positive_df[\"target_seq\"].apply(lambda x: len(x)).max(),\n",
    "                    negative_df[\"target_seq\"].apply(lambda x: len(x)).max())\n",
    "largest_target\n"
   ],
   "metadata": {
    "collapsed": false,
    "ExecuteTime": {
     "end_time": "2023-09-24T23:48:39.686177Z",
     "start_time": "2023-09-24T23:48:39.576224Z"
    }
   }
  },
  {
   "cell_type": "code",
   "execution_count": 54,
   "outputs": [],
   "source": [
    "# Defines the numerical representation for each nucleotide.\n",
    "mapped_nucleotides = {'A': 1,\n",
    "                      'U': 2,\n",
    "                      'T': 2,\n",
    "                      'C': 3,\n",
    "                      'G': 4,\n",
    "                      'X': 0}\n",
    "\n",
    "# One-Hot encoding implementation.\n",
    "def encode_df_col(col, size=24):\n",
    "    \"\"\"\n",
    "        Assigns numerical values to the nucleotide sequences.\n",
    "        The values are returned in the form of list.\n",
    "\n",
    "        Parameters:\n",
    "            col (pd.Series): Column from pd DataFrame object.\n",
    "            size (int): Length of the encoded entry.\n",
    "\n",
    "        Returns:\n",
    "            encoded_col (pd.Series): Input column after the encoding.\n",
    "    \"\"\"\n",
    "\n",
    "    # Converts the nucleotide sequences into lists.\n",
    "    encoded_col = col.apply(lambda x: list(x))\n",
    "    encoded_col = encoded_col.apply(lambda x: [mapped_nucleotides[n]\n",
    "                                                if n in mapped_nucleotides.keys()\n",
    "                                                else mapped_nucleotides['X']\n",
    "                                                for n in x])\n",
    "    encoded_col = encoded_col.apply(lambda x: np.pad(x,\n",
    "                                                     (0, size - len(x)),\n",
    "                                                     'constant',\n",
    "                                                     constant_values=0))\n",
    "\n",
    "    return encoded_col\n"
   ],
   "metadata": {
    "collapsed": false,
    "ExecuteTime": {
     "end_time": "2023-09-24T23:48:39.686542Z",
     "start_time": "2023-09-24T23:48:39.642342Z"
    }
   }
  },
  {
   "cell_type": "code",
   "execution_count": 55,
   "outputs": [],
   "source": [
    "# Encodes the train test and val sets.\n",
    "X_train['mirna_seq'] = encode_df_col(X_train['mirna_seq'], largest_mirna)\n",
    "X_train['target_seq'] = encode_df_col(X_train['target_seq'], largest_target)\n",
    "\n",
    "X_val['mirna_seq'] = encode_df_col(X_val['mirna_seq'], largest_mirna)\n",
    "X_val['target_seq'] = encode_df_col(X_val['target_seq'], largest_target)\n",
    "\n",
    "X_test['mirna_seq'] = encode_df_col(X_test['mirna_seq'], largest_mirna)\n",
    "X_test['target_seq'] = encode_df_col(X_test['target_seq'], largest_target)\n"
   ],
   "metadata": {
    "collapsed": false,
    "ExecuteTime": {
     "end_time": "2023-09-24T23:49:44.300401Z",
     "start_time": "2023-09-24T23:48:39.649269Z"
    }
   }
  },
  {
   "cell_type": "markdown",
   "source": [
    "The next step in the preprocessing stage is to convert the split and encoded datasets into tensors."
   ],
   "metadata": {
    "collapsed": false
   }
  },
  {
   "cell_type": "code",
   "execution_count": 56,
   "outputs": [
    {
     "name": "stderr",
     "output_type": "stream",
     "text": [
      "2023-09-25 01:49:48.737594: I tensorflow/core/platform/cpu_feature_guard.cc:182] This TensorFlow binary is optimized to use available CPU instructions in performance-critical operations.\n",
      "To enable the following instructions: AVX2 FMA, in other operations, rebuild TensorFlow with the appropriate compiler flags.\n"
     ]
    }
   ],
   "source": [
    "import tensorflow as tf\n",
    "\n",
    "# Converts to tensor.\n",
    "X_train_tf_mirna_seq = tf.cast(np.asarray(X_train['mirna_seq'].tolist()), tf.float64)\n",
    "X_train_tf_target_seq = tf.cast(np.asarray(X_train['target_seq'].tolist()), tf.float64)\n",
    "y_train_tf = tf.cast(y_train.tolist(), tf.int32)\n",
    "\n",
    "X_val_tf_mirna_seq = tf.cast(np.asarray(X_val['mirna_seq'].tolist()), tf.float64)\n",
    "X_val_tf_target_seq = tf.cast(np.asarray(X_val['target_seq'].tolist()), tf.float64)\n",
    "y_val_tf = tf.cast(y_val.tolist(), tf.int32)\n",
    "\n",
    "X_test_tf_mirna_seq = tf.cast(np.asarray(X_test['mirna_seq'].tolist()), tf.float64)\n",
    "X_test_tf_target_seq = tf.cast(np.asarray(X_test['target_seq'].tolist()), tf.float64)\n",
    "y_test_tf = tf.cast(y_test.tolist(), tf.int32)\n"
   ],
   "metadata": {
    "collapsed": false,
    "ExecuteTime": {
     "end_time": "2023-09-24T23:50:14.595392Z",
     "start_time": "2023-09-24T23:49:44.304079Z"
    }
   }
  },
  {
   "cell_type": "markdown",
   "source": [
    "### 6. Model beating the baseline\n",
    "For the baseline, a statistically significant model is build. In this case, the problem can be shaped as a binary classification problem where there are two possible classes to predict: negative interaction (0), positive interaction (1). Considering this, a model must have $accuracy >= 0.5$ to be statistically significant.\n"
   ],
   "metadata": {
    "collapsed": false
   }
  },
  {
   "cell_type": "code",
   "execution_count": 57,
   "outputs": [],
   "source": [
    "# Defines a leaky relu function.\n",
    "def l_relu(x, alpha=0.3):\n",
    "    return tf.maximum(x, tf.multiply(x, alpha))\n"
   ],
   "metadata": {
    "collapsed": false,
    "ExecuteTime": {
     "end_time": "2023-09-24T23:50:14.612204Z",
     "start_time": "2023-09-24T23:50:14.601459Z"
    }
   }
  },
  {
   "cell_type": "code",
   "execution_count": 61,
   "outputs": [
    {
     "name": "stdout",
     "output_type": "stream",
     "text": [
      "(103444, 24)\n",
      "(103444, 2999)\n"
     ]
    }
   ],
   "source": [
    "# Checks the tensor shapes.\n",
    "print(X_train_tf_mirna_seq.shape)\n",
    "print(X_train_tf_target_seq.shape)\n"
   ],
   "metadata": {
    "collapsed": false,
    "ExecuteTime": {
     "end_time": "2023-09-24T23:59:03.851871Z",
     "start_time": "2023-09-24T23:59:03.799459Z"
    }
   }
  },
  {
   "cell_type": "code",
   "execution_count": 108,
   "outputs": [],
   "source": [
    "from keras.layers import Dense, concatenate\n",
    "from keras import Input, Model\n",
    "from keras.optimizers import RMSprop\n",
    "\n",
    "# Defines number of classes and inputs (multiple inputs).\n",
    "total_classes = 2\n",
    "mirna_seq_input = Input(shape=(24, ))\n",
    "target_seq_input = Input(shape=(2999, ))\n",
    "\n",
    "# Builds the branch of the network handling miRNAs.\n",
    "m = Dense(2, activation=l_relu)(mirna_seq_input)\n",
    "m = Model(inputs=mirna_seq_input, outputs=m)\n",
    "\n",
    "# Builds the part of the network handling mRNA targets.\n",
    "t = Dense(2, activation=l_relu)(target_seq_input)\n",
    "t = Model(inputs=target_seq_input, outputs=t)\n",
    "\n",
    "# Combines the outputs of both branches.\n",
    "c = concatenate([m.output, t.output])\n",
    "\n",
    "# Defines the prediction layer.\n",
    "p = Dense(total_classes, activation='softmax')(c)\n",
    "\n",
    "# Sets the model accepting multiple inputs.\n",
    "model = Model(inputs=[m.input, t.input], outputs=p)\n",
    "\n",
    "# Compiles the model\n",
    "model.compile(optimizer=RMSprop(learning_rate=1e-6),\n",
    "              loss='sparse_categorical_crossentropy',\n",
    "              metrics=['accuracy'])\n"
   ],
   "metadata": {
    "collapsed": false,
    "ExecuteTime": {
     "end_time": "2023-09-25T01:25:03.189620Z",
     "start_time": "2023-09-25T01:25:03.145889Z"
    }
   }
  },
  {
   "cell_type": "code",
   "execution_count": 109,
   "outputs": [],
   "source": [
    "# !pip install pydot graphviz"
   ],
   "metadata": {
    "collapsed": false,
    "ExecuteTime": {
     "end_time": "2023-09-25T01:25:04.307889Z",
     "start_time": "2023-09-25T01:25:04.278625Z"
    }
   }
  },
  {
   "cell_type": "code",
   "execution_count": 110,
   "outputs": [
    {
     "data": {
      "image/png": "[encoded data removed]",
      "text/plain": "<IPython.core.display.Image object>"
     },
     "execution_count": 110,
     "metadata": {},
     "output_type": "execute_result"
    }
   ],
   "source": [
    "import keras\n",
    "\n",
    "# Previews the network's architecture.\n",
    "keras.utils.plot_model(model, show_shapes=True)\n"
   ],
   "metadata": {
    "collapsed": false,
    "ExecuteTime": {
     "end_time": "2023-09-25T01:25:07.222290Z",
     "start_time": "2023-09-25T01:25:06.863132Z"
    }
   }
  },
  {
   "cell_type": "code",
   "execution_count": 107,
   "outputs": [
    {
     "name": "stdout",
     "output_type": "stream",
     "text": [
      "Epoch 1/10\n",
      "3233/3233 [==============================] - 12s 3ms/step - loss: 0.5783 - accuracy: 0.6982 - val_loss: 0.5616 - val_accuracy: 0.7131\n",
      "Epoch 2/10\n",
      "3233/3233 [==============================] - 9s 3ms/step - loss: 0.5513 - accuracy: 0.7231 - val_loss: 0.5418 - val_accuracy: 0.7336\n",
      "Epoch 3/10\n",
      "3233/3233 [==============================] - 9s 3ms/step - loss: 0.5364 - accuracy: 0.7379 - val_loss: 0.5311 - val_accuracy: 0.7428\n",
      "Epoch 4/10\n",
      "3233/3233 [==============================] - 9s 3ms/step - loss: 0.5283 - accuracy: 0.7434 - val_loss: 0.5248 - val_accuracy: 0.7445\n",
      "Epoch 5/10\n",
      "3233/3233 [==============================] - 9s 3ms/step - loss: 0.5230 - accuracy: 0.7468 - val_loss: 0.5201 - val_accuracy: 0.7476\n",
      "Epoch 6/10\n",
      "3233/3233 [==============================] - 9s 3ms/step - loss: 0.5189 - accuracy: 0.7497 - val_loss: 0.5162 - val_accuracy: 0.7508\n",
      "Epoch 7/10\n",
      "3233/3233 [==============================] - 9s 3ms/step - loss: 0.5153 - accuracy: 0.7509 - val_loss: 0.5126 - val_accuracy: 0.7518\n",
      "Epoch 8/10\n",
      "3233/3233 [==============================] - 9s 3ms/step - loss: 0.5118 - accuracy: 0.7537 - val_loss: 0.5092 - val_accuracy: 0.7577\n",
      "Epoch 9/10\n",
      "3233/3233 [==============================] - 9s 3ms/step - loss: 0.5085 - accuracy: 0.7578 - val_loss: 0.5059 - val_accuracy: 0.7615\n",
      "Epoch 10/10\n",
      "3233/3233 [==============================] - 9s 3ms/step - loss: 0.5049 - accuracy: 0.7616 - val_loss: 0.5026 - val_accuracy: 0.7632\n"
     ]
    }
   ],
   "source": [
    "# Fits the model.\n",
    "history = model.fit(x=[X_train_tf_mirna_seq, X_train_tf_target_seq],\n",
    "                    y=y_train,\n",
    "                    batch_size=32,\n",
    "                    epochs=10,\n",
    "                    validation_data=([X_test_tf_mirna_seq, X_test_tf_target_seq],\n",
    "                                     y_test))\n"
   ],
   "metadata": {
    "collapsed": false,
    "ExecuteTime": {
     "end_time": "2023-09-25T01:20:38.847244Z",
     "start_time": "2023-09-25T01:19:04.881917Z"
    }
   }
  },
  {
   "cell_type": "code",
   "execution_count": 113,
   "outputs": [],
   "source": [
    "# !pip install matplotlib"
   ],
   "metadata": {
    "collapsed": false,
    "ExecuteTime": {
     "end_time": "2023-09-25T01:29:11.381652Z",
     "start_time": "2023-09-25T01:29:11.338715Z"
    }
   }
  },
  {
   "cell_type": "code",
   "execution_count": 115,
   "outputs": [],
   "source": [
    "import matplotlib.pyplot as plt\n",
    "\n",
    "def visualize_metrics(history):\n",
    "    \"\"\"\n",
    "        Plots the evaluation metrics generated during training.\n",
    "\n",
    "        Parameters:\n",
    "            history: History generated while training.\n",
    "\n",
    "        Returns:\n",
    "            None\n",
    "    \"\"\"\n",
    "\n",
    "    # Visualizes the results.\n",
    "    acc = history.history['accuracy']\n",
    "    val_acc = history.history['val_accuracy']\n",
    "    loss = history.history['loss']\n",
    "    val_loss = history.history['val_loss']\n",
    "\n",
    "    epochs = range(1, len(acc) + 1)\n",
    "\n",
    "    plt.plot(epochs, acc, 'b', label='Training acc')\n",
    "    plt.plot(epochs, val_acc, 'r', label='Validation acc')\n",
    "    plt.title('Training and validation accuracy')\n",
    "    plt.legend()\n",
    "\n",
    "    plt.figure()\n",
    "\n",
    "    plt.plot(epochs, loss, 'b', label='Training loss')\n",
    "    plt.plot(epochs, val_loss, 'r', label='Validation loss')\n",
    "    plt.title('Training and validation loss')\n",
    "    plt.legend()\n",
    "\n",
    "    plt.show()\n"
   ],
   "metadata": {
    "collapsed": false,
    "ExecuteTime": {
     "end_time": "2023-09-25T01:33:57.748095Z",
     "start_time": "2023-09-25T01:33:57.709494Z"
    }
   }
  },
  {
   "cell_type": "code",
   "execution_count": 116,
   "outputs": [
    {
     "data": {
      "text/plain": "<Figure size 640x480 with 1 Axes>",
      "image/png": "[encoded data removed]"
     },
     "metadata": {},
     "output_type": "display_data"
    },
    {
     "data": {
      "text/plain": "<Figure size 640x480 with 1 Axes>",
      "image/png": "[encoded data removed]"
     },
     "metadata": {},
     "output_type": "display_data"
    }
   ],
   "source": [
    "# Visualizes the training.\n",
    "visualize_metrics(history)\n"
   ],
   "metadata": {
    "collapsed": false,
    "ExecuteTime": {
     "end_time": "2023-09-25T01:34:27.130669Z",
     "start_time": "2023-09-25T01:34:26.360547Z"
    }
   }
  },
  {
   "cell_type": "markdown",
   "source": [
    "The resulting model is statistically significant, with 76% accuracy; therefore, it constitutes a valid baseline for the project."
   ],
   "metadata": {
    "collapsed": false
   }
  },
  {
   "cell_type": "code",
   "execution_count": null,
   "outputs": [],
   "source": [],
   "metadata": {
    "collapsed": false
   }
  },
  {
   "cell_type": "code",
   "execution_count": null,
   "outputs": [],
   "source": [],
   "metadata": {
    "collapsed": false
   }
  },
  {
   "cell_type": "code",
   "execution_count": 89,
   "outputs": [],
   "source": [
    "# Builds the branch of the network handling miRNAs. TODO check\n",
    "m = Dense(8, activation=l_relu)(mirna_seq_input)\n",
    "m = Dense(4, activation=l_relu)(m)\n",
    "m = Model(inputs=mirna_seq_input, outputs=m)\n",
    "\n",
    "# Builds the part of the network handling mRNA targets.\n",
    "t = Dense(8, activation=l_relu)(target_seq_input)\n",
    "t = Dense(4, activation=l_relu)(t)\n",
    "t = Model(inputs=target_seq_input, outputs=t)\n",
    "\n",
    "# Combines the outputs of both branches.\n",
    "c = concatenate([m.output, t.output])\n",
    "\n",
    "# Sets a fully connected layer.\n",
    "f = Dense(4, activation=l_relu)(c)\n",
    "# Defines the prediction layer.\n",
    "p = Dense(total_classes, activation='softmax')(f)\n",
    "\n",
    "# Sets the model accepting multiple inputs.\n",
    "model = Model(inputs=[m.input, t.input], outputs=p)\n",
    "\n",
    "# Compiles the model\n",
    "model.compile(optimizer=RMSprop(learning_rate=1e-4),\n",
    "              loss='sparse_categorical_crossentropy',\n",
    "              metrics=['accuracy'])\n"
   ],
   "metadata": {
    "collapsed": false,
    "ExecuteTime": {
     "end_time": "2023-09-25T01:00:33.481718Z",
     "start_time": "2023-09-25T01:00:33.387968Z"
    }
   }
  },
  {
   "cell_type": "code",
   "execution_count": 91,
   "outputs": [
    {
     "data": {
      "image/png": "[encoded data removed]",
      "text/plain": "<IPython.core.display.Image object>"
     },
     "execution_count": 91,
     "metadata": {},
     "output_type": "execute_result"
    }
   ],
   "source": [
    "import keras TODO\n",
    "\n",
    "# Previews the network's architecture.\n",
    "keras.utils.plot_model(model, show_shapes=True)\n"
   ],
   "metadata": {
    "collapsed": false,
    "ExecuteTime": {
     "end_time": "2023-09-25T01:00:35.019093Z",
     "start_time": "2023-09-25T01:00:34.624349Z"
    }
   }
  },
  {
   "cell_type": "code",
   "execution_count": 92,
   "outputs": [
    {
     "name": "stdout",
     "output_type": "stream",
     "text": [
      "Epoch 1/30\n",
      "1617/1617 [==============================] - 11s 6ms/step - loss: 0.2234 - accuracy: 0.9053 - val_loss: 0.0780 - val_accuracy: 0.9779\n",
      "Epoch 2/30\n",
      "1617/1617 [==============================] - 8s 5ms/step - loss: 0.0570 - accuracy: 0.9850 - val_loss: 0.0342 - val_accuracy: 0.9907\n",
      "Epoch 3/30\n",
      "1617/1617 [==============================] - 6s 4ms/step - loss: 0.0360 - accuracy: 0.9901 - val_loss: 0.0254 - val_accuracy: 0.9937\n",
      "Epoch 4/30\n",
      "1617/1617 [==============================] - 6s 4ms/step - loss: 0.0274 - accuracy: 0.9924 - val_loss: 0.0836 - val_accuracy: 0.9760\n",
      "Epoch 5/30\n",
      "1617/1617 [==============================] - 7s 4ms/step - loss: 0.0226 - accuracy: 0.9937 - val_loss: 0.0773 - val_accuracy: 0.9781\n",
      "Epoch 6/30\n",
      "1617/1617 [==============================] - 6s 4ms/step - loss: 0.0200 - accuracy: 0.9946 - val_loss: 0.0161 - val_accuracy: 0.9961\n",
      "Epoch 7/30\n",
      "1617/1617 [==============================] - 6s 4ms/step - loss: 0.0182 - accuracy: 0.9952 - val_loss: 0.0162 - val_accuracy: 0.9965\n",
      "Epoch 8/30\n",
      "1617/1617 [==============================] - 6s 4ms/step - loss: 0.0171 - accuracy: 0.9957 - val_loss: 0.0903 - val_accuracy: 0.9677\n",
      "Epoch 9/30\n",
      "1617/1617 [==============================] - 6s 4ms/step - loss: 0.0161 - accuracy: 0.9957 - val_loss: 0.0160 - val_accuracy: 0.9970\n",
      "Epoch 10/30\n",
      "1617/1617 [==============================] - 6s 4ms/step - loss: 0.0154 - accuracy: 0.9958 - val_loss: 0.2107 - val_accuracy: 0.9298\n",
      "Epoch 11/30\n",
      "1617/1617 [==============================] - 6s 4ms/step - loss: 0.0152 - accuracy: 0.9958 - val_loss: 0.0180 - val_accuracy: 0.9966\n",
      "Epoch 12/30\n",
      "1617/1617 [==============================] - 6s 4ms/step - loss: 0.0147 - accuracy: 0.9961 - val_loss: 0.0185 - val_accuracy: 0.9963\n",
      "Epoch 13/30\n",
      "1617/1617 [==============================] - 6s 4ms/step - loss: 0.0156 - accuracy: 0.9958 - val_loss: 0.0207 - val_accuracy: 0.9963\n",
      "Epoch 14/30\n",
      "1617/1617 [==============================] - 6s 4ms/step - loss: 0.0151 - accuracy: 0.9959 - val_loss: 0.0147 - val_accuracy: 0.9969\n",
      "Epoch 15/30\n",
      "1617/1617 [==============================] - 6s 4ms/step - loss: 0.0143 - accuracy: 0.9964 - val_loss: 0.0169 - val_accuracy: 0.9970\n",
      "Epoch 16/30\n",
      "1617/1617 [==============================] - 6s 4ms/step - loss: 0.0133 - accuracy: 0.9962 - val_loss: 0.0168 - val_accuracy: 0.9968\n",
      "Epoch 17/30\n",
      "1617/1617 [==============================] - 6s 4ms/step - loss: 0.0137 - accuracy: 0.9961 - val_loss: 0.0163 - val_accuracy: 0.9968\n",
      "Epoch 18/30\n",
      "1617/1617 [==============================] - 6s 4ms/step - loss: 0.0136 - accuracy: 0.9963 - val_loss: 0.0164 - val_accuracy: 0.9967\n",
      "Epoch 19/30\n",
      "1617/1617 [==============================] - 6s 4ms/step - loss: 0.0125 - accuracy: 0.9965 - val_loss: 0.0192 - val_accuracy: 0.9967\n",
      "Epoch 20/30\n",
      "1617/1617 [==============================] - 6s 4ms/step - loss: 0.0127 - accuracy: 0.9966 - val_loss: 0.0255 - val_accuracy: 0.9945\n",
      "Epoch 21/30\n",
      "1617/1617 [==============================] - 6s 4ms/step - loss: 0.0124 - accuracy: 0.9967 - val_loss: 0.0162 - val_accuracy: 0.9966\n",
      "Epoch 22/30\n",
      "1617/1617 [==============================] - 6s 4ms/step - loss: 0.0123 - accuracy: 0.9966 - val_loss: 0.0155 - val_accuracy: 0.9966\n",
      "Epoch 23/30\n",
      "1617/1617 [==============================] - 6s 4ms/step - loss: 0.0118 - accuracy: 0.9968 - val_loss: 0.0161 - val_accuracy: 0.9969\n",
      "Epoch 24/30\n",
      "1617/1617 [==============================] - 7s 4ms/step - loss: 0.0111 - accuracy: 0.9968 - val_loss: 0.0233 - val_accuracy: 0.9956\n",
      "Epoch 25/30\n",
      "1617/1617 [==============================] - 6s 4ms/step - loss: 0.0112 - accuracy: 0.9971 - val_loss: 0.0176 - val_accuracy: 0.9970\n",
      "Epoch 26/30\n",
      "1617/1617 [==============================] - 34s 21ms/step - loss: 0.0112 - accuracy: 0.9968 - val_loss: 0.0190 - val_accuracy: 0.9966\n",
      "Epoch 27/30\n",
      "1617/1617 [==============================] - 7s 4ms/step - loss: 0.0102 - accuracy: 0.9971 - val_loss: 0.0229 - val_accuracy: 0.9944\n",
      "Epoch 28/30\n",
      "1617/1617 [==============================] - 7s 4ms/step - loss: 0.0107 - accuracy: 0.9972 - val_loss: 0.0200 - val_accuracy: 0.9971\n",
      "Epoch 29/30\n",
      "1617/1617 [==============================] - 6s 4ms/step - loss: 0.0098 - accuracy: 0.9973 - val_loss: 0.0197 - val_accuracy: 0.9962\n",
      "Epoch 30/30\n",
      "1617/1617 [==============================] - 6s 4ms/step - loss: 0.0096 - accuracy: 0.9973 - val_loss: 0.0328 - val_accuracy: 0.9921\n"
     ]
    }
   ],
   "source": [
    "# Fits the model. TODO\n",
    "history = model.fit(x=[X_train_tf_mirna_seq, X_train_tf_target_seq],\n",
    "                    y=y_train,\n",
    "                    batch_size=64,\n",
    "                    epochs=30,\n",
    "                    validation_data=([X_test_tf_mirna_seq, X_test_tf_target_seq], y_test))\n"
   ],
   "metadata": {
    "collapsed": false,
    "ExecuteTime": {
     "end_time": "2023-09-25T01:04:21.641643Z",
     "start_time": "2023-09-25T01:00:38.991799Z"
    }
   }
  },
  {
   "cell_type": "code",
   "execution_count": null,
   "outputs": [],
   "source": [],
   "metadata": {
    "collapsed": false
   }
  },
  {
   "cell_type": "code",
   "execution_count": null,
   "outputs": [],
   "source": [],
   "metadata": {
    "collapsed": false
   }
  },
  {
   "cell_type": "code",
   "execution_count": null,
   "outputs": [],
   "source": [],
   "metadata": {
    "collapsed": false
   }
  },
  {
   "cell_type": "markdown",
   "source": [
    "### 7. Model overfitting\n",
    "After defining a baseline, the next step is to develop a model that overfits.\n"
   ],
   "metadata": {
    "collapsed": false
   }
  },
  {
   "cell_type": "code",
   "execution_count": null,
   "outputs": [],
   "source": [
    "# Builds the branch of the network handling miRNAs. TODO check\n",
    "m = Dense(8, activation=l_relu)(mirna_seq_input)\n",
    "m = Dense(4, activation=l_relu)(m)\n",
    "m = Model(inputs=mirna_seq_input, outputs=m)\n",
    "\n",
    "# Builds the part of the network handling mRNA targets.\n",
    "t = Dense(8, activation=l_relu)(target_seq_input)\n",
    "t = Dense(4, activation=l_relu)(t)\n",
    "t = Model(inputs=target_seq_input, outputs=t)\n",
    "\n",
    "# Combines the outputs of both branches.\n",
    "c = concatenate([m.output, t.output])\n",
    "\n",
    "# Sets a fully connected layer.\n",
    "f = Dense(4, activation=l_relu)(c)\n",
    "# Defines the prediction layer.\n",
    "p = Dense(total_classes, activation='softmax')(f)\n",
    "\n",
    "# Sets the model accepting multiple inputs.\n",
    "model = Model(inputs=[m.input, t.input], outputs=p)\n",
    "\n",
    "# Compiles the model\n",
    "model.compile(optimizer=RMSprop(learning_rate=1e-4),\n",
    "              loss='sparse_categorical_crossentropy',\n",
    "              metrics=['accuracy'])\n",
    "\n",
    "import keras\n",
    "\n",
    "TODO\n",
    "\n",
    "# Previews the network's architecture.\n",
    "keras.utils.plot_model(model, show_shapes=True)\n",
    "\n",
    "# Fits the model. TODO\n",
    "history = model.fit(x=[X_train_tf_mirna_seq, X_train_tf_target_seq],\n",
    "                    y=y_train,\n",
    "                    batch_size=64,\n",
    "                    epochs=30,\n",
    "                    validation_data=([X_test_tf_mirna_seq, X_test_tf_target_seq], y_test))\n"
   ],
   "metadata": {
    "collapsed": false
   }
  },
  {
   "cell_type": "code",
   "execution_count": null,
   "outputs": [],
   "source": [],
   "metadata": {
    "collapsed": false
   }
  },
  {
   "cell_type": "code",
   "execution_count": null,
   "outputs": [],
   "source": [],
   "metadata": {
    "collapsed": false
   }
  },
  {
   "cell_type": "markdown",
   "source": [
    "### 8. Regularization and hyperparameter tuning"
   ],
   "metadata": {
    "collapsed": false
   }
  },
  {
   "cell_type": "code",
   "execution_count": 160,
   "outputs": [],
   "source": [],
   "metadata": {
    "collapsed": false,
    "ExecuteTime": {
     "end_time": "2023-09-24T16:51:33.963692Z",
     "start_time": "2023-09-24T16:51:33.939804Z"
    }
   }
  },
  {
   "cell_type": "markdown",
   "source": [
    "### References\n",
    "\n",
    "[1] A. Pla, X. Zhong, and S. Rayner, “miRAW: A deep learning-based approach to predict microRNA targets by analyzing whole microRNA transcripts,” PLOS Computational Biology, vol. 14, no. 7, p. e1006185, Jul. 2018, doi: 10.1371/journal.pcbi.1006185.\n",
    "\n",
    "[2] J. O’Brien, H. Hayder, Y. Zayed, and C. Peng, “Overview of MicroRNA Biogenesis, Mechanisms of Actions, and Circulation,” Frontiers in Endocrinology, vol. 9, 2018, Accessed: May 04, 2023. [Online]. Available: https://www.frontiersin.org/articles/10.3389/fendo.2018.00402\n",
    "\n",
    "[3] A. Quillet et al., “Improving Bioinformatics Prediction of microRNA Targets by Ranks Aggregation,” Frontiers in Genetics, vol. 10, 2020, Accessed: May 04, 2023. [Online]. Available: https://www.frontiersin.org/articles/10.3389/fgene.2019.01330\n",
    "\n",
    "[4] H. Nakayashiki, ‘RNA silencing in fungi: Mechanisms and applications’, FEBS Letters, vol. 579, no. 26, pp. 5950–5957, Oct. 2005, doi: 10.1016/j.febslet.2005.08.016.\n",
    "\n",
    "[5] T. Kakati, D. K. Bhattacharyya, J. K. Kalita, and T. M. Norden-Krichmar, ‘DEGnext: classification of differentially expressed genes from RNA-seq data using a convolutional neural network with transfer learning’, BMC Bioinformatics, vol. 23, no. 1, p. 17, Jan. 2022, doi: 10.1186/s12859-021-04527-4.\n",
    "\n",
    "[6] B. Hanczar, F. Zehraoui, T. Issa, and M. Arles, ‘Biological interpretation of deep neural network for phenotype prediction based on gene expression’, BMC Bioinformatics, vol. 21, no. 1, p. 501, Nov. 2020, doi: 10.1186/s12859-020-03836-4.\n",
    "\n",
    "[7] D. Urda, J. Montes-Torres, F. Moreno, L. Franco, and J. M. Jerez, ‘Deep Learning to Analyze RNA-Seq Gene Expression Data’, in Advances in Computational Intelligence, I. Rojas, G. Joya, and A. Catala, Eds., in Lecture Notes in Computer Science, vol. 10306. Cham: Springer International Publishing, 2017, pp. 50–59. doi: 10.1007/978-3-319-59147-6_5.\n",
    "\n",
    "[8] ‘Central Dogma’, Genome.gov, Sep. 14, 2022. https://www.genome.gov/genetics-glossary/Central-Dogma (accessed May 07, 2023).\n",
    "\n",
    "[9] A. Talukder, W. Zhang, X. Li, and H. Hu, “A deep learning method for miRNA/isomiR target detection,” Sci Rep, vol. 12, no. 1, Art. no. 1, Jun. 2022, doi: 10.1038/s41598-022-14890-8.\n",
    "\n",
    "[10] O. P. Gupta, P. Sharma, R. K. Gupta, and I. Sharma, “Current status on role of miRNAs during plant–fungus interaction,” Physiological and Molecular Plant Pathology, vol. 85, pp. 1–7, Jan. 2014, doi: 10.1016/j.pmpp.2013.10.002.\n",
    "\n",
    "[11] E. Marín-González and P. Suárez-López, “‘And yet it moves’: Cell-to-cell and long-distance signaling by plant microRNAs,” Plant Science, vol. 196, pp. 18–30, Nov. 2012, doi: 10.1016/j.plantsci.2012.07.009.\n",
    "\n",
    "[12] T. Siddika and I. U. Heinemann, “Bringing MicroRNAs to Light: Methods for MicroRNA Quantification and Visualization in Live Cells,” Frontiers in Bioengineering and Biotechnology, vol. 8, 2021, Accessed: Apr. 18, 2023. [Online]. Available: https://www.frontiersin.org/articles/10.3389/fbioe.2020.619583\n",
    "\n",
    "[13] J. K. W. Lam, M. Y. T. Chow, Y. Zhang, and S. W. S. Leung, “siRNA Versus miRNA as Therapeutics for Gene Silencing,” Mol Ther Nucleic Acids, vol. 4, no. 9, p. e252, Sep. 2015, doi: 10.1038/mtna.2015.23.\n",
    "\n",
    "[14] “miRTarBase: the experimentally validated microRNA-target interactions database.” https://mirtarbase.cuhk.edu.cn/~miRTarBase/miRTarBase_2022/php/index.php (accessed May 08, 2023).\n",
    "\n",
    "[15] “Gene Regulation,” Genome.gov, Sep. 14, 2022. https://www.genome.gov/genetics-glossary/Gene-Regulation (accessed May 09, 2023).\n",
    "\n",
    "[16] C. Stylianopoulou, “Carbohydrates: Regulation of metabolism,” in Encyclopedia of Human Nutrition (Fourth Edition), B. Caballero, Ed., Oxford: Academic Press, 2023, pp. 126–135. doi: 10.1016/B978-0-12-821848-8.00173-6.\n",
    "\n",
    "[17] L. He and G. J. Hannon, “MicroRNAs: small RNAs with a big role in gene regulation,” Nat Rev Genet, vol. 5, no. 7, Art. no. 7, Jul. 2004, doi: 10.1038/nrg1379.\n",
    "\n",
    "[18] D. Pradhan, A. Kumar, H. Singh, and U. Agrawal, “Chapter 4 - High-throughput sequencing,” in Data Processing Handbook for Complex Biological Data Sources, G. Misra, Ed., Academic Press, 2019, pp. 39–52. doi: 10.1016/B978-0-12-816548-5.00004-6.\n",
    "\n",
    "[19] B. Hanczar, F. Zehraoui, T. Issa, and M. Arles, “Biological interpretation of deep neural network for phenotype prediction based on gene expression,” BMC Bioinformatics, vol. 21, no. 1, p. 501, Nov. 2020, doi: 10.1186/s12859-020-03836-4.\n",
    "\n",
    "[20] A. L. Leitão and F. J. Enguita, “A Structural View of miRNA Biogenesis and Function,” Non-Coding RNA, vol. 8, no. 1, Art. no. 1, Feb. 2022, doi: 10.3390/ncrna8010010.\n",
    "\n",
    "[21] ‘Gene Expression | Learn Science at Scitable’. https://www.nature.com/scitable/topicpage/gene-expression-14121669/ (accessed May 07, 2023).\n",
    "\n",
    "[22] W. Guo, Y. Xu, and X. Feng, ‘DeepMetabolism: A Deep Learning System to Predict Phenotype from Genome Sequencing’. arXiv, May 08, 2017. doi: 10.48550/arXiv.1705.03094.\n",
    "\n",
    "[23] M. Wen, P. Cong, Z. Zhang, H. Lu, and T. Li, ‘DeepMirTar: a deep-learning approach for predicting human miRNA targets’, Bioinformatics, vol. 34, no. 22, pp. 3781–3787, Nov. 2018, doi: 10.1093/bioinformatics/bty424.\n",
    "\n",
    "[24] X. M. Xu and S. G. Møller, ‘The value of Arabidopsis research in understanding human disease states’, Curr Opin Biotechnol, vol. 22, no. 2, pp. 300–307, Apr. 2011, doi: 10.1016/j.copbio.2010.11.007.\n",
    "\n",
    "[25] G. P. Way and C. S. Greene, ‘Extracting a Biologically Relevant Latent Space from Cancer Transcriptomes with Variational Autoencoders’. bioRxiv, p. 174474, Aug. 11, 2017. doi: 10.1101/174474.\n",
    "\n",
    "[26] J. Rocca, ‘Understanding Variational Autoencoders (VAEs)’, Medium, Mar. 21, 2021. https://towardsdatascience.com/understanding-variational-autoencoders-vaes-f70510919f73 (accessed Jun. 07, 2023).\n",
    "\n",
    "[27] C. H. Grønbech, M. F. Vording, P. Timshel, C. K. Sønderby, T. H. Pers, and O. Winther, ‘scVAE: Variational auto-encoders for single-cell gene expression data’. bioRxiv, p. 318295, Oct. 02, 2019. doi: 10.1101/318295.\n",
    "\n",
    "[28] K. Y. Gao, A. Fokoue, H. Luo, A. Iyengar, S. Dey, and P. Zhang, ‘Interpretable Drug Target Prediction Using Deep Neural Representation’, in Proceedings of the Twenty-Seventh International Joint Conference on Artificial Intelligence, Stockholm, Sweden: International Joint Conferences on Artificial Intelligence Organization, Jul. 2018, pp. 3371–3377. doi: 10.24963/ijcai.2018/468.\n",
    "\n",
    "[29] ‘Arabidopsis thaliana (ID 4) - Genome - NCBI’. https://www.ncbi.nlm.nih.gov/genome/4?genome_assembly_id=380024 (accessed Jul. 02, 2023).\n",
    "\n",
    "[30] G. B. Or and I. Veksler-Lublinsky, ‘Comprehensive machine-learning-based analysis of microRNA-target interactions reveals variable transferability of interaction rules across species’. bioRxiv, p. 2021.03.28.437385, Mar. 29, 2021. doi: 10.1101/2021.03.28.437385.\n",
    "\n",
    "[31] ‘Arabidopsis thaliana (ID 4) - Genome - NCBI’. https://www.ncbi.nlm.nih.gov/genome/4?genome_assembly_id=380024 (accessed Jul. 02, 2023).\n",
    "\n",
    "[32] X. Chen, ‘Small RNAs – secrets and surprises of the genome’, Plant J, vol. 61, no. 6, pp. 941–958, Mar. 2010, doi: 10.1111/j.1365-313X.2009.04089.x.\n",
    "\n",
    "[33] S. Bandyopadhyay and R. Mitra, ‘TargetMiner: microRNA target prediction with systematic identification of tissue-specific negative examples’, Bioinformatics, vol. 25, no. 20, pp. 2625–2631, Oct. 2009, doi: 10.1093/bioinformatics/btp503.\n",
    "\n",
    "[34] ‘PmiREN: Plant microRNA Encyclopedia’. https://www.pmiren.com/download (accessed Aug. 04, 2023).\n",
    "\n",
    "[35] ‘refSeq Accession to Gene Symbol Converter - Genomics Biotools’. https://www.biotools.fr/mouse/refseq_symbol_converter (accessed Aug. 07, 2023).\n",
    "\n",
    "[36] ‘miRBase - Downloads’. https://mirbase.org/download/ (accessed Aug. 13, 2023).\n",
    "\n",
    "[37] ‘Genome’, NCBI. https://www.ncbi.nlm.nih.gov/datasets/genome/?taxon=9606 (accessed Aug. 13, 2023).\n",
    "\n",
    "[38] ‘11968211 - Assembly - NCBI’. https://www.ncbi.nlm.nih.gov/assembly/?term=GCF_000001405 (accessed Aug. 13, 2023).\n",
    "\n",
    "[39] B. Murcott, R. J. Pawluk, A. V. Protasio, R. Y. Akinmusola, D. Lastik, and V. L. Hunt, ‘stepRNA: Identification of Dicer cleavage signatures and passenger strand lengths in small RNA sequences’, Frontiers in Bioinformatics, vol. 2, 2022, Accessed: Aug. 18, 2023. [Online].\n",
    "\n",
    "[40] H.-Y. Huang et al., ‘miRTarBase update 2022: an informative resource for experimentally validated miRNA–target interactions’, Nucleic Acids Research, vol. 50, no. D1, pp. D222–D230, Jan. 2022, doi: 10.1093/nar/gkab1079.\n",
    "\n",
    "[41] ‘Bio.pairwise2 module — Biopython 1.75 documentation’. https://biopython.org/docs/1.75/api/Bio.pairwise2.html (accessed Aug. 29, 2023).\n",
    "\n",
    "[42] ‘miRBase’. https://www.mirbase.org/ftp.shtml (accessed May 08, 2023).\n",
    "\n",
    "[43] ‘TAIR - Home Page’. https://www.arabidopsis.org/index.jsp (accessed Sep. 07, 2023).\n",
    "\n",
    "[44] ‘Home - Nucleotide - NCBI’. https://www.ncbi.nlm.nih.gov/nuccore/ (accessed Sep. 20, 2023).\n",
    "\n",
    "[45] ‘Average gene length - Thale cress Arabidopsis thalia - BNID 105370’. https://bionumbers.hms.harvard.edu/bionumber.aspx?id=105370&ver=0 (accessed Sep. 22, 2023).\n",
    "\n",
    "[46] ‘Chapter 6. Deep learning for text and sequences · Deep Learning with Python’. https://livebook.manning.com/book/deep-learning-with-python/chapter-4/ (accessed Sep. 24, 2023).\n",
    "\n",
    "[47] ‘Chapter 4. Fundamentals of machine learning · Deep Learning with Python’. https://livebook.manning.com/book/deep-learning-with-python/chapter-4/ (accessed Sep. 24, 2023).\n",
    "\n",
    "[48] A. Rosebrock, ‘Keras: Multiple Inputs and Mixed Data’, PyImageSearch, Feb. 04, 2019. https://pyimagesearch.com/2019/02/04/keras-multiple-inputs-and-mixed-data/ (accessed Sep. 25, 2023).\n",
    "\n"
   ],
   "metadata": {
    "collapsed": false
   }
  },
  {
   "cell_type": "code",
   "execution_count": null,
   "outputs": [],
   "source": [
    "## TODO: Docstrings - Importante!"
   ],
   "metadata": {
    "collapsed": false
   }
  }
 ],
 "metadata": {
  "kernelspec": {
   "display_name": "Python 3",
   "language": "python",
   "name": "python3"
  },
  "language_info": {
   "codemirror_mode": {
    "name": "ipython",
    "version": 2
   },
   "file_extension": ".py",
   "mimetype": "text/x-python",
   "name": "python",
   "nbconvert_exporter": "python",
   "pygments_lexer": "ipython2",
   "version": "2.7.6"
  }
 },
 "nbformat": 4,
 "nbformat_minor": 0
}
