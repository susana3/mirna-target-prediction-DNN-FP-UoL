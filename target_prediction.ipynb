{
 "cells": [
  {
   "cell_type": "markdown",
   "source": [
    "# miRNA-mRNA target prediction\n"
   ],
   "metadata": {
    "collapsed": false
   }
  },
  {
   "cell_type": "markdown",
   "source": [
    "### 1. Problem definition\n",
    "\n",
    "This project aims to <b>predict if an input pair of sequences (miRNA and mRNA) will interact</b>; given that the molecules interact, they constitute a pair, whereas if they do not interact, they are defined as non-pair.\n",
    "\n",
    "Since the mechanisms underlying the targeting process can differ between organisms, this study is <b>focused on the A. thaliana organism</b>. This is a model organism, meaning that the results obtained can be extrapolated to other plants; furthermore, they can be used to understand human diseases due to the conservation of protein function, conservation of cellular processes, and the high percentage of genes shared between both species [31, 32].\n",
    "\n",
    "Considering the above, this problem can be shaped as a <b>binary classification problem</b>, where 0 means non-pair and 1 represents a pair.\n",
    "\n",
    "The data proposed to train a DNN able to distinguish between pair and non-pair RNA sequences consists of curated interactions that are publicly available and reported in the literature [14].\n",
    "\n",
    "Although such miRNA-mRNA interacting pairs can be used to train the network, they represent only positive examples that were tested experimentally either in vivo or in vitra. This implies that the <b>available datasets are unbalanced</b>, and denotes the need to incorporate negative data before proceeding."
   ],
   "metadata": {
    "collapsed": false
   }
  },
  {
   "cell_type": "markdown",
   "source": [
    "### 2. Dataset selection\n",
    "\n",
    "<b>Positive examples</b> of interactions were downloaded from MirTarBase [14]. This database was selected based on the following criteria.\n",
    "- A. thaliana miRNA/mRNA target interaction available.\n",
    "- Interactions are curated based on experimental evidence.\n",
    "- The database is continuously maintained and updated.\n",
    "- The data is publicly available.\n",
    "[14, 40]\n",
    "\n",
    "Validated <b>negative examples</b> are only available for H. sapiens. Using the available H. sapiens validated interactions [33], homologous sequences between A. thaliana and H. sapiens can be used to assemble a dataset."
   ],
   "metadata": {
    "collapsed": false
   }
  },
  {
   "cell_type": "markdown",
   "source": [
    "### 3. Success measures\n",
    "\n",
    "TODO\n"
   ],
   "metadata": {
    "collapsed": false
   }
  },
  {
   "cell_type": "markdown",
   "source": [
    "### 4. Evaluation protocols\n",
    "TODO\n"
   ],
   "metadata": {
    "collapsed": false
   }
  },
  {
   "cell_type": "markdown",
   "source": [
    "### 5. Data preparation\n",
    "In the context of this project, a negative example constitutes a pair of molecules (miRNA and mRNA) that do NOT interact. Given the lack of experimentally confirmed negative examples, the available datasets for target prediction are highly unbalanced, containing exclusively positive data (pairs that interact). To overcome this problem, a negative publicly available curated dataset for human (hsa) miRNA target prediction is proposed [33]. However, since this project proposal uses A. thaliana (ath) as organism to study, only the homologous and highly conserved genes across both organisms will be considered.\n",
    "\n",
    "The methodology and process of mapping those genes across organisms is presented in this section."
   ],
   "metadata": {
    "collapsed": false
   }
  },
  {
   "cell_type": "markdown",
   "source": [
    "#### 5.1. Negative dataset - Preprocessing\n",
    "\n",
    "For the preprocessing stage, the RefSeq IDs were converted into Gene symbol IDs using Genomics Biotools [35], then the invalid IDs and duplicates were removed from the dataset.\n"
   ],
   "metadata": {
    "collapsed": false
   }
  },
  {
   "cell_type": "markdown",
   "source": [
    "#### 5.2. Negative dataset - Methodology\n",
    "The methodology for preparing a negative dataset consists of:\n",
    "- Extracting the H. sapiens miRNA sequence.\n",
    "- Getting the H. sapiens target sequence.\n",
    "- Finding the homologous miRNA sequences in A. thaliana (pairwise alignment [41]).\n",
    "- Getting the homologous target sequence in A. thaliana (pairwise alignment [41]).\n",
    "\n",
    "Since it is not guaranteed that the interaction miRNA-mRNA results will hold given the presence of gaps in the alignments, the opening of a gap in the alignment should be penalized as well as its size or extension.\n",
    "\n",
    "Furthermore, given the nature of the proposed research problem, where mature miRNA sequences have a length of 17-22 nucleotides and pair with binding sites of the same length in targets [2, 4], finding the exact sequences in homologous genes is more valuable than an overall high similarity using global alignments. Considering the above, local alignments are used in this project.\n"
   ],
   "metadata": {
    "collapsed": false
   }
  },
  {
   "cell_type": "markdown",
   "source": [
    "#### 5.3. Negative dataset - Dataset generation\n",
    "##### 5.3.1. Sequence extraction\n",
    "To extract the miRNA sequences, a dataset containing all known mature miRNA sequences was downloaded from miRBase [36], whereas to locate the target sequences, the full H. sapiens genome was used [37, 38].\n",
    "\n",
    "Once the sequences are extracted, they are integrated with the negative dataset [33]."
   ],
   "metadata": {
    "collapsed": false
   }
  },
  {
   "cell_type": "code",
   "execution_count": 83,
   "outputs": [
    {
     "name": "stdout",
     "output_type": "stream",
     "text": [
      "Total hsa miRNAs: 2655\n",
      "Total ath miRNAs: 350\n"
     ]
    }
   ],
   "source": [
    "# Load the FASTA file containing all known miRNA sequences for all organisms.\n",
    "with open('data/mature_mirna_all_organisms.fa') as f:\n",
    "    mature_mirnas = f.read().split('>')[1:]\n",
    "    f.close()\n",
    "\n",
    "# Isolate H. sapiens (hsa) and A. thaliana (ath) sequences.\n",
    "hsa_mature_mirnas_dict = {mirna.split(' ')[0]: mirna.split('\\n')[1]\n",
    "                          for mirna in mature_mirnas\n",
    "                          if 'hsa-' in mirna}\n",
    "\n",
    "ath_mature_mirnas_dict = {mirna.split('\\n')[1]: mirna.split(' ')[0]\n",
    "                          for mirna in mature_mirnas\n",
    "                          if 'ath-' in mirna}\n",
    "\n",
    "print(f'Total hsa miRNAs: {len(hsa_mature_mirnas_dict)}')\n",
    "print(f'Total ath miRNAs: {len(ath_mature_mirnas_dict)}')\n"
   ],
   "metadata": {
    "collapsed": false,
    "ExecuteTime": {
     "end_time": "2023-08-29T14:33:04.952785Z",
     "start_time": "2023-08-29T14:33:04.856375Z"
    }
   }
  },
  {
   "cell_type": "markdown",
   "source": [
    "In order to extract the similar sequences in A. thaliana, all the miRNAs must be aligned between both organisms. This implies that 953145 local pairwise alignments will occur."
   ],
   "metadata": {
    "collapsed": false
   }
  },
  {
   "cell_type": "code",
   "execution_count": 3,
   "outputs": [],
   "source": [
    "# Load the list of miRNAs included in the negative dataset [33].\n",
    "with open('data/negative_pairs/hsa_mirnas.txt') as f:\n",
    "    hsa_negative_mirnas = f.read().split('\\n')\n",
    "    f.close()\n"
   ],
   "metadata": {
    "collapsed": false,
    "ExecuteTime": {
     "end_time": "2023-08-28T11:09:44.400255Z",
     "start_time": "2023-08-28T11:09:44.382757Z"
    }
   }
  },
  {
   "cell_type": "code",
   "execution_count": 4,
   "outputs": [],
   "source": [
    "# Match the negative dataset [1] miRNAs with the respective mature miRNA miRBase [3] sequence.\n",
    "hsa_negative_mirnas_seq = [hsa_mature_mirnas_dict[mirna]\n",
    "                           if mirna in hsa_mature_mirnas_dict.keys() else mirna\n",
    "                           for mirna in hsa_negative_mirnas]\n",
    "\n",
    "# Create a separate file holding only the sequences.\n",
    "with open('data/negative_pairs/hsa_mirnas_seq.txt', 'w') as f:\n",
    "    f.write('\\n'.join(hsa_negative_mirnas_seq))\n",
    "    f.close()\n"
   ],
   "metadata": {
    "collapsed": false,
    "ExecuteTime": {
     "end_time": "2023-08-28T11:10:03.544179Z",
     "start_time": "2023-08-28T11:10:03.489869Z"
    }
   }
  },
  {
   "cell_type": "code",
   "execution_count": 5,
   "outputs": [],
   "source": [
    "# Get the hsa target sequences from Human genome.\n",
    "with open('data/hsa/GCF_000001405.40_GRCh38.p14_rna.fna') as f:\n",
    "    hsa_genome = f.read().split('>')[1:]\n",
    "    f.close()\n",
    "\n",
    "hsa_genome_dict = {gene.split('\\n')[0].split('),')[0].split(' (')[-1]: ''.join(gene.split('\\n')[1:])\n",
    "                   for gene in hsa_genome}\n"
   ],
   "metadata": {
    "collapsed": false,
    "ExecuteTime": {
     "end_time": "2023-08-28T11:10:24.800381Z",
     "start_time": "2023-08-28T11:10:17.623545Z"
    }
   }
  },
  {
   "cell_type": "code",
   "execution_count": 6,
   "outputs": [],
   "source": [
    "# Get the list of hsa target genes included in the negative dataset.\n",
    "with open('data/negative_pairs/hsa_targets.txt') as f:\n",
    "    hsa_negative_targets = f.read().split('\\n')\n",
    "    f.close()\n"
   ],
   "metadata": {
    "collapsed": false,
    "ExecuteTime": {
     "end_time": "2023-08-28T11:10:29.134472Z",
     "start_time": "2023-08-28T11:10:29.119138Z"
    }
   }
  },
  {
   "cell_type": "code",
   "execution_count": 7,
   "outputs": [],
   "source": [
    "# Match the negative hsa target names with the respective sequence from the hsa genome [37, 38].\n",
    "hsa_negative_targets_seq = [hsa_genome_dict[target] if target in hsa_genome_dict.keys() else '-'\n",
    "                            for target in hsa_negative_targets]\n",
    "\n",
    "# Create a separate file holding only the target sequences.\n",
    "with open('data/negative_pairs/hsa_targets_seq.txt', 'w') as f:\n",
    "    f.write('\\n'.join(hsa_negative_targets_seq))\n",
    "    f.close()\n"
   ],
   "metadata": {
    "collapsed": false,
    "ExecuteTime": {
     "end_time": "2023-08-28T11:11:25.921180Z",
     "start_time": "2023-08-28T11:11:25.892188Z"
    }
   }
  },
  {
   "cell_type": "markdown",
   "source": [
    "##### 5.3.2. Sequence matching - Homology search and pairwise alignment in A. thaliana\n",
    "To create the negative dataset for A. thaliana organism, homologous sequences to those appearing in the H. sapiens dataset [33] will be considered. Potential target mRNA sequences from A. thaliana are extracted from the last released genome [29], and the respective mature miRNA sequences are downloaded from miRBase database [36].\n",
    "\n",
    "To compare the similarity between sequences, pairwise nucleotide local alignment is executed with gap penalty [41], and only sequences with final score >= 70% are stored in the new dataset. Since the gaps and mismatches are more important in miRNA comparisons, the penalties for gap opening and extension used for miRNA alignments are greater than those used for target comparisons.\n"
   ],
   "metadata": {
    "collapsed": false
   }
  },
  {
   "cell_type": "code",
   "execution_count": 39,
   "outputs": [],
   "source": [
    "import warnings\n",
    "warnings.filterwarnings('ignore')\n",
    "## TODO remove cell\n"
   ],
   "metadata": {
    "collapsed": false,
    "ExecuteTime": {
     "end_time": "2023-08-29T10:49:37.096293Z",
     "start_time": "2023-08-29T10:49:37.049196Z"
    }
   }
  },
  {
   "cell_type": "code",
   "execution_count": 85,
   "outputs": [
    {
     "name": "stderr",
     "output_type": "stream",
     "text": [
      "  2%|▏         | 66/2655 [00:01<00:49, 51.92it/s]"
     ]
    },
    {
     "name": "stdout",
     "output_type": "stream",
     "text": [
      "------------------------------------\n",
      "Score: 72.85714285714286%\n",
      "\thsa mirna: hsa-miR-32\n",
      "\thsa mirna nt length: 22\n",
      "\n",
      "\tath mirna: ath-miR841b\n",
      "\tath mirna nt length: 21\n",
      "\n"
     ]
    },
    {
     "name": "stderr",
     "output_type": "stream",
     "text": [
      "  3%|▎         | 83/2655 [00:01<00:52, 49.04it/s]"
     ]
    },
    {
     "name": "stdout",
     "output_type": "stream",
     "text": [
      "------------------------------------\n",
      "Score: 72.85714285714286%\n",
      "\thsa mirna: hsa-miR-101\n",
      "\thsa mirna nt length: 21\n",
      "\n",
      "\tath mirna: ath-miR841a-5p\n",
      "\tath mirna nt length: 21\n",
      "\n",
      "------------------------------------\n",
      "Score: 72.85714285714286%\n",
      "\thsa mirna: hsa-miR-101\n",
      "\thsa mirna nt length: 21\n",
      "\n",
      "\tath mirna: ath-miR841b-5p\n",
      "\tath mirna nt length: 21\n",
      "\n"
     ]
    },
    {
     "name": "stderr",
     "output_type": "stream",
     "text": [
      "  6%|▌         | 161/2655 [00:03<00:43, 57.04it/s]"
     ]
    },
    {
     "name": "stdout",
     "output_type": "stream",
     "text": [
      "------------------------------------\n",
      "Score: 71.90476190476191%\n",
      "\thsa mirna: hsa-miR-218-5p\n",
      "\thsa mirna nt length: 21\n",
      "\n",
      "\tath mirna: ath-miR403-5p\n",
      "\tath mirna nt length: 22\n",
      "\n"
     ]
    },
    {
     "name": "stderr",
     "output_type": "stream",
     "text": [
      " 12%|█▏        | 312/2655 [00:05<00:43, 54.39it/s]"
     ]
    },
    {
     "name": "stdout",
     "output_type": "stream",
     "text": [
      "------------------------------------\n",
      "Score: 75.0%\n",
      "\thsa mirna: hsa-miR-362\n",
      "\thsa mirna nt length: 22\n",
      "\n",
      "\tath mirna: ath-miR172e-5p\n",
      "\tath mirna nt length: 20\n",
      "\n"
     ]
    },
    {
     "name": "stderr",
     "output_type": "stream",
     "text": [
      " 17%|█▋        | 444/2655 [00:08<00:40, 55.13it/s]"
     ]
    },
    {
     "name": "stdout",
     "output_type": "stream",
     "text": [
      "------------------------------------\n",
      "Score: 70.47619047619048%\n",
      "\thsa mirna: hsa-miR-146b-5p\n",
      "\thsa mirna nt length: 23\n",
      "\n",
      "\tath mirna: ath-miR5663\n",
      "\tath mirna nt length: 21\n",
      "\n",
      "------------------------------------\n",
      "Score: 70.47619047619048%\n",
      "\thsa mirna: hsa-miR-202-5p\n",
      "\thsa mirna nt length: 22\n",
      "\n",
      "\tath mirna: ath-miR835-5p\n",
      "\tath mirna nt length: 21\n",
      "\n",
      "------------------------------------\n",
      "Score: 70.0%\n",
      "\thsa mirna: hsa-miR-495\n",
      "\thsa mirna nt length: 22\n",
      "\n",
      "\tath mirna: ath-miR782\n",
      "\tath mirna nt length: 21\n",
      "\n"
     ]
    },
    {
     "name": "stderr",
     "output_type": "stream",
     "text": [
      " 22%|██▏       | 583/2655 [00:10<00:35, 58.77it/s]"
     ]
    },
    {
     "name": "stdout",
     "output_type": "stream",
     "text": [
      "------------------------------------\n",
      "Score: 75.26315789473685%\n",
      "\thsa mirna: hsa-miR-558\n",
      "\thsa mirna nt length: 19\n",
      "\n",
      "\tath mirna: ath-miR829.1\n",
      "\tath mirna nt length: 24\n",
      "\n"
     ]
    },
    {
     "name": "stderr",
     "output_type": "stream",
     "text": [
      " 22%|██▏       | 595/2655 [00:10<00:36, 56.47it/s]"
     ]
    },
    {
     "name": "stdout",
     "output_type": "stream",
     "text": [
      "------------------------------------\n",
      "Score: 73.80952380952381%\n",
      "\thsa mirna: hsa-miR-573\n",
      "\thsa mirna nt length: 24\n",
      "\n",
      "\tath mirna: ath-miR418\n",
      "\tath mirna nt length: 21\n",
      "\n",
      "------------------------------------\n",
      "Score: 70.47619047619048%\n",
      "\thsa mirna: hsa-miR-580\n",
      "\thsa mirna nt length: 22\n",
      "\n",
      "\tath mirna: ath-miR5663\n",
      "\tath mirna nt length: 21\n",
      "\n"
     ]
    },
    {
     "name": "stderr",
     "output_type": "stream",
     "text": [
      " 25%|██▌       | 669/2655 [00:12<00:35, 56.57it/s]"
     ]
    },
    {
     "name": "stdout",
     "output_type": "stream",
     "text": [
      "------------------------------------\n",
      "Score: 75.0%\n",
      "\thsa mirna: hsa-miR-620\n",
      "\thsa mirna nt length: 20\n",
      "\n",
      "\tath mirna: ath-miR5641\n",
      "\tath mirna nt length: 21\n",
      "\n",
      "------------------------------------\n",
      "Score: 71.50000000000001%\n",
      "\thsa mirna: hsa-miR-620\n",
      "\thsa mirna nt length: 20\n",
      "\n",
      "\tath mirna: ath-miR5658\n",
      "\tath mirna nt length: 21\n",
      "\n"
     ]
    },
    {
     "name": "stderr",
     "output_type": "stream",
     "text": [
      " 26%|██▌       | 693/2655 [00:12<00:34, 56.35it/s]"
     ]
    },
    {
     "name": "stdout",
     "output_type": "stream",
     "text": [
      "------------------------------------\n",
      "Score: 72.17391304347827%\n",
      "\thsa mirna: hsa-miR-639\n",
      "\thsa mirna nt length: 23\n",
      "\n",
      "\tath mirna: ath-miR404\n",
      "\tath mirna nt length: 24\n",
      "\n",
      "------------------------------------\n",
      "Score: 78.57142857142857%\n",
      "\thsa mirna: hsa-miR-642a\n",
      "\thsa mirna nt length: 22\n",
      "\n",
      "\tath mirna: ath-miR824-5p\n",
      "\tath mirna nt length: 21\n",
      "\n"
     ]
    },
    {
     "name": "stderr",
     "output_type": "stream",
     "text": [
      " 28%|██▊       | 753/2655 [00:13<00:33, 56.36it/s]"
     ]
    },
    {
     "name": "stdout",
     "output_type": "stream",
     "text": [
      "------------------------------------\n",
      "Score: 71.50000000000001%\n",
      "\thsa mirna: hsa-miR-320c\n",
      "\thsa mirna nt length: 20\n",
      "\n",
      "\tath mirna: ath-miR2937\n",
      "\tath mirna nt length: 21\n",
      "\n",
      "------------------------------------\n",
      "Score: 70.9090909090909%\n",
      "\thsa mirna: hsa-miR-1468\n",
      "\thsa mirna nt length: 22\n",
      "\n",
      "\tath mirna: ath-miR855\n",
      "\tath mirna nt length: 22\n",
      "\n"
     ]
    },
    {
     "name": "stderr",
     "output_type": "stream",
     "text": [
      " 30%|██▉       | 795/2655 [00:14<00:32, 56.98it/s]"
     ]
    },
    {
     "name": "stdout",
     "output_type": "stream",
     "text": [
      "------------------------------------\n",
      "Score: 71.90476190476191%\n",
      "\thsa mirna: hsa-miR-892a\n",
      "\thsa mirna nt length: 21\n",
      "\n",
      "\tath mirna: ath-miR836\n",
      "\tath mirna nt length: 24\n",
      "\n",
      "------------------------------------\n",
      "Score: 71.81818181818183%\n",
      "\thsa mirna: hsa-miR-892b\n",
      "\thsa mirna nt length: 22\n",
      "\n",
      "\tath mirna: ath-miR156a\n",
      "\tath mirna nt length: 22\n",
      "\n",
      "------------------------------------\n",
      "Score: 72.85714285714286%\n",
      "\thsa mirna: hsa-miR-541\n",
      "\thsa mirna nt length: 22\n",
      "\n",
      "\tath mirna: ath-miR5665\n",
      "\tath mirna nt length: 21\n",
      "\n"
     ]
    },
    {
     "name": "stderr",
     "output_type": "stream",
     "text": [
      " 32%|███▏      | 843/2655 [00:15<00:33, 54.14it/s]"
     ]
    },
    {
     "name": "stdout",
     "output_type": "stream",
     "text": [
      "------------------------------------\n",
      "Score: 72.5%\n",
      "\thsa mirna: hsa-miR-924\n",
      "\thsa mirna nt length: 20\n",
      "\n",
      "\tath mirna: ath-miR172b\n",
      "\tath mirna nt length: 21\n",
      "\n",
      "------------------------------------\n",
      "Score: 72.5%\n",
      "\thsa mirna: hsa-miR-924\n",
      "\thsa mirna nt length: 20\n",
      "\n",
      "\tath mirna: ath-miR172d\n",
      "\tath mirna nt length: 21\n",
      "\n"
     ]
    },
    {
     "name": "stderr",
     "output_type": "stream",
     "text": [
      " 32%|███▏      | 861/2655 [00:15<00:35, 50.57it/s]"
     ]
    },
    {
     "name": "stdout",
     "output_type": "stream",
     "text": [
      "------------------------------------\n",
      "Score: 73.88888888888889%\n",
      "\thsa mirna: hsa-miR-1178-5p\n",
      "\thsa mirna nt length: 18\n",
      "\n",
      "\tath mirna: ath-miR408-5p\n",
      "\tath mirna nt length: 21\n",
      "\n",
      "------------------------------------\n",
      "Score: 71.9047619047619%\n",
      "\thsa mirna: hsa-miR-1183\n",
      "\thsa mirna nt length: 27\n",
      "\n",
      "\tath mirna: ath-miR8173\n",
      "\tath mirna nt length: 21\n",
      "\n",
      "------------------------------------\n",
      "Score: 70.0%\n",
      "\thsa mirna: hsa-miR-1227-5p\n",
      "\thsa mirna nt length: 17\n",
      "\n",
      "\tath mirna: ath-miR834\n",
      "\tath mirna nt length: 21\n",
      "\n"
     ]
    },
    {
     "name": "stderr",
     "output_type": "stream",
     "text": [
      " 33%|███▎      | 879/2655 [00:16<00:35, 49.68it/s]"
     ]
    },
    {
     "name": "stdout",
     "output_type": "stream",
     "text": [
      "------------------------------------\n",
      "Score: 75.23809523809524%\n",
      "\thsa mirna: hsa-miR-1233-5p\n",
      "\thsa mirna nt length: 22\n",
      "\n",
      "\tath mirna: ath-miR164b-5p\n",
      "\tath mirna nt length: 21\n",
      "\n",
      "------------------------------------\n",
      "Score: 70.47619047619048%\n",
      "\thsa mirna: hsa-miR-1233-5p\n",
      "\thsa mirna nt length: 22\n",
      "\n",
      "\tath mirna: ath-miR164c-5p\n",
      "\tath mirna nt length: 21\n",
      "\n"
     ]
    },
    {
     "name": "stderr",
     "output_type": "stream",
     "text": [
      " 34%|███▍      | 907/2655 [00:16<00:42, 41.30it/s]"
     ]
    },
    {
     "name": "stdout",
     "output_type": "stream",
     "text": [
      "------------------------------------\n",
      "Score: 71.05263157894737%\n",
      "\thsa mirna: hsa-miR-1290\n",
      "\thsa mirna nt length: 19\n",
      "\n",
      "\tath mirna: ath-miR165a-5p\n",
      "\tath mirna nt length: 21\n",
      "\n",
      "------------------------------------\n",
      "Score: 72.94117647058825%\n",
      "\thsa mirna: hsa-miR-1297\n",
      "\thsa mirna nt length: 17\n",
      "\n",
      "\tath mirna: ath-miR8178\n",
      "\tath mirna nt length: 21\n",
      "\n"
     ]
    },
    {
     "name": "stderr",
     "output_type": "stream",
     "text": [
      " 36%|███▌      | 961/2655 [00:17<00:31, 53.40it/s]"
     ]
    },
    {
     "name": "stdout",
     "output_type": "stream",
     "text": [
      "------------------------------------\n",
      "Score: 71.42857142857144%\n",
      "\thsa mirna: hsa-miR-1272\n",
      "\thsa mirna nt length: 26\n",
      "\n",
      "\tath mirna: ath-miR5658\n",
      "\tath mirna nt length: 21\n",
      "\n",
      "------------------------------------\n",
      "Score: 72.94117647058825%\n",
      "\thsa mirna: hsa-miR-302e\n",
      "\thsa mirna nt length: 17\n",
      "\n",
      "\tath mirna: ath-miR167c-5p\n",
      "\tath mirna nt length: 21\n",
      "\n",
      "------------------------------------\n",
      "Score: 70.00000000000001%\n",
      "\thsa mirna: hsa-miR-302e\n",
      "\thsa mirna nt length: 17\n",
      "\n",
      "\tath mirna: ath-miR844-5p\n",
      "\tath mirna nt length: 21\n",
      "\n",
      "------------------------------------\n",
      "Score: 72.3529411764706%\n",
      "\thsa mirna: hsa-miR-302f\n",
      "\thsa mirna nt length: 17\n",
      "\n",
      "\tath mirna: ath-miR773a\n",
      "\tath mirna nt length: 21\n",
      "\n",
      "------------------------------------\n",
      "Score: 71.1764705882353%\n",
      "\thsa mirna: hsa-miR-302f\n",
      "\thsa mirna nt length: 17\n",
      "\n",
      "\tath mirna: ath-miR2111b-5p\n",
      "\tath mirna nt length: 21\n",
      "\n"
     ]
    },
    {
     "name": "stderr",
     "output_type": "stream",
     "text": [
      " 37%|███▋      | 985/2655 [00:18<00:32, 50.86it/s]"
     ]
    },
    {
     "name": "stdout",
     "output_type": "stream",
     "text": [
      "------------------------------------\n",
      "Score: 75.0%\n",
      "\thsa mirna: hsa-miR-1306\n",
      "\thsa mirna nt length: 18\n",
      "\n",
      "\tath mirna: ath-miR5638b\n",
      "\tath mirna nt length: 21\n",
      "\n"
     ]
    },
    {
     "name": "stderr",
     "output_type": "stream",
     "text": [
      " 38%|███▊      | 1003/2655 [00:18<00:33, 49.78it/s]"
     ]
    },
    {
     "name": "stdout",
     "output_type": "stream",
     "text": [
      "------------------------------------\n",
      "Score: 72.63157894736842%\n",
      "\thsa mirna: hsa-miR-320d\n",
      "\thsa mirna nt length: 19\n",
      "\n",
      "\tath mirna: ath-miR2937\n",
      "\tath mirna nt length: 21\n",
      "\n",
      "------------------------------------\n",
      "Score: 72.22222222222221%\n",
      "\thsa mirna: hsa-miR-1827\n",
      "\thsa mirna nt length: 18\n",
      "\n",
      "\tath mirna: ath-miR1886.1\n",
      "\tath mirna nt length: 21\n",
      "\n"
     ]
    },
    {
     "name": "stderr",
     "output_type": "stream",
     "text": [
      " 40%|███▉      | 1051/2655 [00:19<00:28, 56.33it/s]"
     ]
    },
    {
     "name": "stdout",
     "output_type": "stream",
     "text": [
      "------------------------------------\n",
      "Score: 70.5%\n",
      "\thsa mirna: hsa-miR-3115\n",
      "\thsa mirna nt length: 20\n",
      "\n",
      "\tath mirna: ath-miR5028\n",
      "\tath mirna nt length: 21\n",
      "\n"
     ]
    },
    {
     "name": "stderr",
     "output_type": "stream",
     "text": [
      " 42%|████▏     | 1105/2655 [00:20<00:28, 54.45it/s]"
     ]
    },
    {
     "name": "stdout",
     "output_type": "stream",
     "text": [
      "------------------------------------\n",
      "Score: 73.33333333333334%\n",
      "\thsa mirna: hsa-miR-3149\n",
      "\thsa mirna nt length: 23\n",
      "\n",
      "\tath mirna: ath-miR857\n",
      "\tath mirna nt length: 21\n",
      "\n"
     ]
    },
    {
     "name": "stderr",
     "output_type": "stream",
     "text": [
      " 42%|████▏     | 1123/2655 [00:21<00:28, 53.01it/s]"
     ]
    },
    {
     "name": "stdout",
     "output_type": "stream",
     "text": [
      "------------------------------------\n",
      "Score: 70.0%\n",
      "\thsa mirna: hsa-miR-3160-5p\n",
      "\thsa mirna nt length: 22\n",
      "\n",
      "\tath mirna: ath-miR394b-5p\n",
      "\tath mirna nt length: 20\n",
      "\n"
     ]
    },
    {
     "name": "stderr",
     "output_type": "stream",
     "text": [
      " 43%|████▎     | 1147/2655 [00:21<00:27, 54.06it/s]"
     ]
    },
    {
     "name": "stdout",
     "output_type": "stream",
     "text": [
      "------------------------------------\n",
      "Score: 71.1764705882353%\n",
      "\thsa mirna: hsa-miR-3178\n",
      "\thsa mirna nt length: 17\n",
      "\n",
      "\tath mirna: ath-miR162b-5p\n",
      "\tath mirna nt length: 22\n",
      "\n",
      "------------------------------------\n",
      "Score: 71.1764705882353%\n",
      "\thsa mirna: hsa-miR-3182\n",
      "\thsa mirna nt length: 17\n",
      "\n",
      "\tath mirna: ath-miR859\n",
      "\tath mirna nt length: 21\n",
      "\n"
     ]
    },
    {
     "name": "stderr",
     "output_type": "stream",
     "text": [
      " 45%|████▌     | 1201/2655 [00:22<00:26, 54.39it/s]"
     ]
    },
    {
     "name": "stdout",
     "output_type": "stream",
     "text": [
      "------------------------------------\n",
      "Score: 70.5%\n",
      "\thsa mirna: hsa-miR-4298\n",
      "\thsa mirna nt length: 22\n",
      "\n",
      "\tath mirna: ath-miR156i\n",
      "\tath mirna nt length: 20\n",
      "\n",
      "------------------------------------\n",
      "Score: 70.0%\n",
      "\thsa mirna: hsa-miR-4306\n",
      "\thsa mirna nt length: 17\n",
      "\n",
      "\tath mirna: ath-miR164b-5p\n",
      "\tath mirna nt length: 21\n",
      "\n",
      "------------------------------------\n",
      "Score: 73.75%\n",
      "\thsa mirna: hsa-miR-4310\n",
      "\thsa mirna nt length: 16\n",
      "\n",
      "\tath mirna: ath-miR166g\n",
      "\tath mirna nt length: 21\n",
      "\n",
      "------------------------------------\n",
      "Score: 70.625%\n",
      "\thsa mirna: hsa-miR-4310\n",
      "\thsa mirna nt length: 16\n",
      "\n",
      "\tath mirna: ath-miR394b-5p\n",
      "\tath mirna nt length: 20\n",
      "\n"
     ]
    },
    {
     "name": "stderr",
     "output_type": "stream",
     "text": [
      " 46%|████▌     | 1219/2655 [00:22<00:27, 52.94it/s]"
     ]
    },
    {
     "name": "stdout",
     "output_type": "stream",
     "text": [
      "------------------------------------\n",
      "Score: 74.11764705882354%\n",
      "\thsa mirna: hsa-miR-4319\n",
      "\thsa mirna nt length: 17\n",
      "\n",
      "\tath mirna: ath-miR158a\n",
      "\tath mirna nt length: 20\n",
      "\n"
     ]
    },
    {
     "name": "stderr",
     "output_type": "stream",
     "text": [
      " 46%|████▋     | 1231/2655 [00:23<00:28, 49.41it/s]"
     ]
    },
    {
     "name": "stdout",
     "output_type": "stream",
     "text": [
      "------------------------------------\n",
      "Score: 70.00000000000001%\n",
      "\thsa mirna: hsa-miR-4251\n",
      "\thsa mirna nt length: 17\n",
      "\n",
      "\tath mirna: ath-miR861-5p\n",
      "\tath mirna nt length: 21\n",
      "\n",
      "------------------------------------\n",
      "Score: 71.17647058823529%\n",
      "\thsa mirna: hsa-miR-4255\n",
      "\thsa mirna nt length: 17\n",
      "\n",
      "\tath mirna: ath-miR5660\n",
      "\tath mirna nt length: 21\n",
      "\n"
     ]
    },
    {
     "name": "stderr",
     "output_type": "stream",
     "text": [
      " 48%|████▊     | 1267/2655 [00:23<00:25, 54.98it/s]"
     ]
    },
    {
     "name": "stdout",
     "output_type": "stream",
     "text": [
      "------------------------------------\n",
      "Score: 80.0%\n",
      "\thsa mirna: hsa-miR-4288\n",
      "\thsa mirna nt length: 17\n",
      "\n",
      "\tath mirna: ath-miR167c\n",
      "\tath mirna nt length: 23\n",
      "\n",
      "------------------------------------\n",
      "Score: 71.17647058823529%\n",
      "\thsa mirna: hsa-miR-4288\n",
      "\thsa mirna nt length: 17\n",
      "\n",
      "\tath mirna: ath-miR5012\n",
      "\tath mirna nt length: 21\n",
      "\n",
      "------------------------------------\n",
      "Score: 71.11111111111111%\n",
      "\thsa mirna: hsa-miR-500b-5p\n",
      "\thsa mirna nt length: 18\n",
      "\n",
      "\tath mirna: ath-miR2111b-5p\n",
      "\tath mirna nt length: 21\n",
      "\n"
     ]
    },
    {
     "name": "stderr",
     "output_type": "stream",
     "text": [
      " 48%|████▊     | 1285/2655 [00:24<00:25, 54.12it/s]"
     ]
    },
    {
     "name": "stdout",
     "output_type": "stream",
     "text": [
      "------------------------------------\n",
      "Score: 71.90476190476191%\n",
      "\thsa mirna: hsa-miR-3614-5p\n",
      "\thsa mirna nt length: 23\n",
      "\n",
      "\tath mirna: ath-miR319b\n",
      "\tath mirna nt length: 21\n",
      "\n"
     ]
    },
    {
     "name": "stderr",
     "output_type": "stream",
     "text": [
      " 49%|████▉     | 1309/2655 [00:24<00:25, 53.50it/s]"
     ]
    },
    {
     "name": "stdout",
     "output_type": "stream",
     "text": [
      "------------------------------------\n",
      "Score: 72.63157894736842%\n",
      "\thsa mirna: hsa-miR-3649\n",
      "\thsa mirna nt length: 19\n",
      "\n",
      "\tath mirna: ath-miR8168\n",
      "\tath mirna nt length: 21\n",
      "\n",
      "------------------------------------\n",
      "Score: 71.42857142857143%\n",
      "\thsa mirna: hsa-miR-3662\n",
      "\thsa mirna nt length: 24\n",
      "\n",
      "\tath mirna: ath-miR5658\n",
      "\tath mirna nt length: 21\n",
      "\n"
     ]
    },
    {
     "name": "stderr",
     "output_type": "stream",
     "text": [
      " 50%|█████     | 1339/2655 [00:25<00:24, 53.32it/s]"
     ]
    },
    {
     "name": "stdout",
     "output_type": "stream",
     "text": [
      "------------------------------------\n",
      "Score: 70.0%\n",
      "\thsa mirna: hsa-miR-3679-5p\n",
      "\thsa mirna nt length: 23\n",
      "\n",
      "\tath mirna: ath-miR854e\n",
      "\tath mirna nt length: 21\n",
      "\n"
     ]
    },
    {
     "name": "stderr",
     "output_type": "stream",
     "text": [
      " 53%|█████▎    | 1417/2655 [00:26<00:22, 55.50it/s]"
     ]
    },
    {
     "name": "stdout",
     "output_type": "stream",
     "text": [
      "------------------------------------\n",
      "Score: 78.57142857142857%\n",
      "\thsa mirna: hsa-miR-642b\n",
      "\thsa mirna nt length: 22\n",
      "\n",
      "\tath mirna: ath-miR824-5p\n",
      "\tath mirna nt length: 21\n",
      "\n"
     ]
    },
    {
     "name": "stderr",
     "output_type": "stream",
     "text": [
      " 54%|█████▍    | 1435/2655 [00:27<00:21, 55.90it/s]"
     ]
    },
    {
     "name": "stdout",
     "output_type": "stream",
     "text": [
      "------------------------------------\n",
      "Score: 70.58823529411767%\n",
      "\thsa mirna: hsa-miR-4426\n",
      "\thsa mirna nt length: 17\n",
      "\n",
      "\tath mirna: ath-miR163\n",
      "\tath mirna nt length: 24\n",
      "\n",
      "------------------------------------\n",
      "Score: 76.19047619047619%\n",
      "\thsa mirna: hsa-miR-4427\n",
      "\thsa mirna nt length: 21\n",
      "\n",
      "\tath mirna: ath-miR1887\n",
      "\tath mirna nt length: 21\n",
      "\n",
      "------------------------------------\n",
      "Score: 70.0%\n",
      "\thsa mirna: hsa-miR-548ad-5p\n",
      "\thsa mirna nt length: 20\n",
      "\n",
      "\tath mirna: ath-miR8121\n",
      "\tath mirna nt length: 24\n",
      "\n",
      "------------------------------------\n",
      "Score: 70.0%\n",
      "\thsa mirna: hsa-miR-4434\n",
      "\thsa mirna nt length: 18\n",
      "\n",
      "\tath mirna: ath-miR835\n",
      "\tath mirna nt length: 21\n",
      "\n"
     ]
    },
    {
     "name": "stderr",
     "output_type": "stream",
     "text": [
      " 55%|█████▍    | 1453/2655 [00:27<00:22, 52.38it/s]"
     ]
    },
    {
     "name": "stdout",
     "output_type": "stream",
     "text": [
      "------------------------------------\n",
      "Score: 70.0%\n",
      "\thsa mirna: hsa-miR-548ae-5p\n",
      "\thsa mirna nt length: 20\n",
      "\n",
      "\tath mirna: ath-miR8121\n",
      "\tath mirna nt length: 24\n",
      "\n"
     ]
    },
    {
     "name": "stderr",
     "output_type": "stream",
     "text": [
      " 56%|█████▌    | 1476/2655 [00:28<00:26, 45.08it/s]"
     ]
    },
    {
     "name": "stdout",
     "output_type": "stream",
     "text": [
      "------------------------------------\n",
      "Score: 72.3529411764706%\n",
      "\thsa mirna: hsa-miR-4455\n",
      "\thsa mirna nt length: 17\n",
      "\n",
      "\tath mirna: ath-miR8177\n",
      "\tath mirna nt length: 22\n",
      "\n",
      "------------------------------------\n",
      "Score: 70.0%\n",
      "\thsa mirna: hsa-miR-4456\n",
      "\thsa mirna nt length: 17\n",
      "\n",
      "\tath mirna: ath-miR836\n",
      "\tath mirna nt length: 24\n",
      "\n"
     ]
    },
    {
     "name": "stderr",
     "output_type": "stream",
     "text": [
      " 56%|█████▌    | 1488/2655 [00:28<00:24, 48.31it/s]"
     ]
    },
    {
     "name": "stdout",
     "output_type": "stream",
     "text": [
      "------------------------------------\n",
      "Score: 72.22222222222221%\n",
      "\thsa mirna: hsa-miR-4468\n",
      "\thsa mirna nt length: 18\n",
      "\n",
      "\tath mirna: ath-miR156f-5p\n",
      "\tath mirna nt length: 20\n",
      "\n",
      "------------------------------------\n",
      "Score: 72.22222222222221%\n",
      "\thsa mirna: hsa-miR-4468\n",
      "\thsa mirna nt length: 18\n",
      "\n",
      "\tath mirna: ath-miR156g\n",
      "\tath mirna nt length: 20\n",
      "\n",
      "------------------------------------\n",
      "Score: 71.11111111111111%\n",
      "\thsa mirna: hsa-miR-4468\n",
      "\thsa mirna nt length: 18\n",
      "\n",
      "\tath mirna: ath-miR1886.1\n",
      "\tath mirna nt length: 21\n",
      "\n",
      "------------------------------------\n",
      "Score: 73.88888888888889%\n",
      "\thsa mirna: hsa-miR-4468\n",
      "\thsa mirna nt length: 18\n",
      "\n",
      "\tath mirna: ath-miR5640\n",
      "\tath mirna nt length: 21\n",
      "\n"
     ]
    },
    {
     "name": "stderr",
     "output_type": "stream",
     "text": [
      " 57%|█████▋    | 1518/2655 [00:28<00:21, 53.33it/s]"
     ]
    },
    {
     "name": "stdout",
     "output_type": "stream",
     "text": [
      "------------------------------------\n",
      "Score: 71.1764705882353%\n",
      "\thsa mirna: hsa-miR-4483\n",
      "\thsa mirna nt length: 17\n",
      "\n",
      "\tath mirna: ath-miR5653\n",
      "\tath mirna nt length: 24\n",
      "\n"
     ]
    },
    {
     "name": "stderr",
     "output_type": "stream",
     "text": [
      " 58%|█████▊    | 1536/2655 [00:29<00:20, 54.08it/s]"
     ]
    },
    {
     "name": "stdout",
     "output_type": "stream",
     "text": [
      "------------------------------------\n",
      "Score: 72.3529411764706%\n",
      "\thsa mirna: hsa-miR-4500\n",
      "\thsa mirna nt length: 17\n",
      "\n",
      "\tath mirna: ath-miR8166\n",
      "\tath mirna nt length: 22\n",
      "\n",
      "------------------------------------\n",
      "Score: 71.42857142857143%\n",
      "\thsa mirna: hsa-miR-4502\n",
      "\thsa mirna nt length: 22\n",
      "\n",
      "\tath mirna: ath-miR5658\n",
      "\tath mirna nt length: 21\n",
      "\n",
      "------------------------------------\n",
      "Score: 70.0%\n",
      "\thsa mirna: hsa-miR-4504\n",
      "\thsa mirna nt length: 22\n",
      "\n",
      "\tath mirna: ath-miR156i\n",
      "\tath mirna nt length: 20\n",
      "\n"
     ]
    },
    {
     "name": "stderr",
     "output_type": "stream",
     "text": [
      " 61%|██████    | 1613/2655 [00:30<00:18, 55.38it/s]"
     ]
    },
    {
     "name": "stdout",
     "output_type": "stream",
     "text": [
      "------------------------------------\n",
      "Score: 75.0%\n",
      "\thsa mirna: hsa-miR-4644\n",
      "\thsa mirna nt length: 23\n",
      "\n",
      "\tath mirna: ath-miR5021\n",
      "\tath mirna nt length: 20\n",
      "\n"
     ]
    },
    {
     "name": "stderr",
     "output_type": "stream",
     "text": [
      " 65%|██████▍   | 1721/2655 [00:32<00:16, 55.40it/s]"
     ]
    },
    {
     "name": "stdout",
     "output_type": "stream",
     "text": [
      "------------------------------------\n",
      "Score: 71.66666666666666%\n",
      "\thsa mirna: hsa-miR-4711\n",
      "\thsa mirna nt length: 18\n",
      "\n",
      "\tath mirna: ath-miR8182\n",
      "\tath mirna nt length: 22\n",
      "\n"
     ]
    },
    {
     "name": "stderr",
     "output_type": "stream",
     "text": [
      " 69%|██████▉   | 1829/2655 [00:34<00:14, 56.52it/s]"
     ]
    },
    {
     "name": "stdout",
     "output_type": "stream",
     "text": [
      "------------------------------------\n",
      "Score: 70.47619047619048%\n",
      "\thsa mirna: hsa-miR-4766-5p\n",
      "\thsa mirna nt length: 21\n",
      "\n",
      "\tath mirna: ath-miR5656\n",
      "\tath mirna nt length: 21\n",
      "\n",
      "------------------------------------\n",
      "Score: 75.23809523809524%\n",
      "\thsa mirna: hsa-miR-4769-5p\n",
      "\thsa mirna nt length: 24\n",
      "\n",
      "\tath mirna: ath-miR5020c\n",
      "\tath mirna nt length: 21\n",
      "\n",
      "------------------------------------\n",
      "Score: 74.44444444444443%\n",
      "\thsa mirna: hsa-miR-4770\n",
      "\thsa mirna nt length: 18\n",
      "\n",
      "\tath mirna: ath-miR5663\n",
      "\tath mirna nt length: 21\n",
      "\n"
     ]
    },
    {
     "name": "stderr",
     "output_type": "stream",
     "text": [
      " 70%|██████▉   | 1853/2655 [00:34<00:14, 55.59it/s]"
     ]
    },
    {
     "name": "stdout",
     "output_type": "stream",
     "text": [
      "------------------------------------\n",
      "Score: 73.80952380952381%\n",
      "\thsa mirna: hsa-miR-4436b\n",
      "\thsa mirna nt length: 22\n",
      "\n",
      "\tath mirna: ath-miR5020c\n",
      "\tath mirna nt length: 21\n",
      "\n"
     ]
    },
    {
     "name": "stderr",
     "output_type": "stream",
     "text": [
      " 70%|███████   | 1871/2655 [00:35<00:14, 55.20it/s]"
     ]
    },
    {
     "name": "stdout",
     "output_type": "stream",
     "text": [
      "------------------------------------\n",
      "Score: 72.77777777777779%\n",
      "\thsa mirna: hsa-miR-4791\n",
      "\thsa mirna nt length: 18\n",
      "\n",
      "\tath mirna: ath-miR864-5p\n",
      "\tath mirna nt length: 21\n",
      "\n",
      "------------------------------------\n",
      "Score: 85.00000000000001%\n",
      "\thsa mirna: hsa-miR-4791\n",
      "\thsa mirna nt length: 18\n",
      "\n",
      "\tath mirna: ath-miR5658\n",
      "\tath mirna nt length: 21\n",
      "\n",
      "------------------------------------\n",
      "Score: 70.95238095238096%\n",
      "\thsa mirna: hsa-miR-4797-5p\n",
      "\thsa mirna nt length: 21\n",
      "\n",
      "\tath mirna: ath-miR841a-5p\n",
      "\tath mirna nt length: 21\n",
      "\n"
     ]
    },
    {
     "name": "stderr",
     "output_type": "stream",
     "text": [
      " 73%|███████▎  | 1937/2655 [00:36<00:13, 54.00it/s]"
     ]
    },
    {
     "name": "stdout",
     "output_type": "stream",
     "text": [
      "------------------------------------\n",
      "Score: 70.0%\n",
      "\thsa mirna: hsa-miR-5187-5p\n",
      "\thsa mirna nt length: 22\n",
      "\n",
      "\tath mirna: ath-miR8180\n",
      "\tath mirna nt length: 19\n",
      "\n"
     ]
    },
    {
     "name": "stderr",
     "output_type": "stream",
     "text": [
      " 74%|███████▍  | 1973/2655 [00:37<00:12, 56.62it/s]"
     ]
    },
    {
     "name": "stdout",
     "output_type": "stream",
     "text": [
      "------------------------------------\n",
      "Score: 70.0%\n",
      "\thsa mirna: hsa-miR-5581\n",
      "\thsa mirna nt length: 22\n",
      "\n",
      "\tath mirna: ath-miR390b\n",
      "\tath mirna nt length: 20\n",
      "\n"
     ]
    },
    {
     "name": "stderr",
     "output_type": "stream",
     "text": [
      " 76%|███████▋  | 2027/2655 [00:38<00:11, 56.26it/s]"
     ]
    },
    {
     "name": "stdout",
     "output_type": "stream",
     "text": [
      "------------------------------------\n",
      "Score: 70.0%\n",
      "\thsa mirna: hsa-miR-5703\n",
      "\thsa mirna nt length: 18\n",
      "\n",
      "\tath mirna: ath-miR8165\n",
      "\tath mirna nt length: 21\n",
      "\n"
     ]
    },
    {
     "name": "stderr",
     "output_type": "stream",
     "text": [
      " 78%|███████▊  | 2075/2655 [00:39<00:10, 56.33it/s]"
     ]
    },
    {
     "name": "stdout",
     "output_type": "stream",
     "text": [
      "------------------------------------\n",
      "Score: 70.0%\n",
      "\thsa mirna: hsa-miR-6165\n",
      "\thsa mirna nt length: 19\n",
      "\n",
      "\tath mirna: ath-miR854e\n",
      "\tath mirna nt length: 21\n",
      "\n",
      "------------------------------------\n",
      "Score: 74.0%\n",
      "\thsa mirna: hsa-miR-6500-5p\n",
      "\thsa mirna nt length: 24\n",
      "\n",
      "\tath mirna: ath-miR390b\n",
      "\tath mirna nt length: 20\n",
      "\n"
     ]
    },
    {
     "name": "stderr",
     "output_type": "stream",
     "text": [
      " 79%|███████▉  | 2093/2655 [00:39<00:10, 51.68it/s]"
     ]
    },
    {
     "name": "stdout",
     "output_type": "stream",
     "text": [
      "------------------------------------\n",
      "Score: 70.47619047619048%\n",
      "\thsa mirna: hsa-miR-6509-5p\n",
      "\thsa mirna nt length: 21\n",
      "\n",
      "\tath mirna: ath-miR398a-5p\n",
      "\tath mirna nt length: 21\n",
      "\n"
     ]
    },
    {
     "name": "stderr",
     "output_type": "stream",
     "text": [
      " 81%|████████  | 2141/2655 [00:40<00:09, 52.66it/s]"
     ]
    },
    {
     "name": "stdout",
     "output_type": "stream",
     "text": [
      "------------------------------------\n",
      "Score: 70.95238095238096%\n",
      "\thsa mirna: hsa-miR-6733-5p\n",
      "\thsa mirna nt length: 22\n",
      "\n",
      "\tath mirna: ath-miR5019\n",
      "\tath mirna nt length: 21\n",
      "\n"
     ]
    },
    {
     "name": "stderr",
     "output_type": "stream",
     "text": [
      " 82%|████████▏ | 2165/2655 [00:40<00:09, 51.81it/s]"
     ]
    },
    {
     "name": "stdout",
     "output_type": "stream",
     "text": [
      "------------------------------------\n",
      "Score: 71.05263157894737%\n",
      "\thsa mirna: hsa-miR-6744-5p\n",
      "\thsa mirna nt length: 19\n",
      "\n",
      "\tath mirna: ath-miR159a\n",
      "\tath mirna nt length: 21\n",
      "\n",
      "------------------------------------\n",
      "Score: 71.05263157894737%\n",
      "\thsa mirna: hsa-miR-6744-5p\n",
      "\thsa mirna nt length: 19\n",
      "\n",
      "\tath mirna: ath-miR159b\n",
      "\tath mirna nt length: 21\n",
      "\n",
      "------------------------------------\n",
      "Score: 70.0%\n",
      "\thsa mirna: hsa-miR-6744-5p\n",
      "\thsa mirna nt length: 19\n",
      "\n",
      "\tath mirna: ath-miR159c\n",
      "\tath mirna nt length: 21\n",
      "\n",
      "------------------------------------\n",
      "Score: 70.0%\n",
      "\thsa mirna: hsa-miR-6744-5p\n",
      "\thsa mirna nt length: 19\n",
      "\n",
      "\tath mirna: ath-miR319c\n",
      "\tath mirna nt length: 21\n",
      "\n"
     ]
    },
    {
     "name": "stderr",
     "output_type": "stream",
     "text": [
      " 84%|████████▎ | 2219/2655 [00:41<00:08, 52.89it/s]"
     ]
    },
    {
     "name": "stdout",
     "output_type": "stream",
     "text": [
      "------------------------------------\n",
      "Score: 70.0%\n",
      "\thsa mirna: hsa-miR-6770-5p\n",
      "\thsa mirna nt length: 24\n",
      "\n",
      "\tath mirna: ath-miR164b-5p\n",
      "\tath mirna nt length: 21\n",
      "\n"
     ]
    },
    {
     "name": "stderr",
     "output_type": "stream",
     "text": [
      " 85%|████████▌ | 2267/2655 [00:42<00:07, 54.61it/s]"
     ]
    },
    {
     "name": "stdout",
     "output_type": "stream",
     "text": [
      "------------------------------------\n",
      "Score: 72.5%\n",
      "\thsa mirna: hsa-miR-6794\n",
      "\thsa mirna nt length: 20\n",
      "\n",
      "\tath mirna: ath-miR156f\n",
      "\tath mirna nt length: 21\n",
      "\n"
     ]
    },
    {
     "name": "stderr",
     "output_type": "stream",
     "text": [
      " 86%|████████▌ | 2285/2655 [00:43<00:07, 51.97it/s]"
     ]
    },
    {
     "name": "stdout",
     "output_type": "stream",
     "text": [
      "------------------------------------\n",
      "Score: 73.00000000000001%\n",
      "\thsa mirna: hsa-miR-6803-5p\n",
      "\thsa mirna nt length: 22\n",
      "\n",
      "\tath mirna: ath-miR8181\n",
      "\tath mirna nt length: 20\n",
      "\n"
     ]
    },
    {
     "name": "stderr",
     "output_type": "stream",
     "text": [
      " 87%|████████▋ | 2303/2655 [00:43<00:07, 50.23it/s]"
     ]
    },
    {
     "name": "stdout",
     "output_type": "stream",
     "text": [
      "------------------------------------\n",
      "Score: 74.0%\n",
      "\thsa mirna: hsa-miR-6812-5p\n",
      "\thsa mirna nt length: 25\n",
      "\n",
      "\tath mirna: ath-miR8181\n",
      "\tath mirna nt length: 20\n",
      "\n"
     ]
    },
    {
     "name": "stderr",
     "output_type": "stream",
     "text": [
      " 88%|████████▊ | 2327/2655 [00:43<00:06, 51.78it/s]"
     ]
    },
    {
     "name": "stdout",
     "output_type": "stream",
     "text": [
      "------------------------------------\n",
      "Score: 77.27272727272727%\n",
      "\thsa mirna: hsa-miR-6826\n",
      "\thsa mirna nt length: 22\n",
      "\n",
      "\tath mirna: ath-miR156b\n",
      "\tath mirna nt length: 23\n",
      "\n",
      "------------------------------------\n",
      "Score: 70.47619047619048%\n",
      "\thsa mirna: hsa-miR-6830\n",
      "\thsa mirna nt length: 23\n",
      "\n",
      "\tath mirna: ath-miR838\n",
      "\tath mirna nt length: 21\n",
      "\n",
      "------------------------------------\n",
      "Score: 70.95238095238095%\n",
      "\thsa mirna: hsa-miR-6831-5p\n",
      "\thsa mirna nt length: 24\n",
      "\n",
      "\tath mirna: ath-miR2937\n",
      "\tath mirna nt length: 21\n",
      "\n"
     ]
    },
    {
     "name": "stderr",
     "output_type": "stream",
     "text": [
      " 89%|████████▉ | 2369/2655 [00:44<00:05, 53.99it/s]"
     ]
    },
    {
     "name": "stdout",
     "output_type": "stream",
     "text": [
      "------------------------------------\n",
      "Score: 70.5%\n",
      "\thsa mirna: hsa-miR-6846-5p\n",
      "\thsa mirna nt length: 22\n",
      "\n",
      "\tath mirna: ath-miR8181\n",
      "\tath mirna nt length: 20\n",
      "\n"
     ]
    },
    {
     "name": "stderr",
     "output_type": "stream",
     "text": [
      " 90%|████████▉ | 2381/2655 [00:44<00:05, 51.80it/s]"
     ]
    },
    {
     "name": "stdout",
     "output_type": "stream",
     "text": [
      "------------------------------------\n",
      "Score: 71.76470588235294%\n",
      "\thsa mirna: hsa-miR-6852\n",
      "\thsa mirna nt length: 17\n",
      "\n",
      "\tath mirna: ath-miR771\n",
      "\tath mirna nt length: 22\n",
      "\n"
     ]
    },
    {
     "name": "stderr",
     "output_type": "stream",
     "text": [
      " 90%|█████████ | 2398/2655 [00:45<00:05, 48.10it/s]"
     ]
    },
    {
     "name": "stdout",
     "output_type": "stream",
     "text": [
      "------------------------------------\n",
      "Score: 79.47368421052632%\n",
      "\thsa mirna: hsa-miR-6769b-5p\n",
      "\thsa mirna nt length: 23\n",
      "\n",
      "\tath mirna: ath-miR8180\n",
      "\tath mirna nt length: 19\n",
      "\n",
      "------------------------------------\n",
      "Score: 72.00000000000001%\n",
      "\thsa mirna: hsa-miR-6769b-5p\n",
      "\thsa mirna nt length: 23\n",
      "\n",
      "\tath mirna: ath-miR8181\n",
      "\tath mirna nt length: 20\n",
      "\n"
     ]
    },
    {
     "name": "stderr",
     "output_type": "stream",
     "text": [
      " 91%|█████████ | 2413/2655 [00:45<00:05, 48.20it/s]"
     ]
    },
    {
     "name": "stdout",
     "output_type": "stream",
     "text": [
      "------------------------------------\n",
      "Score: 71.90476190476191%\n",
      "\thsa mirna: hsa-miR-6868\n",
      "\thsa mirna nt length: 21\n",
      "\n",
      "\tath mirna: ath-miR4221\n",
      "\tath mirna nt length: 22\n",
      "\n"
     ]
    },
    {
     "name": "stderr",
     "output_type": "stream",
     "text": [
      " 91%|█████████▏| 2425/2655 [00:45<00:04, 49.94it/s]"
     ]
    },
    {
     "name": "stdout",
     "output_type": "stream",
     "text": [
      "------------------------------------\n",
      "Score: 70.47619047619048%\n",
      "\thsa mirna: hsa-miR-6874\n",
      "\thsa mirna nt length: 23\n",
      "\n",
      "\tath mirna: ath-miR779.1\n",
      "\tath mirna nt length: 21\n",
      "\n"
     ]
    },
    {
     "name": "stderr",
     "output_type": "stream",
     "text": [
      " 92%|█████████▏| 2443/2655 [00:46<00:04, 50.29it/s]"
     ]
    },
    {
     "name": "stdout",
     "output_type": "stream",
     "text": [
      "------------------------------------\n",
      "Score: 71.42857142857143%\n",
      "\thsa mirna: hsa-miR-6882-5p\n",
      "\thsa mirna nt length: 22\n",
      "\n",
      "\tath mirna: ath-miR1887\n",
      "\tath mirna nt length: 21\n",
      "\n",
      "------------------------------------\n",
      "Score: 71.90476190476191%\n",
      "\thsa mirna: hsa-miR-6884\n",
      "\thsa mirna nt length: 23\n",
      "\n",
      "\tath mirna: ath-miR839-5p\n",
      "\tath mirna nt length: 21\n",
      "\n"
     ]
    },
    {
     "name": "stderr",
     "output_type": "stream",
     "text": [
      " 94%|█████████▍| 2495/2655 [00:47<00:02, 53.35it/s]"
     ]
    },
    {
     "name": "stdout",
     "output_type": "stream",
     "text": [
      "------------------------------------\n",
      "Score: 74.0%\n",
      "\thsa mirna: hsa-miR-7154\n",
      "\thsa mirna nt length: 20\n",
      "\n",
      "\tath mirna: ath-miR8165\n",
      "\tath mirna nt length: 21\n",
      "\n",
      "------------------------------------\n",
      "Score: 71.42857142857143%\n",
      "\thsa mirna: hsa-miR-7158\n",
      "\thsa mirna nt length: 21\n",
      "\n",
      "\tath mirna: ath-miR5656\n",
      "\tath mirna nt length: 21\n",
      "\n",
      "------------------------------------\n",
      "Score: 70.47619047619048%\n",
      "\thsa mirna: hsa-miR-7161\n",
      "\thsa mirna nt length: 28\n",
      "\n",
      "\tath mirna: ath-miR2938\n",
      "\tath mirna nt length: 21\n",
      "\n"
     ]
    },
    {
     "name": "stderr",
     "output_type": "stream",
     "text": [
      " 94%|█████████▍| 2507/2655 [00:47<00:02, 50.82it/s]"
     ]
    },
    {
     "name": "stdout",
     "output_type": "stream",
     "text": [
      "------------------------------------\n",
      "Score: 73.33333333333333%\n",
      "\thsa mirna: hsa-miR-7162-5p\n",
      "\thsa mirna nt length: 18\n",
      "\n",
      "\tath mirna: ath-miR156b\n",
      "\tath mirna nt length: 23\n",
      "\n"
     ]
    },
    {
     "name": "stderr",
     "output_type": "stream",
     "text": [
      " 96%|█████████▌| 2543/2655 [00:48<00:02, 55.76it/s]"
     ]
    },
    {
     "name": "stdout",
     "output_type": "stream",
     "text": [
      "------------------------------------\n",
      "Score: 71.57894736842105%\n",
      "\thsa mirna: hsa-miR-7976\n",
      "\thsa mirna nt length: 19\n",
      "\n",
      "\tath mirna: ath-miR773a\n",
      "\tath mirna nt length: 21\n",
      "\n"
     ]
    },
    {
     "name": "stderr",
     "output_type": "stream",
     "text": [
      " 98%|█████████▊| 2603/2655 [00:49<00:00, 54.92it/s]"
     ]
    },
    {
     "name": "stdout",
     "output_type": "stream",
     "text": [
      "------------------------------------\n",
      "Score: 76.19047619047619%\n",
      "\thsa mirna: hsa-miR-10393-5p\n",
      "\thsa mirna nt length: 25\n",
      "\n",
      "\tath mirna: ath-miR5632-5p\n",
      "\tath mirna nt length: 21\n",
      "\n"
     ]
    },
    {
     "name": "stderr",
     "output_type": "stream",
     "text": [
      " 99%|█████████▉| 2627/2655 [00:49<00:00, 53.13it/s]"
     ]
    },
    {
     "name": "stdout",
     "output_type": "stream",
     "text": [
      "------------------------------------\n",
      "Score: 70.58823529411765%\n",
      "\thsa mirna: hsa-miR-10524-5p\n",
      "\thsa mirna nt length: 17\n",
      "\n",
      "\tath mirna: ath-miR160a\n",
      "\tath mirna nt length: 21\n",
      "\n"
     ]
    },
    {
     "name": "stderr",
     "output_type": "stream",
     "text": [
      "100%|██████████| 2655/2655 [00:50<00:00, 52.75it/s]"
     ]
    },
    {
     "name": "stdout",
     "output_type": "stream",
     "text": [
      "------------------------------------\n",
      "Score: 70.9090909090909%\n",
      "\thsa mirna: hsa-miR-12126\n",
      "\thsa mirna nt length: 24\n",
      "\n",
      "\tath mirna: ath-miR447c\n",
      "\tath mirna nt length: 22\n",
      "\n",
      "------------------------------------\n",
      "Score: 71.66666666666666%\n",
      "\thsa mirna: hsa-miR-12135\n",
      "\thsa mirna nt length: 18\n",
      "\n",
      "\tath mirna: ath-miR2934\n",
      "\tath mirna nt length: 21\n",
      "\n"
     ]
    },
    {
     "name": "stderr",
     "output_type": "stream",
     "text": [
      "\n"
     ]
    }
   ],
   "source": [
    "import gc\n",
    "from Bio import pairwise2\n",
    "from Bio.Seq import Seq\n",
    "from tqdm import tqdm\n",
    "\n",
    "# Alignment for hsa and ath miRNAs.\n",
    "for hsa_mirna_name, hsa_mirna_seq in tqdm(hsa_mature_mirnas_dict.items()):\n",
    "    # Convert Human sequence into Byophyton Sequence object.\n",
    "    hsa_seq = Seq(hsa_mirna_seq)\n",
    "    hsa_len = len(hsa_mirna_seq)\n",
    "    for ath_mirna_seq, ath_mirna_name in ath_mature_mirnas_dict.items():\n",
    "        # Convert A. thaliana sequence into Byophyton Sequence object.\n",
    "        ath_seq = Seq(ath_mirna_seq)\n",
    "        # Performs the alignment.\n",
    "        try:\n",
    "            # Although the algorithm tries all the possible alignments, this part of the code filters and stores only the most relevant one (i.e., minimized gaps and maximized score).\n",
    "            # To speed up the calculations and optimize memory usage, the tested alignments are discarded and only the best score float is retrieved.\n",
    "            # The parameters for the local alignment include:\n",
    "            #   Matching nucleotides     =   +1 score points\n",
    "            #   Mismatching nucleotides  =   -2 score points\n",
    "            #   Opening a gap            =   -0.5 score points\n",
    "            #   Continuing the gap       =   -0.2 score points\n",
    "            # Note: The maximum score is the total length of the shortest sequence.\n",
    "            best_alignment_score = pairwise2.align.localms(hsa_seq, ath_seq,\n",
    "                                                           1, -2,\n",
    "                                                           -.5, -.2,\n",
    "                                                           score_only=True)\n",
    "\n",
    "            # Expresses the score as a percentage based on the shortest sequence.\n",
    "            ath_len = len(ath_mirna_seq)\n",
    "            shortest_len = min(hsa_len, ath_len)\n",
    "            best_alignment_perc = best_alignment_score / shortest_len\n",
    "            # Sets the threshold to select or discard the sequence as valid homologous.\n",
    "            thresold = 0.7\n",
    "            if best_alignment_perc >= thresold:\n",
    "                print(f'------------------------------------\\n'\n",
    "                      f'Score: {best_alignment_perc * 100}%')\n",
    "                print(f'\\thsa mirna: {hsa_mirna_name}'\n",
    "                      f'\\n\\thsa mirna nt length: {len(hsa_seq)}\\n'\n",
    "                      f'\\n\\tath mirna: {ath_mirna_name}'\n",
    "                      f'\\n\\tath mirna nt length: {len(ath_seq)}\\n')\n",
    "\n",
    "        except MemoryError:\n",
    "            print(f'Memory err: hsa-{hsa_mirna_name}\\tath-{ath_mirna_name}')\n",
    "            gc.collect()\n",
    "            continue\n",
    "\n"
   ],
   "metadata": {
    "collapsed": false,
    "ExecuteTime": {
     "end_time": "2023-08-29T14:35:19.515483Z",
     "start_time": "2023-08-29T14:34:29.173521Z"
    }
   }
  },
  {
   "cell_type": "code",
   "execution_count": null,
   "outputs": [],
   "source": [],
   "metadata": {
    "collapsed": false
   }
  },
  {
   "cell_type": "code",
   "execution_count": null,
   "outputs": [],
   "source": [],
   "metadata": {
    "collapsed": false
   }
  },
  {
   "cell_type": "code",
   "execution_count": 11,
   "outputs": [],
   "source": [
    "# Get the all the A. thaliana sequences in the genome.\n",
    "with open('data/ath/GCF_000001735.4_TAIR10.1_rna.fna') as f:\n",
    "    ath_genome = f.read().split('>')[1:]\n",
    "    f.close()\n",
    "\n",
    "ath_genome_dict = {''.join(gene.split('\\n')[1:]): gene.split('\\n')[0].split('),')[0].split(' (')[-1]\n",
    "                   for gene in ath_genome}\n"
   ],
   "metadata": {
    "collapsed": false,
    "ExecuteTime": {
     "end_time": "2023-08-28T12:06:01.021956Z",
     "start_time": "2023-08-28T12:06:01.013629Z"
    }
   }
  },
  {
   "cell_type": "code",
   "execution_count": 22,
   "outputs": [
    {
     "name": "stdout",
     "output_type": "stream",
     "text": [
      "CA2\n",
      "CUL1\n",
      "HIRA\n",
      "GATB\n",
      "ABCA4\n",
      "PEX12\n",
      "ARPC1A\n",
      "PEX11B\n",
      "KAT5\n",
      "PES1\n",
      "MSH2\n",
      "MSH2\n",
      "ARPC1B\n",
      "GPX3\n",
      "GATA6\n",
      "CA2\n",
      "GPX3\n",
      "ABCG4\n",
      "ACAT2\n"
     ]
    }
   ],
   "source": [
    "# Look for all target genes existing in both species. ## TODO: Check if remove cell or not.\n",
    "for hsa_name in hsa_negative_targets:\n",
    "    if hsa_name in ath_genome_dict.values():\n",
    "        print(hsa_name)\n"
   ],
   "metadata": {
    "collapsed": false,
    "ExecuteTime": {
     "end_time": "2023-08-28T12:11:20.717316Z",
     "start_time": "2023-08-28T12:11:20.319431Z"
    }
   }
  },
  {
   "cell_type": "code",
   "execution_count": 17,
   "outputs": [
    {
     "data": {
      "text/plain": "['ITK',\n 'ACAP1',\n 'SLC25A5',\n 'ACAP1',\n 'EZH2',\n 'PSMD8',\n 'GOLGA4',\n 'THRB',\n 'AMT',\n 'CILP',\n 'STXBP1',\n 'NCKIPSD',\n 'CA2',\n 'SCHIP1',\n 'ASIC2',\n 'ARHGEF3',\n 'SLBP',\n 'ARHGEF4',\n 'MPP1',\n 'BSN',\n 'POLR3K',\n 'QDPR',\n 'CHGB',\n 'USP6',\n 'PKM',\n 'LMO2',\n 'INPP5A',\n 'MPP1',\n 'STX16',\n 'NPEPL1',\n 'PPP1R8',\n 'CUL1',\n 'HIRA',\n 'HARS1',\n 'PRKCB',\n 'POLR2E',\n 'GATB',\n 'AZGP1',\n 'GNG11',\n 'FXYD3',\n 'HTR2B',\n 'S100A2',\n 'NPDC1',\n 'PKP1',\n 'SEMG2',\n 'CALCRL',\n 'RPS6KA5',\n 'MAP3K6',\n 'ABCA4',\n 'MUC4',\n 'SLC9A3R2',\n 'FXYD3',\n 'DNAJB2',\n 'ALDOC',\n 'ABR',\n 'ARHGEF9',\n 'AP3B2',\n 'ELOC',\n 'NEFL',\n 'BMP3',\n 'QDPR',\n 'GLUD1',\n 'NRCAM',\n 'HRAS',\n 'NRGN',\n 'ANAPC5',\n 'USF2',\n 'GTF2F2',\n 'GSTM4',\n 'PLIN2',\n 'RGN',\n 'OGDH',\n 'PRKCD',\n 'FOLR2',\n 'VWF',\n 'AGPAT2',\n 'PEX12',\n 'HMBS',\n 'CD37',\n 'ATP5MC1',\n 'HMOX2',\n 'DGCR6',\n 'KCNN4',\n 'ELAC1',\n 'HSPG2',\n 'GAD1',\n 'UBE2V2',\n 'ZNF91',\n 'ARPC1A',\n 'PEX11B',\n 'CRYM',\n 'HLF',\n 'HARS1',\n 'FXYD6',\n 'DUSP8',\n 'FXYD5',\n 'CPA3',\n 'SPI1',\n 'MAGEA1',\n 'PMCH',\n 'ACE2',\n 'B3GNT4',\n 'FLT4',\n 'ACAD8',\n 'SLC1A1',\n 'GRN',\n 'AKR1A1',\n 'USP6',\n 'HYAL1',\n 'GNPAT',\n 'SLC5A2',\n 'KAT5',\n 'MRPS7',\n 'ALDOB',\n 'SLC22A6',\n 'PPP3CC',\n 'KCNJ1',\n 'FDXR',\n 'HEXA',\n 'MMP15',\n 'HOXB5',\n 'HSD17B2',\n 'SCTR',\n 'SLC17A1',\n 'SOX30',\n 'ACAD8',\n 'GCDH',\n 'MAG',\n 'PHKG2',\n 'S100A2',\n 'FCGBP',\n 'CRYBA4',\n 'PTK2B',\n 'TMPRSS5',\n 'WNT5B',\n 'RAMP1',\n 'RAB17',\n 'MPST',\n 'ANXA13',\n 'DPP3',\n 'PITX3',\n 'ACADS',\n 'AMFR',\n 'GCHFR',\n 'NPEPL1',\n 'PES1',\n 'MSH2',\n 'MSH2',\n 'NDUFA1',\n 'TOMM70',\n 'FCGBP',\n 'ARPC1B',\n 'TIMP2',\n 'UBASH3A',\n 'HMGCL',\n 'NDUFA2',\n 'NOTCH3',\n 'APBA1',\n 'MYH4',\n 'NDUFA7',\n 'CRLF1',\n 'FLT1',\n 'MFAP2',\n 'GPX3',\n 'ADM',\n 'MMP14',\n 'S100A8',\n 'EFNB1',\n 'CACNA1C',\n 'GATA6',\n 'PARVA',\n 'SPARCL1',\n 'SPARCL1',\n 'NUP54',\n 'PARVA',\n 'ITGA6',\n 'ISLR',\n 'CD44',\n 'MITF',\n 'E2F6',\n 'COL6A2',\n 'ABL1',\n 'COL16A1',\n 'MFAP2',\n 'SVIL',\n 'CAPN7',\n 'GABRP',\n 'PER3',\n 'NDRG2',\n 'ELMO2',\n 'PSMD7',\n 'CA2',\n 'ATP5MC1',\n 'GOT1',\n 'PROZ',\n 'GPX3',\n 'ERCC6',\n 'STX7',\n 'MTHFD1',\n 'TBX5',\n 'KIFC3',\n 'PGM1',\n 'CACNG1',\n 'ALDH9A1',\n 'PGD',\n 'P2RX4',\n 'RIPPLY3',\n 'MERTK',\n 'BIN1',\n 'POLR2E',\n 'FADS3',\n 'ADAM11',\n 'BCAS2',\n 'GRIN2C',\n 'MPP1',\n 'ABCG4',\n 'KCNQ1',\n 'BAD',\n 'CRABP1',\n 'BSN',\n 'STXBP1',\n 'ACTR1A',\n 'PIGH',\n 'USP6',\n 'MMUT',\n 'CAMKK2',\n 'CNNM4',\n 'CBX6',\n 'LDHB',\n 'ACAT2',\n 'CAD',\n 'MYL2',\n 'AP1M2',\n 'SLC6A7',\n 'ID1']"
     },
     "execution_count": 17,
     "metadata": {},
     "output_type": "execute_result"
    }
   ],
   "source": [
    "hsa_negative_targets"
   ],
   "metadata": {
    "collapsed": false,
    "ExecuteTime": {
     "end_time": "2023-08-28T12:10:06.801828Z",
     "start_time": "2023-08-28T12:10:06.788020Z"
    }
   }
  },
  {
   "cell_type": "markdown",
   "source": [
    "### 6. Model beating the baseline"
   ],
   "metadata": {
    "collapsed": false
   }
  },
  {
   "cell_type": "markdown",
   "source": [
    "### 7. Model overfitting\n"
   ],
   "metadata": {
    "collapsed": false
   }
  },
  {
   "cell_type": "markdown",
   "source": [
    "### 8. Regularization and hyperparameter tuning"
   ],
   "metadata": {
    "collapsed": false
   }
  },
  {
   "cell_type": "code",
   "execution_count": 1,
   "outputs": [
    {
     "name": "stderr",
     "output_type": "stream",
     "text": [
      "2023-08-24 12:46:13.126829: I tensorflow/core/platform/cpu_feature_guard.cc:182] This TensorFlow binary is optimized to use available CPU instructions in performance-critical operations.\n",
      "To enable the following instructions: AVX2 FMA, in other operations, rebuild TensorFlow with the appropriate compiler flags.\n"
     ]
    }
   ],
   "source": [
    "import tensorflow as tf"
   ],
   "metadata": {
    "collapsed": false,
    "ExecuteTime": {
     "end_time": "2023-08-24T10:46:16.752274Z",
     "start_time": "2023-08-24T10:46:11.211401Z"
    }
   }
  },
  {
   "cell_type": "markdown",
   "source": [
    "### References\n",
    "\n",
    "[1] A. Pla, X. Zhong, and S. Rayner, “miRAW: A deep learning-based approach to predict microRNA targets by analyzing whole microRNA transcripts,” PLOS Computational Biology, vol. 14, no. 7, p. e1006185, Jul. 2018, doi: 10.1371/journal.pcbi.1006185.\n",
    "\n",
    "[2] J. O’Brien, H. Hayder, Y. Zayed, and C. Peng, “Overview of MicroRNA Biogenesis, Mechanisms of Actions, and Circulation,” Frontiers in Endocrinology, vol. 9, 2018, Accessed: May 04, 2023. [Online]. Available: https://www.frontiersin.org/articles/10.3389/fendo.2018.00402\n",
    "\n",
    "[3] A. Quillet et al., “Improving Bioinformatics Prediction of microRNA Targets by Ranks Aggregation,” Frontiers in Genetics, vol. 10, 2020, Accessed: May 04, 2023. [Online]. Available: https://www.frontiersin.org/articles/10.3389/fgene.2019.01330\n",
    "\n",
    "[4] H. Nakayashiki, ‘RNA silencing in fungi: Mechanisms and applications’, FEBS Letters, vol. 579, no. 26, pp. 5950–5957, Oct. 2005, doi: 10.1016/j.febslet.2005.08.016.\n",
    "\n",
    "[5] T. Kakati, D. K. Bhattacharyya, J. K. Kalita, and T. M. Norden-Krichmar, ‘DEGnext: classification of differentially expressed genes from RNA-seq data using a convolutional neural network with transfer learning’, BMC Bioinformatics, vol. 23, no. 1, p. 17, Jan. 2022, doi: 10.1186/s12859-021-04527-4.\n",
    "\n",
    "[6] B. Hanczar, F. Zehraoui, T. Issa, and M. Arles, ‘Biological interpretation of deep neural network for phenotype prediction based on gene expression’, BMC Bioinformatics, vol. 21, no. 1, p. 501, Nov. 2020, doi: 10.1186/s12859-020-03836-4.\n",
    "\n",
    "[7] D. Urda, J. Montes-Torres, F. Moreno, L. Franco, and J. M. Jerez, ‘Deep Learning to Analyze RNA-Seq Gene Expression Data’, in Advances in Computational Intelligence, I. Rojas, G. Joya, and A. Catala, Eds., in Lecture Notes in Computer Science, vol. 10306. Cham: Springer International Publishing, 2017, pp. 50–59. doi: 10.1007/978-3-319-59147-6_5.\n",
    "\n",
    "[8] ‘Central Dogma’, Genome.gov, Sep. 14, 2022. https://www.genome.gov/genetics-glossary/Central-Dogma (accessed May 07, 2023).\n",
    "\n",
    "[9] A. Talukder, W. Zhang, X. Li, and H. Hu, “A deep learning method for miRNA/isomiR target detection,” Sci Rep, vol. 12, no. 1, Art. no. 1, Jun. 2022, doi: 10.1038/s41598-022-14890-8.\n",
    "\n",
    "[10] O. P. Gupta, P. Sharma, R. K. Gupta, and I. Sharma, “Current status on role of miRNAs during plant–fungus interaction,” Physiological and Molecular Plant Pathology, vol. 85, pp. 1–7, Jan. 2014, doi: 10.1016/j.pmpp.2013.10.002.\n",
    "\n",
    "[11] E. Marín-González and P. Suárez-López, “‘And yet it moves’: Cell-to-cell and long-distance signaling by plant microRNAs,” Plant Science, vol. 196, pp. 18–30, Nov. 2012, doi: 10.1016/j.plantsci.2012.07.009.\n",
    "\n",
    "[12] T. Siddika and I. U. Heinemann, “Bringing MicroRNAs to Light: Methods for MicroRNA Quantification and Visualization in Live Cells,” Frontiers in Bioengineering and Biotechnology, vol. 8, 2021, Accessed: Apr. 18, 2023. [Online]. Available: https://www.frontiersin.org/articles/10.3389/fbioe.2020.619583\n",
    "\n",
    "[13] J. K. W. Lam, M. Y. T. Chow, Y. Zhang, and S. W. S. Leung, “siRNA Versus miRNA as Therapeutics for Gene Silencing,” Mol Ther Nucleic Acids, vol. 4, no. 9, p. e252, Sep. 2015, doi: 10.1038/mtna.2015.23.\n",
    "\n",
    "[14] “miRTarBase: the experimentally validated microRNA-target interactions database.” https://mirtarbase.cuhk.edu.cn/~miRTarBase/miRTarBase_2022/php/index.php (accessed May 08, 2023).\n",
    "\n",
    "[15] “Gene Regulation,” Genome.gov, Sep. 14, 2022. https://www.genome.gov/genetics-glossary/Gene-Regulation (accessed May 09, 2023).\n",
    "\n",
    "[16] C. Stylianopoulou, “Carbohydrates: Regulation of metabolism,” in Encyclopedia of Human Nutrition (Fourth Edition), B. Caballero, Ed., Oxford: Academic Press, 2023, pp. 126–135. doi: 10.1016/B978-0-12-821848-8.00173-6.\n",
    "\n",
    "[17] L. He and G. J. Hannon, “MicroRNAs: small RNAs with a big role in gene regulation,” Nat Rev Genet, vol. 5, no. 7, Art. no. 7, Jul. 2004, doi: 10.1038/nrg1379.\n",
    "\n",
    "[18] D. Pradhan, A. Kumar, H. Singh, and U. Agrawal, “Chapter 4 - High-throughput sequencing,” in Data Processing Handbook for Complex Biological Data Sources, G. Misra, Ed., Academic Press, 2019, pp. 39–52. doi: 10.1016/B978-0-12-816548-5.00004-6.\n",
    "\n",
    "[19] B. Hanczar, F. Zehraoui, T. Issa, and M. Arles, “Biological interpretation of deep neural network for phenotype prediction based on gene expression,” BMC Bioinformatics, vol. 21, no. 1, p. 501, Nov. 2020, doi: 10.1186/s12859-020-03836-4.\n",
    "\n",
    "[20] A. L. Leitão and F. J. Enguita, “A Structural View of miRNA Biogenesis and Function,” Non-Coding RNA, vol. 8, no. 1, Art. no. 1, Feb. 2022, doi: 10.3390/ncrna8010010.\n",
    "\n",
    "[21] ‘Gene Expression | Learn Science at Scitable’. https://www.nature.com/scitable/topicpage/gene-expression-14121669/ (accessed May 07, 2023).\n",
    "\n",
    "[22] W. Guo, Y. Xu, and X. Feng, ‘DeepMetabolism: A Deep Learning System to Predict Phenotype from Genome Sequencing’. arXiv, May 08, 2017. doi: 10.48550/arXiv.1705.03094.\n",
    "\n",
    "[23] M. Wen, P. Cong, Z. Zhang, H. Lu, and T. Li, ‘DeepMirTar: a deep-learning approach for predicting human miRNA targets’, Bioinformatics, vol. 34, no. 22, pp. 3781–3787, Nov. 2018, doi: 10.1093/bioinformatics/bty424.\n",
    "\n",
    "[24] X. M. Xu and S. G. Møller, ‘The value of Arabidopsis research in understanding human disease states’, Curr Opin Biotechnol, vol. 22, no. 2, pp. 300–307, Apr. 2011, doi: 10.1016/j.copbio.2010.11.007.\n",
    "\n",
    "[25] G. P. Way and C. S. Greene, ‘Extracting a Biologically Relevant Latent Space from Cancer Transcriptomes with Variational Autoencoders’. bioRxiv, p. 174474, Aug. 11, 2017. doi: 10.1101/174474.\n",
    "\n",
    "[26] J. Rocca, ‘Understanding Variational Autoencoders (VAEs)’, Medium, Mar. 21, 2021. https://towardsdatascience.com/understanding-variational-autoencoders-vaes-f70510919f73 (accessed Jun. 07, 2023).\n",
    "\n",
    "[27] C. H. Grønbech, M. F. Vording, P. Timshel, C. K. Sønderby, T. H. Pers, and O. Winther, ‘scVAE: Variational auto-encoders for single-cell gene expression data’. bioRxiv, p. 318295, Oct. 02, 2019. doi: 10.1101/318295.\n",
    "\n",
    "[28] K. Y. Gao, A. Fokoue, H. Luo, A. Iyengar, S. Dey, and P. Zhang, ‘Interpretable Drug Target Prediction Using Deep Neural Representation’, in Proceedings of the Twenty-Seventh International Joint Conference on Artificial Intelligence, Stockholm, Sweden: International Joint Conferences on Artificial Intelligence Organization, Jul. 2018, pp. 3371–3377. doi: 10.24963/ijcai.2018/468.\n",
    "\n",
    "[29] ‘Arabidopsis thaliana (ID 4) - Genome - NCBI’. https://www.ncbi.nlm.nih.gov/genome/4?genome_assembly_id=380024 (accessed Jul. 02, 2023).\n",
    "\n",
    "[30] G. B. Or and I. Veksler-Lublinsky, ‘Comprehensive machine-learning-based analysis of microRNA-target interactions reveals variable transferability of interaction rules across species’. bioRxiv, p. 2021.03.28.437385, Mar. 29, 2021. doi: 10.1101/2021.03.28.437385.\n",
    "\n",
    "[31] ‘Arabidopsis thaliana (ID 4) - Genome - NCBI’. https://www.ncbi.nlm.nih.gov/genome/4?genome_assembly_id=380024 (accessed Jul. 02, 2023).\n",
    "\n",
    "[32] X. Chen, ‘Small RNAs – secrets and surprises of the genome’, Plant J, vol. 61, no. 6, pp. 941–958, Mar. 2010, doi: 10.1111/j.1365-313X.2009.04089.x.\n",
    "\n",
    "[33] S. Bandyopadhyay and R. Mitra, ‘TargetMiner: microRNA target prediction with systematic identification of tissue-specific negative examples’, Bioinformatics, vol. 25, no. 20, pp. 2625–2631, Oct. 2009, doi: 10.1093/bioinformatics/btp503.\n",
    "\n",
    "[34] ‘PmiREN: Plant microRNA Encyclopedia’. https://www.pmiren.com/download (accessed Aug. 04, 2023).\n",
    "\n",
    "[35] ‘refSeq Accession to Gene Symbol Converter - Genomics Biotools’. https://www.biotools.fr/mouse/refseq_symbol_converter (accessed Aug. 07, 2023).\n",
    "\n",
    "[36] ‘miRBase - Downloads’. https://mirbase.org/download/ (accessed Aug. 13, 2023).\n",
    "\n",
    "[37] ‘Genome’, NCBI. https://www.ncbi.nlm.nih.gov/datasets/genome/?taxon=9606 (accessed Aug. 13, 2023).\n",
    "\n",
    "[38] ‘11968211 - Assembly - NCBI’. https://www.ncbi.nlm.nih.gov/assembly/?term=GCF_000001405 (accessed Aug. 13, 2023).\n",
    "\n",
    "[39] B. Murcott, R. J. Pawluk, A. V. Protasio, R. Y. Akinmusola, D. Lastik, and V. L. Hunt, ‘stepRNA: Identification of Dicer cleavage signatures and passenger strand lengths in small RNA sequences’, Frontiers in Bioinformatics, vol. 2, 2022, Accessed: Aug. 18, 2023. [Online].\n",
    "\n",
    "[40] H.-Y. Huang et al., ‘miRTarBase update 2022: an informative resource for experimentally validated miRNA–target interactions’, Nucleic Acids Research, vol. 50, no. D1, pp. D222–D230, Jan. 2022, doi: 10.1093/nar/gkab1079.\n",
    "\n",
    "[41] ‘Bio.pairwise2 module — Biopython 1.75 documentation’. https://biopython.org/docs/1.75/api/Bio.pairwise2.html (accessed Aug. 29, 2023).\n"
   ],
   "metadata": {
    "collapsed": false
   }
  },
  {
   "cell_type": "code",
   "execution_count": null,
   "outputs": [],
   "source": [],
   "metadata": {
    "collapsed": false
   }
  }
 ],
 "metadata": {
  "kernelspec": {
   "display_name": "Python 3",
   "language": "python",
   "name": "python3"
  },
  "language_info": {
   "codemirror_mode": {
    "name": "ipython",
    "version": 2
   },
   "file_extension": ".py",
   "mimetype": "text/x-python",
   "name": "python",
   "nbconvert_exporter": "python",
   "pygments_lexer": "ipython2",
   "version": "2.7.6"
  }
 },
 "nbformat": 4,
 "nbformat_minor": 0
}
